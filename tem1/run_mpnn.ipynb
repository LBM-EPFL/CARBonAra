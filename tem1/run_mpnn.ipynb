{
 "cells": [
  {
   "cell_type": "code",
   "execution_count": 4,
   "metadata": {},
   "outputs": [],
   "source": [
    "import os\n",
    "from glob import glob\n",
    "from tqdm import tqdm\n",
    "\n",
    "import src as sp"
   ]
  },
  {
   "cell_type": "code",
   "execution_count": 5,
   "metadata": {},
   "outputs": [
    {
     "name": "stdout",
     "output_type": "stream",
     "text": [
      "----------------------------------------\n",
      "chain_id_jsonl is NOT loaded\n",
      "----------------------------------------\n",
      "fixed_positions_jsonl is NOT loaded\n",
      "----------------------------------------\n",
      "pssm_jsonl is NOT loaded\n",
      "----------------------------------------\n",
      "omit_AA_jsonl is NOT loaded\n",
      "----------------------------------------\n",
      "bias_AA_jsonl is NOT loaded\n",
      "----------------------------------------\n",
      "tied_positions_jsonl is NOT loaded\n",
      "----------------------------------------\n",
      "bias by residue dictionary is not loaded, or not provided\n",
      "----------------------------------------\n",
      "----------------------------------------\n",
      "Number of edges: 48\n",
      "Training noise level: 0.2A\n",
      "Generating sequences for: TEM-1_nitro_pose-2_wat\n",
      "1 sequences of length 265 generated in 0.5753 seconds\n"
     ]
    }
   ],
   "source": [
    "# parameters\n",
    "pdb_filepath = \"examples/tem1_sub/TEM-1_nitro_pose-2_wat.pdb\"\n",
    "output_dir = \"results/tem1/mpnn\"\n",
    "\n",
    "# run ProteinMPNN\n",
    "command = ' '.join([\n",
    "    \"python\", \"../comparison/ProteinMPNN/protein_mpnn_run.py\",\n",
    "    \"--pdb_path\", pdb_filepath,\n",
    "    \"--out_folder\", output_dir,\n",
    "    \"--num_seq_per_target\", \"1\",\n",
    "    \"--sampling_temp\", \"0.000001\",\n",
    "    \"--seed\", \"37\",\n",
    "    \"--batch_size\", \"1\",\n",
    "])\n",
    "os.system(command)\n",
    "\n",
    "# locate and rename output\n",
    "sid = os.path.basename(pdb_filepath).split('.')[0]\n",
    "fa_filepath = os.path.join(output_dir, \"seqs\", sid+\".fa\")\n",
    "\n",
    "# read file\n",
    "with open(fa_filepath, 'r') as fs:\n",
    "    fa_str = fs.read()\n",
    "    \n",
    "# parse file and update sequence\n",
    "sid = os.path.basename(fa_filepath).split('.')[0]\n",
    "seq = fa_str.split('\\n')[3]\n",
    "\n",
    "# fill gaps\n",
    "seq = ''.join(filter(lambda x: x!='X', seq))\n",
    "    \n",
    "# write corresponding file\n",
    "with open(os.path.join(output_dir, \"mpnn.fasta\"), 'w') as fs:\n",
    "    fs.write('>{}\\n{}'.format(sid,seq))"
   ]
  },
  {
   "cell_type": "code",
   "execution_count": 6,
   "metadata": {},
   "outputs": [
    {
     "data": {
      "text/plain": [
       "263"
      ]
     },
     "execution_count": 6,
     "metadata": {},
     "output_type": "execute_result"
    }
   ],
   "source": [
    "len(seq)"
   ]
  },
  {
   "cell_type": "code",
   "execution_count": null,
   "metadata": {},
   "outputs": [],
   "source": []
  },
  {
   "cell_type": "code",
   "execution_count": null,
   "metadata": {},
   "outputs": [],
   "source": []
  }
 ],
 "metadata": {
  "kernelspec": {
   "display_name": "carbonara",
   "language": "python",
   "name": "python3"
  },
  "language_info": {
   "codemirror_mode": {
    "name": "ipython",
    "version": 3
   },
   "file_extension": ".py",
   "mimetype": "text/x-python",
   "name": "python",
   "nbconvert_exporter": "python",
   "pygments_lexer": "ipython3",
   "version": "3.9.16"
  },
  "orig_nbformat": 4
 },
 "nbformat": 4,
 "nbformat_minor": 2
}
