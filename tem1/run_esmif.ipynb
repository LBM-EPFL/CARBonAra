{
 "cells": [
  {
   "cell_type": "code",
   "execution_count": 5,
   "metadata": {},
   "outputs": [],
   "source": [
    "import os\n",
    "import numpy as np\n",
    "from glob import glob\n",
    "from tqdm import tqdm\n",
    "\n",
    "import esm.inverse_folding"
   ]
  },
  {
   "cell_type": "code",
   "execution_count": 6,
   "metadata": {},
   "outputs": [],
   "source": [
    "# load model\n",
    "model, alphabet = esm.pretrained.esm_if1_gvp4_t16_142M_UR50()\n",
    "model = model.eval()"
   ]
  },
  {
   "cell_type": "code",
   "execution_count": 7,
   "metadata": {},
   "outputs": [],
   "source": [
    "# locate benchark structures\n",
    "pdb_filepath = \"examples/tem1_sub/TEM-1_nitro_pose-2_wat.pdb\"\n",
    "\n",
    "# load structure\n",
    "structure = esm.inverse_folding.util.load_structure(pdb_filepath)\n",
    "coords, seq = esm.inverse_folding.util.extract_coords_from_structure(structure)\n",
    "\n",
    "# sample sequence\n",
    "sampled_seq = model.sample(coords, temperature=1e-6)\n",
    "\n",
    "# save sequence\n",
    "sid = os.path.basename(pdb_filepath).split('.')[0]\n",
    "with open(\"results/tem1/esm-if1.fasta\", 'w') as fs:\n",
    "    fs.write(\">{}\\n{}\".format(\"ColE7\", sampled_seq))"
   ]
  },
  {
   "cell_type": "code",
   "execution_count": 8,
   "metadata": {},
   "outputs": [
    {
     "data": {
      "text/plain": [
       "263"
      ]
     },
     "execution_count": 8,
     "metadata": {},
     "output_type": "execute_result"
    }
   ],
   "source": [
    "len(sampled_seq)"
   ]
  },
  {
   "cell_type": "code",
   "execution_count": null,
   "metadata": {},
   "outputs": [],
   "source": []
  },
  {
   "cell_type": "code",
   "execution_count": null,
   "metadata": {},
   "outputs": [],
   "source": []
  }
 ],
 "metadata": {
  "kernelspec": {
   "display_name": "inverse",
   "language": "python",
   "name": "python3"
  },
  "language_info": {
   "codemirror_mode": {
    "name": "ipython",
    "version": 3
   },
   "file_extension": ".py",
   "mimetype": "text/x-python",
   "name": "python",
   "nbconvert_exporter": "python",
   "pygments_lexer": "ipython3",
   "version": "3.9.16"
  },
  "orig_nbformat": 4,
  "vscode": {
   "interpreter": {
    "hash": "32547dd0a401af0df669910cc18f2b4ebc580c087062db0dc7fdfcb29032b269"
   }
  }
 },
 "nbformat": 4,
 "nbformat_minor": 2
}
