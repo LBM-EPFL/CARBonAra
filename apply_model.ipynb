{
 "cells": [
  {
   "cell_type": "code",
   "execution_count": 2,
   "id": "87ee322a-3011-4a1b-bd30-34da1dcae861",
   "metadata": {},
   "outputs": [],
   "source": [
    "import os\n",
    "import numpy as np\n",
    "import torch as pt\n",
    "from tqdm import tqdm\n",
    "from glob import glob\n",
    "\n",
    "import src as sp\n",
    "import runtime as rt"
   ]
  },
  {
   "cell_type": "code",
   "execution_count": 3,
   "id": "97cccbc6-6305-447a-8906-08f5293309f1",
   "metadata": {},
   "outputs": [],
   "source": [
    "# parameters\n",
    "device = pt.device(\"cpu\")\n",
    "min_id = True \n",
    "min_sim = False \n",
    "r_noise = 0.0\n",
    "n_sample = 1\n",
    "\n",
    "# locate filepaths\n",
    "pdb_filepaths = glob(\"examples/tem1/*.pdb\")\n",
    "\n",
    "# output path\n",
    "output_path = \"examples/tem1/\"\n",
    "\n",
    "# model parameters\n",
    "# r6\n",
    "save_path = \"model/save/s_v6_4_2022-09-16_11-51\"  # virtual Cb & partial\n",
    "#save_path = \"model/save/s_v6_5_2022-09-16_11-52\"  # virtual Cb, partial & noise\n",
    "\n",
    "# r7\n",
    "#save_path = \"model/save/s_v7_0_2023-04-25\"  # partial chain\n",
    "#save_path = \"model/save/s_v7_1_2023-04-25\"  # partial secondary structure\n",
    "#save_path = \"model/save/s_v7_2_2023-04-25\"  # partial chain high coverage\n",
    "\n",
    "# create runtime model \n",
    "model = rt.SequenceModel(save_path, \"model.pt\", device=device)\n",
    "\n",
    "# create confidence mapping\n",
    "conf = rt.ConfidenceMap(\"results/{}_cdf.csv\".format(os.path.basename(save_path)))"
   ]
  },
  {
   "cell_type": "code",
   "execution_count": 4,
   "id": "37b0912f",
   "metadata": {},
   "outputs": [
    {
     "name": "stderr",
     "output_type": "stream",
     "text": [
      "100%|██████████| 1/1 [00:04<00:00,  4.99s/it]"
     ]
    },
    {
     "name": "stdout",
     "output_type": "stream",
     "text": [
      "1JTG_A, 0.553\n"
     ]
    },
    {
     "name": "stderr",
     "output_type": "stream",
     "text": [
      "\n"
     ]
    }
   ],
   "source": [
    "for pdb_filepath in tqdm(pdb_filepaths):\n",
    "    # load structure\n",
    "    structure = rt.load_structure(pdb_filepath)\n",
    "    \n",
    "    # find all chains\n",
    "    cids = [cid.split(':')[0] for cid in np.unique(structure['chain_name'])]\n",
    "    \n",
    "    # design one chain at a time\n",
    "    for cid in cids:\n",
    "        # known chains\n",
    "        m_known = ~np.isin([cn.split(':')[0] for cn in structure['chain_name']], [cid])\n",
    "\n",
    "        # apply noise\n",
    "        r = pt.randn((structure['xyz'].shape[0], n_sample, structure['xyz'].shape[1])).numpy()\n",
    "        structure['xyz'] = np.expand_dims(structure['xyz'],1) + r_noise * r\n",
    "        \n",
    "        # apply model\n",
    "        structure, P, y = model(structure, m_known=m_known)\n",
    "\n",
    "        # get highest average confidence prediction\n",
    "        if len(P.shape) > 2:\n",
    "            C = np.stack([conf(P[i].numpy()) for i in range(P.shape[0])])\n",
    "            iopt = np.argmax(np.mean(np.max(C, axis=2), axis=1))\n",
    "            p = P[iopt]\n",
    "        else:\n",
    "            p = P\n",
    "\n",
    "        # amino acid only\n",
    "        p, y = rt.aa_only(p, y)\n",
    "        \n",
    "        # find residues per chain and known residues\n",
    "        mr_chains, chain_names = rt.chain_masks(structure)\n",
    "        mr_known = pt.any(mr_chains[:,pt.from_numpy(~np.isin(chain_names, [cid]))], dim=1)\n",
    "        \n",
    "        # overwrite prediction\n",
    "        p[mr_known] = y[mr_known]\n",
    "        \n",
    "        if min_id:\n",
    "            # minimize sequence identity\n",
    "            m_choice = (pt.sum(pt.round(p), dim=1) > 1.0)\n",
    "            p[m_choice, pt.argmax(y, dim=1)[m_choice]] = 0.0\n",
    "    \n",
    "        # get sequence\n",
    "        if min_sim:\n",
    "            seqs = [rt.minimize_sequence_similarity(p[mr_chains[:,i]], y[mr_chains[:,i]])[0] for i in range(mr_chains.shape[1])]\n",
    "        else:\n",
    "            seqs = [rt.max_pred_to_seq(p[mr_chains[:,i]]) for i in range(mr_chains.shape[1])]\n",
    "    \n",
    "        # subunits ids\n",
    "        sid = os.path.basename(pdb_filepath).split('.')[0]\n",
    "        if \"_{}\".format(cid) in sid:\n",
    "            tag = sid\n",
    "        else:\n",
    "            tag = \"{}_{}\".format(sid, cid)\n",
    "        \n",
    "        # write fasta\n",
    "        rt.write_fasta(os.path.join(output_path, \"{}.fasta\".format(tag)), ':'.join(seqs), info=os.path.basename(save_path))\n",
    "        \n",
    "        # debug\n",
    "        print(\"{}, {:.3f}\".format(tag, rt.recovery_rate(y, p)))"
   ]
  },
  {
   "cell_type": "code",
   "execution_count": 5,
   "id": "d3b339c1",
   "metadata": {},
   "outputs": [
    {
     "data": {
      "text/plain": [
       "(0.5534351145038168, 0.7480916030534351)"
      ]
     },
     "execution_count": 5,
     "metadata": {},
     "output_type": "execute_result"
    }
   ],
   "source": [
    "seq_ref = rt.max_pred_to_seq(y)\n",
    "rt.sequence_identity(seq_ref, ''.join(seqs)), rt.sequence_similarity(seq_ref, ''.join(seqs))"
   ]
  },
  {
   "cell_type": "code",
   "execution_count": null,
   "id": "aa7252a1",
   "metadata": {},
   "outputs": [],
   "source": []
  },
  {
   "cell_type": "code",
   "execution_count": null,
   "id": "56a5172e",
   "metadata": {},
   "outputs": [],
   "source": []
  }
 ],
 "metadata": {
  "kernelspec": {
   "display_name": "pesto",
   "language": "python",
   "name": "python3"
  },
  "language_info": {
   "codemirror_mode": {
    "name": "ipython",
    "version": 3
   },
   "file_extension": ".py",
   "mimetype": "text/x-python",
   "name": "python",
   "nbconvert_exporter": "python",
   "pygments_lexer": "ipython3",
   "version": "3.9.16"
  },
  "vscode": {
   "interpreter": {
    "hash": "bf85cdb381f6f4fc647273628ca49ec40f7118f44e043724f0e421e3e1c8d444"
   }
  }
 },
 "nbformat": 4,
 "nbformat_minor": 5
}
