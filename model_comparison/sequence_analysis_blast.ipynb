{
 "cells": [
  {
   "cell_type": "code",
   "execution_count": 1,
   "metadata": {},
   "outputs": [],
   "source": [
    "import os\n",
    "import numpy as np\n",
    "import pandas as pd\n",
    "import matplotlib.pyplot as plt\n",
    "from glob import glob\n",
    "from functools import reduce\n",
    "from matplotlib import rcParams\n",
    "\n",
    "import runtime as rt\n",
    "from theme import colors\n",
    "\n",
    "# font parameters\n",
    "rcParams['font.family'] = 'sans-serif'\n",
    "rcParams['font.sans-serif'] = ['Arial']\n",
    "rcParams['font.size'] = 12"
   ]
  },
  {
   "attachments": {},
   "cell_type": "markdown",
   "metadata": {},
   "source": [
    "## Monomer"
   ]
  },
  {
   "cell_type": "code",
   "execution_count": 2,
   "metadata": {},
   "outputs": [],
   "source": [
    "# parameters\n",
    "filepaths = {\n",
    "    \"carbonara_minseqid\": glob(\"benchmark_data/carbonara/monomers/minseqid/*.fasta\"),\n",
    "    \"carbonara_minseqsim\": glob(\"benchmark_data/carbonara/monomers/minseqsim/*.fasta\"),\n",
    "}\n",
    "\n",
    "# read sequences\n",
    "seqs = {}\n",
    "for key in filepaths:\n",
    "    seqs[key] = {}\n",
    "    for fp in filepaths[key]:\n",
    "        name = os.path.basename(fp).split('.')[0]\n",
    "        _, seq = rt.read_fasta(fp)\n",
    "        seqs[key][name] = seq "
   ]
  },
  {
   "cell_type": "code",
   "execution_count": 3,
   "metadata": {},
   "outputs": [],
   "source": [
    "# output one fasta file per method with generated sequences\n",
    "for key in seqs:\n",
    "    with open(\"fasta/{}.fasta\".format(key), 'w') as fs:\n",
    "        #with open(\"fasta/{}_{}.fasta\".format(key,sid), 'w') as fs:\n",
    "        for sid in seqs[key]:\n",
    "            #fs.write(\">{}\\n{}\".format(sid, seqs[key][sid][0]))\n",
    "            fs.write(\">{}\\n{}\\n\\n\".format(sid, seqs[key][sid][0]))"
   ]
  },
  {
   "cell_type": "code",
   "execution_count": 4,
   "metadata": {},
   "outputs": [
    {
     "data": {
      "text/plain": [
       "{'a'}"
      ]
     },
     "execution_count": 4,
     "metadata": {},
     "output_type": "execute_result"
    }
   ],
   "source": [
    "sids_set = set()\n",
    "sids_set.add('a')\n",
    "sids_set"
   ]
  },
  {
   "cell_type": "code",
   "execution_count": 5,
   "metadata": {},
   "outputs": [],
   "source": [
    "# parse blastp results\n",
    "blast_results = []\n",
    "for tab_filepath in glob(\"fasta/*.tab\"):\n",
    "    sids_set = set()\n",
    "    with open(tab_filepath, 'r') as fs:\n",
    "        for line in fs:\n",
    "            if not line.startswith('#'):\n",
    "                if line.split('\\t')[0] not in sids_set:\n",
    "                    blast_results.append({\n",
    "                        'method': tab_filepath.replace(\"nomatch_\", \"\").split('/')[-1].split('.')[0],\n",
    "                        'sid': line.split('\\t')[0],\n",
    "                        'evalue': float(line.split('\\t')[10]),\n",
    "                    })\n",
    "                    sids_set.add(line.split('\\t')[0])\n",
    "\n",
    "dfb = pd.DataFrame(blast_results)"
   ]
  },
  {
   "cell_type": "code",
   "execution_count": 6,
   "metadata": {},
   "outputs": [
    {
     "data": {
      "text/html": [
       "<div>\n",
       "<style scoped>\n",
       "    .dataframe tbody tr th:only-of-type {\n",
       "        vertical-align: middle;\n",
       "    }\n",
       "\n",
       "    .dataframe tbody tr th {\n",
       "        vertical-align: top;\n",
       "    }\n",
       "\n",
       "    .dataframe thead th {\n",
       "        text-align: right;\n",
       "    }\n",
       "</style>\n",
       "<table border=\"1\" class=\"dataframe\">\n",
       "  <thead>\n",
       "    <tr style=\"text-align: right;\">\n",
       "      <th></th>\n",
       "      <th>method</th>\n",
       "      <th>sid</th>\n",
       "      <th>evalue</th>\n",
       "    </tr>\n",
       "  </thead>\n",
       "  <tbody>\n",
       "    <tr>\n",
       "      <th>0</th>\n",
       "      <td>carbonara_minseqid</td>\n",
       "      <td>4CRP_A</td>\n",
       "      <td>2.540000e-07</td>\n",
       "    </tr>\n",
       "    <tr>\n",
       "      <th>1</th>\n",
       "      <td>carbonara_minseqid</td>\n",
       "      <td>4JJC_A</td>\n",
       "      <td>6.130000e-05</td>\n",
       "    </tr>\n",
       "    <tr>\n",
       "      <th>2</th>\n",
       "      <td>carbonara_minseqid</td>\n",
       "      <td>4J9F_A</td>\n",
       "      <td>2.720000e-06</td>\n",
       "    </tr>\n",
       "    <tr>\n",
       "      <th>3</th>\n",
       "      <td>carbonara_minseqid</td>\n",
       "      <td>1ZH8_A</td>\n",
       "      <td>5.500000e-48</td>\n",
       "    </tr>\n",
       "    <tr>\n",
       "      <th>4</th>\n",
       "      <td>carbonara_minseqid</td>\n",
       "      <td>3EG1_B</td>\n",
       "      <td>2.050000e-06</td>\n",
       "    </tr>\n",
       "    <tr>\n",
       "      <th>...</th>\n",
       "      <td>...</td>\n",
       "      <td>...</td>\n",
       "      <td>...</td>\n",
       "    </tr>\n",
       "    <tr>\n",
       "      <th>279</th>\n",
       "      <td>carbonara_minseqsim</td>\n",
       "      <td>1P1A_A</td>\n",
       "      <td>6.500000e+00</td>\n",
       "    </tr>\n",
       "    <tr>\n",
       "      <th>280</th>\n",
       "      <td>carbonara_minseqsim</td>\n",
       "      <td>2KKJ_A</td>\n",
       "      <td>1.100000e+01</td>\n",
       "    </tr>\n",
       "    <tr>\n",
       "      <th>281</th>\n",
       "      <td>carbonara_minseqsim</td>\n",
       "      <td>5CH4_G</td>\n",
       "      <td>1.100000e+01</td>\n",
       "    </tr>\n",
       "    <tr>\n",
       "      <th>282</th>\n",
       "      <td>carbonara_minseqsim</td>\n",
       "      <td>5LV6_A</td>\n",
       "      <td>2.000000e+01</td>\n",
       "    </tr>\n",
       "    <tr>\n",
       "      <th>283</th>\n",
       "      <td>carbonara_minseqsim</td>\n",
       "      <td>6GQ9_A</td>\n",
       "      <td>2.500000e+00</td>\n",
       "    </tr>\n",
       "  </tbody>\n",
       "</table>\n",
       "<p>284 rows × 3 columns</p>\n",
       "</div>"
      ],
      "text/plain": [
       "                  method     sid        evalue\n",
       "0     carbonara_minseqid  4CRP_A  2.540000e-07\n",
       "1     carbonara_minseqid  4JJC_A  6.130000e-05\n",
       "2     carbonara_minseqid  4J9F_A  2.720000e-06\n",
       "3     carbonara_minseqid  1ZH8_A  5.500000e-48\n",
       "4     carbonara_minseqid  3EG1_B  2.050000e-06\n",
       "..                   ...     ...           ...\n",
       "279  carbonara_minseqsim  1P1A_A  6.500000e+00\n",
       "280  carbonara_minseqsim  2KKJ_A  1.100000e+01\n",
       "281  carbonara_minseqsim  5CH4_G  1.100000e+01\n",
       "282  carbonara_minseqsim  5LV6_A  2.000000e+01\n",
       "283  carbonara_minseqsim  6GQ9_A  2.500000e+00\n",
       "\n",
       "[284 rows x 3 columns]"
      ]
     },
     "execution_count": 6,
     "metadata": {},
     "output_type": "execute_result"
    }
   ],
   "source": [
    "dfb.to_csv(\"results/monomers_sequence_evalue.csv\", index=False)\n",
    "dfb"
   ]
  },
  {
   "cell_type": "code",
   "execution_count": null,
   "metadata": {},
   "outputs": [],
   "source": []
  }
 ],
 "metadata": {
  "kernelspec": {
   "display_name": "pesto",
   "language": "python",
   "name": "python3"
  },
  "language_info": {
   "codemirror_mode": {
    "name": "ipython",
    "version": 3
   },
   "file_extension": ".py",
   "mimetype": "text/x-python",
   "name": "python",
   "nbconvert_exporter": "python",
   "pygments_lexer": "ipython3",
   "version": "3.9.16"
  },
  "orig_nbformat": 4,
  "vscode": {
   "interpreter": {
    "hash": "bf85cdb381f6f4fc647273628ca49ec40f7118f44e043724f0e421e3e1c8d444"
   }
  }
 },
 "nbformat": 4,
 "nbformat_minor": 2
}
