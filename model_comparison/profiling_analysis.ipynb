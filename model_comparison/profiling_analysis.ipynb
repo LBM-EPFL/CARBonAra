{
 "cells": [
  {
   "cell_type": "code",
   "execution_count": 1,
   "metadata": {},
   "outputs": [],
   "source": [
    "import numpy as np\n",
    "import pandas as pd\n",
    "import matplotlib.pyplot as plt\n",
    "from matplotlib import rcParams\n",
    "\n",
    "from src.theme import colors\n",
    "\n",
    "# font parameters\n",
    "rcParams['font.family'] = 'sans-serif'\n",
    "rcParams['font.sans-serif'] = ['Arial']\n",
    "rcParams['font.size'] = 12"
   ]
  },
  {
   "cell_type": "code",
   "execution_count": 2,
   "metadata": {},
   "outputs": [
    {
     "data": {
      "text/html": [
       "<div>\n",
       "<style scoped>\n",
       "    .dataframe tbody tr th:only-of-type {\n",
       "        vertical-align: middle;\n",
       "    }\n",
       "\n",
       "    .dataframe tbody tr th {\n",
       "        vertical-align: top;\n",
       "    }\n",
       "\n",
       "    .dataframe thead th {\n",
       "        text-align: right;\n",
       "    }\n",
       "</style>\n",
       "<table border=\"1\" class=\"dataframe\">\n",
       "  <thead>\n",
       "    <tr style=\"text-align: right;\">\n",
       "      <th></th>\n",
       "      <th>carbonara</th>\n",
       "      <th>esm</th>\n",
       "      <th>mpnn</th>\n",
       "    </tr>\n",
       "    <tr>\n",
       "      <th>sid</th>\n",
       "      <th></th>\n",
       "      <th></th>\n",
       "      <th></th>\n",
       "    </tr>\n",
       "  </thead>\n",
       "  <tbody>\n",
       "    <tr>\n",
       "      <th>2KKJ_A</th>\n",
       "      <td>0.927906</td>\n",
       "      <td>0.829108</td>\n",
       "      <td>2.634757</td>\n",
       "    </tr>\n",
       "    <tr>\n",
       "      <th>6A5I_A</th>\n",
       "      <td>1.032253</td>\n",
       "      <td>0.936951</td>\n",
       "      <td>2.636962</td>\n",
       "    </tr>\n",
       "    <tr>\n",
       "      <th>3EG1_B</th>\n",
       "      <td>0.855130</td>\n",
       "      <td>0.778011</td>\n",
       "      <td>2.603624</td>\n",
       "    </tr>\n",
       "    <tr>\n",
       "      <th>1KKL_I</th>\n",
       "      <td>1.354653</td>\n",
       "      <td>1.217336</td>\n",
       "      <td>2.688869</td>\n",
       "    </tr>\n",
       "    <tr>\n",
       "      <th>3N29_A</th>\n",
       "      <td>6.609799</td>\n",
       "      <td>6.075834</td>\n",
       "      <td>3.552979</td>\n",
       "    </tr>\n",
       "    <tr>\n",
       "      <th>...</th>\n",
       "      <td>...</td>\n",
       "      <td>...</td>\n",
       "      <td>...</td>\n",
       "    </tr>\n",
       "    <tr>\n",
       "      <th>6KBR_C</th>\n",
       "      <td>0.867224</td>\n",
       "      <td>0.755901</td>\n",
       "      <td>2.624482</td>\n",
       "    </tr>\n",
       "    <tr>\n",
       "      <th>4E5S_A</th>\n",
       "      <td>5.777747</td>\n",
       "      <td>5.035917</td>\n",
       "      <td>3.399477</td>\n",
       "    </tr>\n",
       "    <tr>\n",
       "      <th>4MI1_A</th>\n",
       "      <td>5.916640</td>\n",
       "      <td>5.035800</td>\n",
       "      <td>3.409739</td>\n",
       "    </tr>\n",
       "    <tr>\n",
       "      <th>3T5M_A</th>\n",
       "      <td>6.011276</td>\n",
       "      <td>5.274806</td>\n",
       "      <td>3.428269</td>\n",
       "    </tr>\n",
       "    <tr>\n",
       "      <th>4KI5_M</th>\n",
       "      <td>2.612824</td>\n",
       "      <td>2.235039</td>\n",
       "      <td>2.919908</td>\n",
       "    </tr>\n",
       "  </tbody>\n",
       "</table>\n",
       "<p>142 rows × 3 columns</p>\n",
       "</div>"
      ],
      "text/plain": [
       "        carbonara       esm      mpnn\n",
       "sid                                  \n",
       "2KKJ_A   0.927906  0.829108  2.634757\n",
       "6A5I_A   1.032253  0.936951  2.636962\n",
       "3EG1_B   0.855130  0.778011  2.603624\n",
       "1KKL_I   1.354653  1.217336  2.688869\n",
       "3N29_A   6.609799  6.075834  3.552979\n",
       "...           ...       ...       ...\n",
       "6KBR_C   0.867224  0.755901  2.624482\n",
       "4E5S_A   5.777747  5.035917  3.399477\n",
       "4MI1_A   5.916640  5.035800  3.409739\n",
       "3T5M_A   6.011276  5.274806  3.428269\n",
       "4KI5_M   2.612824  2.235039  2.919908\n",
       "\n",
       "[142 rows x 3 columns]"
      ]
     },
     "execution_count": 2,
     "metadata": {},
     "output_type": "execute_result"
    }
   ],
   "source": [
    "dfp = pd.concat([\n",
    "    pd.read_csv(\"results/profiling_carbonara.csv\", index_col=0, names=['sid','carbonara'], header=0),\n",
    "    pd.read_csv(\"results/profiling_esm.csv\", index_col=0, names=['sid','esm'], header=0),\n",
    "    pd.read_csv(\"results/profiling_mpnn.csv\", index_col=0, names=['sid','mpnn'], header=0)\n",
    "], axis=1)\n",
    "dfp"
   ]
  },
  {
   "cell_type": "code",
   "execution_count": 3,
   "metadata": {},
   "outputs": [],
   "source": [
    "# insert sequence length info\n",
    "for sid in dfp.index.values:\n",
    "    # define fasta filepath\n",
    "    fasta_filepath = f\"benchmark_data/wt/monomers/{sid}.fasta\"\n",
    "\n",
    "    # read fasta file\n",
    "    with open(fasta_filepath, 'r') as fs:\n",
    "        raw_str = fs.read()\n",
    "\n",
    "    # extract and store sequence length\n",
    "    dfp.loc[sid, 'seq_len'] = len(raw_str.split('\\n')[-1])"
   ]
  },
  {
   "cell_type": "code",
   "execution_count": 4,
   "metadata": {},
   "outputs": [
    {
     "data": {
      "text/plain": [
       "carbonara      3.078778\n",
       "esm            2.719716\n",
       "mpnn           2.987071\n",
       "seq_len      177.246479\n",
       "dtype: float64"
      ]
     },
     "execution_count": 4,
     "metadata": {},
     "output_type": "execute_result"
    }
   ],
   "source": [
    "dfp.mean()"
   ]
  },
  {
   "cell_type": "code",
   "execution_count": 5,
   "metadata": {},
   "outputs": [
    {
     "data": {
      "image/png": "[encoded data removed]",
      "text/plain": [
       "<Figure size 500x300 with 1 Axes>"
      ]
     },
     "metadata": {},
     "output_type": "display_data"
    }
   ],
   "source": [
    "plt.figure(figsize=(5,3))\n",
    "plt.hist(dfp.values, bins=100, histtype='step', label=['carbonara', 'esm', 'mpnn'])\n",
    "plt.legend(loc='best')\n",
    "plt.xlabel('time [s]')\n",
    "plt.ylabel('count')\n",
    "plt.show()"
   ]
  },
  {
   "cell_type": "code",
   "execution_count": 11,
   "metadata": {},
   "outputs": [
    {
     "data": {
      "image/png": "[encoded data removed]",
      "text/plain": [
       "<Figure size 400x300 with 1 Axes>"
      ]
     },
     "metadata": {},
     "output_type": "display_data"
    }
   ],
   "source": [
    "labels = [\"CARBonAra\", \"ESM-IF1\", \"ProteinMPNN\"]\n",
    "\n",
    "x = dfp['seq_len'].values\n",
    "Y = dfp[['carbonara', 'esm', 'mpnn']].values\n",
    "\n",
    "plt.figure(figsize=(4,3))\n",
    "for i in range(Y.shape[1]):\n",
    "    plt.plot(x, Y[:,i], '.', label=labels[i], color=colors[i])\n",
    "plt.legend(loc='best')\n",
    "plt.ylabel('time [s]')\n",
    "plt.xlabel('sequence length')\n",
    "plt.xlim(30.0, 500.0)\n",
    "plt.ylim(0.0, 10.0)\n",
    "plt.show()"
   ]
  },
  {
   "cell_type": "code",
   "execution_count": null,
   "metadata": {},
   "outputs": [],
   "source": []
  },
  {
   "cell_type": "code",
   "execution_count": null,
   "metadata": {},
   "outputs": [],
   "source": []
  },
  {
   "cell_type": "code",
   "execution_count": null,
   "metadata": {},
   "outputs": [],
   "source": []
  },
  {
   "cell_type": "code",
   "execution_count": null,
   "metadata": {},
   "outputs": [],
   "source": []
  }
 ],
 "metadata": {
  "kernelspec": {
   "display_name": "carbonara",
   "language": "python",
   "name": "python3"
  },
  "language_info": {
   "codemirror_mode": {
    "name": "ipython",
    "version": 3
   },
   "file_extension": ".py",
   "mimetype": "text/x-python",
   "name": "python",
   "nbconvert_exporter": "python",
   "pygments_lexer": "ipython3",
   "version": "3.9.16"
  },
  "orig_nbformat": 4
 },
 "nbformat": 4,
 "nbformat_minor": 2
}
