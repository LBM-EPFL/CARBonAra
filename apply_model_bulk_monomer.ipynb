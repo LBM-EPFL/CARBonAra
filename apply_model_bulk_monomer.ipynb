{
 "cells": [
  {
   "cell_type": "code",
   "execution_count": 1,
   "id": "87ee322a-3011-4a1b-bd30-34da1dcae861",
   "metadata": {},
   "outputs": [],
   "source": [
    "import os\n",
    "import json\n",
    "import numpy as np\n",
    "import torch as pt\n",
    "import pandas as pd\n",
    "import matplotlib.pyplot as plt\n",
    "from tqdm import tqdm\n",
    "from glob import glob\n",
    "\n",
    "import src as sp\n",
    "import src.runtime as rt"
   ]
  },
  {
   "cell_type": "code",
   "execution_count": 2,
   "id": "97cccbc6-6305-447a-8906-08f5293309f1",
   "metadata": {},
   "outputs": [],
   "source": [
    "# parameters\n",
    "device = pt.device(\"cpu\")\n",
    "\n",
    "# locate filepaths\n",
    "pdb_filepaths = glob(\"examples/tem1/*.pdb\")\n",
    "pdb_filepaths = [fp for fp in pdb_filepaths if \"_bb.pdb\" not in fp]\n",
    "\n",
    "# model parameters\n",
    "save_path = \"model/save/s_v6_4_2022-09-16_11-51\"  # virtual Cb & partial\n",
    "\n",
    "# create dataset\n",
    "dataset = rt.StructuresDataset(pdb_filepaths)\n",
    "\n",
    "# create runtime model \n",
    "model = rt.SequenceModel(save_path, \"model.pt\", device=device)\n",
    "\n",
    "# create confidence mapping\n",
    "#conf = rt.ConfidenceMap(\"results/{}_cdf.csv\".format(os.path.basename(save_path)))"
   ]
  },
  {
   "cell_type": "code",
   "execution_count": 3,
   "id": "9c9ac916",
   "metadata": {},
   "outputs": [
    {
     "name": "stderr",
     "output_type": "stream",
     "text": [
      "100%|██████████| 1/1 [00:08<00:00,  8.34s/it]\n"
     ]
    },
    {
     "data": {
      "text/html": [
       "<div>\n",
       "<style scoped>\n",
       "    .dataframe tbody tr th:only-of-type {\n",
       "        vertical-align: middle;\n",
       "    }\n",
       "\n",
       "    .dataframe tbody tr th {\n",
       "        vertical-align: top;\n",
       "    }\n",
       "\n",
       "    .dataframe thead th {\n",
       "        text-align: right;\n",
       "    }\n",
       "</style>\n",
       "<table border=\"1\" class=\"dataframe\">\n",
       "  <thead>\n",
       "    <tr style=\"text-align: right;\">\n",
       "      <th></th>\n",
       "      <th>pdb_filepath</th>\n",
       "      <th>chain_name</th>\n",
       "      <th>recovery_rate</th>\n",
       "      <th>maximum_recovery_rate</th>\n",
       "      <th>average_multiplicity</th>\n",
       "      <th>sequence_similarity</th>\n",
       "    </tr>\n",
       "  </thead>\n",
       "  <tbody>\n",
       "    <tr>\n",
       "      <th>0</th>\n",
       "      <td>examples/tem1/1JTG.pdb</td>\n",
       "      <td>A</td>\n",
       "      <td>0.557252</td>\n",
       "      <td>0.881679</td>\n",
       "      <td>3.393130</td>\n",
       "      <td>0.751908</td>\n",
       "    </tr>\n",
       "    <tr>\n",
       "      <th>1</th>\n",
       "      <td>examples/tem1/1JTG.pdb</td>\n",
       "      <td>B</td>\n",
       "      <td>0.557576</td>\n",
       "      <td>0.890909</td>\n",
       "      <td>3.448485</td>\n",
       "      <td>0.709091</td>\n",
       "    </tr>\n",
       "  </tbody>\n",
       "</table>\n",
       "</div>"
      ],
      "text/plain": [
       "             pdb_filepath chain_name  recovery_rate  maximum_recovery_rate  \\\n",
       "0  examples/tem1/1JTG.pdb          A       0.557252               0.881679   \n",
       "1  examples/tem1/1JTG.pdb          B       0.557576               0.890909   \n",
       "\n",
       "   average_multiplicity  sequence_similarity  \n",
       "0              3.393130             0.751908  \n",
       "1              3.448485             0.709091  "
      ]
     },
     "execution_count": 3,
     "metadata": {},
     "output_type": "execute_result"
    }
   ],
   "source": [
    "# parameters\n",
    "r_noise = 0.0\n",
    "\n",
    "# apply model on all subunits  alone\n",
    "results = []\n",
    "for i in tqdm(range(len(dataset))):\n",
    "    # load structure\n",
    "    structure, pdb_filepath = dataset[i]\n",
    "    \n",
    "    # split chains\n",
    "    subunits = sp.split_by_chain(structure)\n",
    "    \n",
    "    # for each subunits\n",
    "    for cid in subunits:\n",
    "        # get chain name\n",
    "        chain_name = cid.split(':')[0]\n",
    "\n",
    "        # apply model\n",
    "        subunit = subunits[cid]\n",
    "        subunit['chain_name'] = np.array([cid]*subunit['xyz'].shape[0])\n",
    "        subunit, p, y = model(subunit)\n",
    "        p, y = rt.aa_only(p, y)\n",
    "\n",
    "        # compute confidence probability\n",
    "        #c = pt.from_numpy(conf(p.numpy()))\n",
    "        #h = c / pt.sum(c, dim=1).reshape(-1,1)\n",
    "        #kstar = rt.kstar(c)\n",
    "        \n",
    "        # get sequence\n",
    "        seq_ref = rt.max_pred_to_seq(y)\n",
    "        seq = rt.max_pred_to_seq(p)\n",
    "        \n",
    "        # write fasta\n",
    "        rt.write_fasta(pdb_filepath[:-4]+\"_{}_p.fasta\".format(chain_name), seq, info=os.path.basename(save_path))\n",
    "        \n",
    "        # store processed input structure\n",
    "        sp.save_pdb({cid:subunit}, pdb_filepath[:-4]+\"_{}_bb.pdb\".format(chain_name))\n",
    "\n",
    "        # assess predictions\n",
    "        results.append({\n",
    "            \"pdb_filepath\": pdb_filepath,\n",
    "            \"chain_name\": chain_name,\n",
    "            \"recovery_rate\": rt.recovery_rate(y, p).numpy().item(),\n",
    "            \"maximum_recovery_rate\": rt.maximum_recovery_rate(y, p).numpy().item(),\n",
    "            \"average_multiplicity\": rt.average_multiplicity(p).numpy().item(),\n",
    "            \"sequence_similarity\": rt.sequence_similarity(seq_ref, seq),\n",
    "        })\n",
    "    \n",
    "# pack results\n",
    "df = pd.DataFrame(results)\n",
    "df"
   ]
  },
  {
   "cell_type": "code",
   "execution_count": null,
   "id": "e479fcc1",
   "metadata": {},
   "outputs": [],
   "source": []
  },
  {
   "cell_type": "code",
   "execution_count": null,
   "id": "3097f02d-40de-4e15-a498-899b53f37f3a",
   "metadata": {},
   "outputs": [],
   "source": []
  }
 ],
 "metadata": {
  "kernelspec": {
   "display_name": "pesto",
   "language": "python",
   "name": "python3"
  },
  "language_info": {
   "codemirror_mode": {
    "name": "ipython",
    "version": 3
   },
   "file_extension": ".py",
   "mimetype": "text/x-python",
   "name": "python",
   "nbconvert_exporter": "python",
   "pygments_lexer": "ipython3",
   "version": "3.9.16"
  },
  "vscode": {
   "interpreter": {
    "hash": "bf85cdb381f6f4fc647273628ca49ec40f7118f44e043724f0e421e3e1c8d444"
   }
  }
 },
 "nbformat": 4,
 "nbformat_minor": 5
}
