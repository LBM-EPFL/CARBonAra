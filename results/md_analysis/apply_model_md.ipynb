{
 "cells": [
  {
   "cell_type": "code",
   "execution_count": 1,
   "id": "87ee322a-3011-4a1b-bd30-34da1dcae861",
   "metadata": {},
   "outputs": [],
   "source": [
    "import os\n",
    "import sys\n",
    "import importlib\n",
    "import numpy as np\n",
    "import torch as pt\n",
    "import pandas as pd\n",
    "import matplotlib.pyplot as plt\n",
    "from tqdm import tqdm\n",
    "from glob import glob\n",
    "from matplotlib import rcParams\n",
    "\n",
    "import src as sp\n",
    "import runtime as rt\n",
    "import mdtraj_utils as mdu\n",
    "from theme import colors\n",
    "\n",
    "# font parameters\n",
    "rcParams['font.family'] = 'sans-serif'\n",
    "rcParams['font.sans-serif'] = ['Arial']\n",
    "rcParams['font.size'] = 14"
   ]
  },
  {
   "cell_type": "code",
   "execution_count": 2,
   "id": "984c1511",
   "metadata": {},
   "outputs": [],
   "source": [
    "# parameters\n",
    "device = pt.device(\"cuda\")\n",
    "\n",
    "# model parameters\n",
    "# r6\n",
    "save_path = \"model/save/s_v6_4_2022-09-16_11-51\"  # virtual Cb & partial\n",
    "#save_path = \"model/save/s_v6_5_2022-09-16_11-52\"  # virtual Cb, partial & noise\n",
    "\n",
    "# r7\n",
    "#save_path = \"model/save/s_v7_0_2023-04-25\"  # partial chain\n",
    "#save_path = \"model/save/s_v7_1_2023-04-25\"  # partial secondary structure\n",
    "#save_path = \"model/save/s_v7_2_2023-04-25\"  # partial chain high coverage\n",
    "\n",
    "# create models\n",
    "model = rt.SequenceModel(save_path, \"model.pt\", device=device)\n",
    "\n",
    "# create confidence mapping\n",
    "#conf = rt.ConfidenceMap(\"results/{}_cdf.csv\".format(os.path.basename(save_path)))"
   ]
  },
  {
   "cell_type": "code",
   "execution_count": 3,
   "id": "196644f4",
   "metadata": {},
   "outputs": [],
   "source": [
    "# parameters\n",
    "pdbids = [\"1JTG\",\"1CLV\",\"1Z0K\",\"1AK4\",\"1R6Q\",\"1D6R\",\"2I25\",\"3F1P\",\"1R0R\",\"1E96\",\"1GPW\",\"1RKE\",\"1FLE\",\"2O3B\",\"3SGQ\",\"1ZHH\",\"1CGI\",\"2UUY\",\"2HQS\",\"2OOB\"]\n",
    "mdids = [\"uR\", \"uL\", \"bR\", \"bL\", \"C\"]\n",
    "\n",
    "# setup data connector\n",
    "dc = mdu.data.DataConnector(\"database\")"
   ]
  },
  {
   "cell_type": "code",
   "execution_count": 4,
   "id": "7761c16e",
   "metadata": {},
   "outputs": [],
   "source": [
    "# parameters\n",
    "n_skip = 100\n",
    "\n",
    "# process trajectorie\n",
    "results = {}\n",
    "for pdbid in pdbids:\n",
    "    # for each md\n",
    "    for mdid in mdids:\n",
    "        # check if results exist\n",
    "        pt_filepath = \"results/{}:{}.pt\".format(pdbid, mdid)\n",
    "        if not os.path.exists(pt_filepath):\n",
    "            # debug print\n",
    "            print(pdbid, mdid)\n",
    "\n",
    "            # load trajectory\n",
    "            dc.load_trajectory(pdbid, mdid)\n",
    "\n",
    "            # convert to structure\n",
    "            structure = rt.traj_to_struct(dc[pdbid][mdid]['traj'])\n",
    "            \n",
    "            # skips frames\n",
    "            structure['xyz'] = structure['xyz'][:,::n_skip]\n",
    "\n",
    "            # apply model on full structure\n",
    "            _, P, y = model(structure)\n",
    "\n",
    "            # save results\n",
    "            pt.save(pt.cat([y.unsqueeze(0),P], dim=0), pt_filepath)\n",
    "\n",
    "            # unload data\n",
    "            dc.unload_md(pdbid, mdid)\n",
    "        \n",
    "    # unload data\n",
    "    dc.unload_pdb(pdbid)"
   ]
  },
  {
   "cell_type": "code",
   "execution_count": null,
   "id": "8df7f505",
   "metadata": {},
   "outputs": [],
   "source": []
  },
  {
   "cell_type": "code",
   "execution_count": null,
   "id": "5395fbfb",
   "metadata": {},
   "outputs": [],
   "source": []
  },
  {
   "cell_type": "code",
   "execution_count": null,
   "id": "b4ce889b",
   "metadata": {},
   "outputs": [],
   "source": []
  }
 ],
 "metadata": {
  "kernelspec": {
   "display_name": "pesto",
   "language": "python",
   "name": "python3"
  },
  "language_info": {
   "codemirror_mode": {
    "name": "ipython",
    "version": 3
   },
   "file_extension": ".py",
   "mimetype": "text/x-python",
   "name": "python",
   "nbconvert_exporter": "python",
   "pygments_lexer": "ipython3",
   "version": "3.9.16"
  },
  "vscode": {
   "interpreter": {
    "hash": "bf85cdb381f6f4fc647273628ca49ec40f7118f44e043724f0e421e3e1c8d444"
   }
  }
 },
 "nbformat": 4,
 "nbformat_minor": 5
}
