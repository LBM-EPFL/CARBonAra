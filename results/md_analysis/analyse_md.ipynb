{
 "cells": [
  {
   "cell_type": "code",
   "execution_count": null,
   "metadata": {},
   "outputs": [],
   "source": [
    "import os\n",
    "import numpy as np\n",
    "import torch as pt\n",
    "import pandas as pd\n",
    "import blosum as bl\n",
    "import matplotlib.pyplot as plt\n",
    "from glob import glob\n",
    "from tqdm import tqdm\n",
    "from matplotlib import rcParams\n",
    "\n",
    "import src as sp\n",
    "from theme import colors\n",
    "\n",
    "# font parameters\n",
    "rcParams['font.family'] = 'sans-serif'\n",
    "rcParams['font.sans-serif'] = ['Arial']\n",
    "rcParams['font.size'] = 12"
   ]
  },
  {
   "cell_type": "code",
   "execution_count": null,
   "metadata": {},
   "outputs": [],
   "source": [
    "def max_pred_to_seq(p):\n",
    "    return ''.join([sp.res3to1[r] for r in sp.std_resnames[:20][pt.argmax(p,dim=1).cpu().numpy()]])\n",
    "\n",
    "def sequence_identity(seq_ref, seq):\n",
    "    return np.mean(np.array(list(seq_ref)) == np.array(list(seq)))\n",
    "\n",
    "def sequence_similarity(seq_ref, seq):\n",
    "    blm = bl.BLOSUM(62)\n",
    "    return np.mean(np.array([blm[si][sj] for si,sj in zip(seq_ref,seq)]) > 0)\n",
    "\n",
    "def max_seq_recovery(p, y):\n",
    "    msr = pt.mean((p[pt.arange(y.shape[0]), pt.argmax(y, dim=1)] >= 0.5).float())\n",
    "    mpr = pt.mean(pt.sum((p >= 0.5).float(), dim=1))\n",
    "    return msr, mpr"
   ]
  },
  {
   "cell_type": "code",
   "execution_count": null,
   "metadata": {},
   "outputs": [],
   "source": [
    "# reload precomputed results\n",
    "data = {}\n",
    "for fp in glob(\"results/*.pt\"):\n",
    "    key = os.path.basename(fp).split('.')[0]\n",
    "    Z = pt.load(fp)\n",
    "    data[key] = (Z[1:], Z[0])"
   ]
  },
  {
   "cell_type": "code",
   "execution_count": null,
   "metadata": {},
   "outputs": [],
   "source": [
    "# analyse all predictions\n",
    "results = []\n",
    "for key in data:\n",
    "    # unpack results\n",
    "    P, y = data[key]\n",
    "    \n",
    "    # get sequences\n",
    "    seq_ref = max_pred_to_seq(y)\n",
    "    seqs = [max_pred_to_seq(p) for p in P]\n",
    "    \n",
    "    # compute scores\n",
    "    si = np.array([sequence_identity(seq_ref, seq) for seq in seqs])\n",
    "    ss = np.array([sequence_similarity(seq_ref, seq) for seq in seqs])\n",
    "    \n",
    "    # sequence sampling prediction\n",
    "    seq_sampling = {\n",
    "        'mean': max_pred_to_seq(pt.mean(P, dim=0)),\n",
    "        'median': max_pred_to_seq(pt.median(P, dim=0)[0]),\n",
    "        'max': max_pred_to_seq(pt.max(P, dim=0)[0]),\n",
    "        'min': max_pred_to_seq(pt.min(P, dim=0)[0]),\n",
    "        'argmax': max_pred_to_seq(P[pt.argmax(pt.mean(pt.max(P, dim=2)[0], dim=1))]),\n",
    "        'gmean': max_pred_to_seq(pt.exp(pt.mean(pt.log(P), dim=0))),\n",
    "    }\n",
    "\n",
    "    # maximum sequence recovery with different sampling methods\n",
    "    msr = pt.tensor([max_seq_recovery(p,y) for p in P]).numpy()\n",
    "    msr_sampling = {\n",
    "        'mean': pt.tensor(max_seq_recovery(pt.mean(P, dim=0), y)).numpy(),\n",
    "        'median': pt.tensor(max_seq_recovery(pt.median(P, dim=0)[0], y)).numpy(),\n",
    "        'argmax': pt.tensor(max_seq_recovery(P[pt.argmax(pt.mean(pt.max(P, dim=2)[0], dim=1))], y)).numpy(),\n",
    "        'gmean': pt.tensor(max_seq_recovery(pt.exp(pt.mean(pt.log(P), dim=0)), y)).numpy(),\n",
    "    }\n",
    "    \n",
    "    # store results\n",
    "    results.append({\n",
    "        'pdbid': key.split(':')[0],\n",
    "        'mdid': key.split(':')[1],\n",
    "        'ref_si': si[0],\n",
    "        'ref_ss': ss[0],\n",
    "        'mean_si': np.mean(si),\n",
    "        'mean_ss': np.mean(ss),\n",
    "        'max_si': np.max(si),\n",
    "        'max_ss': np.max(ss),\n",
    "        'ref_msr': msr[0,0],\n",
    "        'ref_sm': msr[0,1],\n",
    "        'mean_msr': np.mean(msr, axis=0)[0],\n",
    "        'mean_sm': np.mean(msr, axis=0)[1],\n",
    "    })\n",
    "    \n",
    "    for name in seq_sampling:\n",
    "        results[-1]['{}_p_si'.format(name)] = sequence_identity(seq_ref, seq_sampling[name])\n",
    "        results[-1]['{}_p_ss'.format(name)] = sequence_similarity(seq_ref, seq_sampling[name])\n",
    "\n",
    "    for name in msr_sampling:\n",
    "        results[-1]['{}_p_msr'.format(name)] = msr_sampling[name][0]\n",
    "        results[-1]['{}_p_sm'.format(name)] = msr_sampling[name][1]\n",
    "\n",
    "# pack results\n",
    "df = pd.DataFrame(results)"
   ]
  },
  {
   "cell_type": "code",
   "execution_count": null,
   "metadata": {},
   "outputs": [],
   "source": [
    "df.round(3)"
   ]
  },
  {
   "cell_type": "code",
   "execution_count": null,
   "metadata": {},
   "outputs": [],
   "source": [
    "df.mean().round(3)"
   ]
  },
  {
   "cell_type": "code",
   "execution_count": null,
   "metadata": {},
   "outputs": [],
   "source": [
    "x = 1e2*df['ref_si'].values\n",
    "y = 1e2*df['mean_p_si'].values\n",
    "\n",
    "plt.figure(figsize=(3,3))\n",
    "plt.plot(x, y, '.', ms=4.0, color=colors[0])\n",
    "plt.plot([0,100],[0,100], 'k-', alpha=0.5)\n",
    "plt.xlim(10, 90)\n",
    "plt.ylim(10, 90)\n",
    "plt.xlabel('reference recovery rate [%]')\n",
    "plt.ylabel('MD recovery rate [%]')\n",
    "plt.tight_layout()\n",
    "plt.savefig(\"graphs/ref_v_md_recovery_rate.svg\")\n",
    "plt.show()"
   ]
  },
  {
   "cell_type": "code",
   "execution_count": null,
   "metadata": {},
   "outputs": [],
   "source": [
    "V0 = df[['ref_sm', 'ref_msr']].values\n",
    "V1 = df[['mean_p_sm', 'mean_p_msr']].values\n",
    "\n",
    "#plt.figure(figsize=(3.1,3))\n",
    "plt.figure(figsize=(4,3))\n",
    "plt.plot(V0[:,0], 1e2*V0[:,1], '.', ms=6.0, color=colors[1], label=\"reference\")\n",
    "plt.plot(V1[:,0], 1e2*V1[:,1], '.', ms=6.0, color=colors[0], label=\"average prediction\")\n",
    "plt.xlim(1.5, 6.5)\n",
    "plt.ylim(65, 100)\n",
    "plt.legend(loc='upper right', prop={'size': 10}, labelspacing=0.1)\n",
    "plt.xlabel('average number of options')\n",
    "plt.ylabel('maximum sequence recovery [%]')\n",
    "plt.tight_layout()\n",
    "plt.savefig(\"graphs/max_recovery_md.svg\")\n",
    "plt.show()"
   ]
  },
  {
   "cell_type": "code",
   "execution_count": null,
   "metadata": {},
   "outputs": [],
   "source": [
    "V0 = df[['ref_sm', 'ref_si']].values\n",
    "V1 = df[['mean_p_sm', 'mean_p_si']].values\n",
    "\n",
    "#plt.figure(figsize=(3,3))\n",
    "plt.figure(figsize=(4,2.8))\n",
    "plt.plot(V0[:,0], 1e2*V0[:,1], '.', ms=6.0, color=colors[1], label=\"initial conformation\")\n",
    "plt.plot(V1[:,0], 1e2*V1[:,1], '.', ms=6.0, color=colors[0], label=\"average prediction\")\n",
    "#plt.xlim(1.5, 6.5)\n",
    "plt.ylim(20, 85)\n",
    "plt.legend(loc='upper right', prop={'size': 10}, labelspacing=0.1)\n",
    "plt.xlabel('average number of options')\n",
    "plt.ylabel('sequence recovery [%]')\n",
    "plt.tight_layout()\n",
    "plt.savefig(\"graphs/recovery_md.svg\")\n",
    "plt.show()"
   ]
  },
  {
   "cell_type": "code",
   "execution_count": null,
   "metadata": {},
   "outputs": [],
   "source": [
    "xR = 1e2*np.array([df[(df['pdbid'] == pdbid) & (df['mdid'] == 'bR')]['ref_si'].values for pdbid in df['pdbid'].unique()]).ravel()\n",
    "yR = 1e2*np.array([df[(df['pdbid'] == pdbid) & (df['mdid'] == 'uR')]['ref_si'].values for pdbid in df['pdbid'].unique()]).ravel()\n",
    "xL = 1e2*np.array([df[(df['pdbid'] == pdbid) & (df['mdid'] == 'bL')]['ref_si'].values for pdbid in df['pdbid'].unique()]).ravel()\n",
    "yL = 1e2*np.array([df[(df['pdbid'] == pdbid) & (df['mdid'] == 'uL')]['ref_si'].values for pdbid in df['pdbid'].unique()]).ravel()\n",
    "x = np.concatenate([xR,xL])\n",
    "y = np.concatenate([yR,yL])\n",
    "\n",
    "plt.figure(figsize=(3,3))\n",
    "plt.plot(x,y,'.')\n",
    "plt.plot([0,100],[0,100], 'k-', alpha=0.5)\n",
    "plt.xlim(10, 90)\n",
    "plt.ylim(10, 90)\n",
    "plt.xlabel('bound sequence recovery [%]')\n",
    "plt.ylabel('unbound sequence recovery [%]')\n",
    "plt.show()"
   ]
  },
  {
   "cell_type": "code",
   "execution_count": null,
   "metadata": {},
   "outputs": [],
   "source": []
  },
  {
   "cell_type": "code",
   "execution_count": null,
   "metadata": {},
   "outputs": [],
   "source": []
  }
 ],
 "metadata": {
  "kernelspec": {
   "display_name": "carbonara",
   "language": "python",
   "name": "python3"
  },
  "language_info": {
   "codemirror_mode": {
    "name": "ipython",
    "version": 3
   },
   "file_extension": ".py",
   "mimetype": "text/x-python",
   "name": "python",
   "nbconvert_exporter": "python",
   "pygments_lexer": "ipython3",
   "version": "3.9.16"
  },
  "orig_nbformat": 4,
  "vscode": {
   "interpreter": {
    "hash": "85b04cd8d5953ab307bdf9beb2fa11de1505bfd82b9ad44416d809ec504ca016"
   }
  }
 },
 "nbformat": 4,
 "nbformat_minor": 2
}
