{
 "cells": [
  {
   "cell_type": "code",
   "execution_count": 1,
   "id": "87ee322a-3011-4a1b-bd30-34da1dcae861",
   "metadata": {},
   "outputs": [],
   "source": [
    "import os\n",
    "import sys\n",
    "import importlib\n",
    "import numpy as np\n",
    "import torch as pt\n",
    "import pandas as pd\n",
    "import matplotlib.pyplot as plt\n",
    "from tqdm import tqdm\n",
    "from glob import glob\n",
    "from scipy import signal\n",
    "from matplotlib import rcParams\n",
    "\n",
    "import src as sp\n",
    "import runtime as rt\n",
    "from theme import colors\n",
    "\n",
    "# font parameters\n",
    "rcParams['font.family'] = 'sans-serif'\n",
    "rcParams['font.sans-serif'] = ['Arial']\n",
    "rcParams['font.size'] = 14"
   ]
  },
  {
   "cell_type": "code",
   "execution_count": 2,
   "id": "a0e0995f",
   "metadata": {},
   "outputs": [],
   "source": [
    "# parameters\n",
    "device = pt.device(\"cuda\")\n",
    "\n",
    "# model parameters\n",
    "# r6\n",
    "#save_path = \"model/save/s_v6_4_2022-09-16_11-51\"  # virtual Cb & partial\n",
    "#save_path = \"model/save/s_v6_5_2022-09-16_11-52\"  # virtual Cb, partial & noise\n",
    "\n",
    "# r7\n",
    "save_path = \"model/save/s_v7_0_2023-04-25\"  # partial chain\n",
    "#save_path = \"model/save/s_v7_1_2023-04-25\"  # partial chain and noise\n",
    "#save_path = \"model/save/s_v7_2_2023-04-25\"  # partial chain high coverage\n",
    "#save_path = \"model/save/s_v7_3_2023-04-25\"  # partial chain and noise and high coverage\n",
    "\n",
    "# create models\n",
    "model = rt.SequenceModel(save_path, \"model.pt\", device=device)"
   ]
  },
  {
   "cell_type": "code",
   "execution_count": 3,
   "id": "5e3e000e",
   "metadata": {},
   "outputs": [
    {
     "data": {
      "text/plain": [
       "87137"
      ]
     },
     "execution_count": 3,
     "metadata": {},
     "output_type": "execute_result"
    }
   ],
   "source": [
    "# parameters\n",
    "dataset_filepath = \"datasets/pdb_structures_16384_v4.h5\"\n",
    "sids_selection_filepath = \"datasets/subunits_train_set.txt\"\n",
    "\n",
    "# load selected sids\n",
    "sids_sel = np.genfromtxt(sids_selection_filepath, dtype=np.dtype('U'))\n",
    "sids_sel = np.array([s.split('_')[0] for s in sids_sel])\n",
    "\n",
    "# create dataset\n",
    "dataset = rt.Dataset(dataset_filepath)\n",
    "\n",
    "# data selection criteria\n",
    "m = sp.select_by_sid(dataset, sids_sel) # select by sids\n",
    "m &= sp.select_by_max_ba(dataset, model.module.config_data['max_ba'])  # select by max assembly count\n",
    "m &= (dataset.sizes[:,0] <= model.module.config_data['max_size'])  # select by max size\n",
    "m &= (dataset.sizes[:,1] >= model.module.config_data['min_num_res'])  # select by min size\n",
    "\n",
    "# update dataset selection\n",
    "dataset.m &= m\n",
    "\n",
    "# debug\n",
    "len(dataset)"
   ]
  },
  {
   "cell_type": "code",
   "execution_count": 4,
   "id": "eeceab7f",
   "metadata": {},
   "outputs": [
    {
     "name": "stderr",
     "output_type": "stream",
     "text": [
      " 10%|█         | 418/4096 [01:35<14:03,  4.36it/s]\n"
     ]
    },
    {
     "ename": "KeyboardInterrupt",
     "evalue": "",
     "output_type": "error",
     "traceback": [
      "\u001b[0;31m---------------------------------------------------------------------------\u001b[0m",
      "\u001b[0;31mKeyboardInterrupt\u001b[0m                         Traceback (most recent call last)",
      "Cell \u001b[0;32mIn[4], line 12\u001b[0m\n\u001b[1;32m      9\u001b[0m structure[\u001b[39m'\u001b[39m\u001b[39mchain_name\u001b[39m\u001b[39m'\u001b[39m] \u001b[39m=\u001b[39m np\u001b[39m.\u001b[39marray([\u001b[39mstr\u001b[39m(cid) \u001b[39mfor\u001b[39;00m cid \u001b[39min\u001b[39;00m structure[\u001b[39m'\u001b[39m\u001b[39mcid\u001b[39m\u001b[39m'\u001b[39m]])\n\u001b[1;32m     11\u001b[0m \u001b[39m# apply model\u001b[39;00m\n\u001b[0;32m---> 12\u001b[0m _, p, y \u001b[39m=\u001b[39m model(structure)\n\u001b[1;32m     14\u001b[0m \u001b[39m# store results\u001b[39;00m\n\u001b[1;32m     15\u001b[0m p_l\u001b[39m.\u001b[39mappend(p)\n",
      "File \u001b[0;32m~/syncfolder/phd/projects/pesto/carbonara/runtime.py:414\u001b[0m, in \u001b[0;36mSequenceModel.__call__\u001b[0;34m(self, structure, m_known, n_skip)\u001b[0m\n\u001b[1;32m    411\u001b[0m z \u001b[39m=\u001b[39m \u001b[39mself\u001b[39m\u001b[39m.\u001b[39mmodel(Xi, ids_topk, q, M)\n\u001b[1;32m    413\u001b[0m \u001b[39m# prediction\u001b[39;00m\n\u001b[0;32m--> 414\u001b[0m p \u001b[39m=\u001b[39m pt\u001b[39m.\u001b[39;49msigmoid(z)\u001b[39m.\u001b[39;49mcpu()\n\u001b[1;32m    416\u001b[0m \u001b[39m# store result\u001b[39;00m\n\u001b[1;32m    417\u001b[0m P\u001b[39m.\u001b[39mappend(p)\n",
      "\u001b[0;31mKeyboardInterrupt\u001b[0m: "
     ]
    }
   ],
   "source": [
    "# parameters\n",
    "N = 1024*4\n",
    "\n",
    "# sample predictions\n",
    "p_l, y_l = [], []\n",
    "for i in tqdm(np.random.choice(len(dataset), N, replace=False)):\n",
    "    # load structure\n",
    "    _, structure = dataset[i]\n",
    "    structure['chain_name'] = np.array([str(cid) for cid in structure['cid']])\n",
    "\n",
    "    # apply model\n",
    "    _, p, y = model(structure)\n",
    "    \n",
    "    # store results\n",
    "    p_l.append(p)\n",
    "    y_l.append(y)"
   ]
  },
  {
   "cell_type": "code",
   "execution_count": null,
   "id": "b3c75cf4",
   "metadata": {},
   "outputs": [],
   "source": [
    "# parameters\n",
    "num_bins = 200\n",
    "\n",
    "# get predictions\n",
    "P = pt.cat(p_l).numpy()\n",
    "Y = pt.cat(y_l).numpy()\n",
    "\n",
    "# filter out non-amino acids\n",
    "m = (np.sum(Y, axis=1) > 0.0)\n",
    "P = P[m]\n",
    "Y = Y[m]\n",
    "\n",
    "# find correct predictions\n",
    "ids_y_max = np.argmax(Y, axis=1)\n",
    "\n",
    "# get confidence\n",
    "C = []\n",
    "for i in range(P.shape[1]):\n",
    "    m = (ids_y_max == i)\n",
    "    pi = P[m, ids_y_max[m]]\n",
    "\n",
    "    h0, x = np.histogram(P[:, i], bins=num_bins, range=(0.0, 1.0))\n",
    "    h1, x = np.histogram(P[m, ids_y_max[m]], bins=num_bins, range=(0.0, 1.0))\n",
    "    x = 0.5*(x[1:] + x[:-1])\n",
    "    C.append(h1 / h0)\n",
    "\n",
    "# pack results\n",
    "C = np.array(C)\n",
    "\n",
    "# save prediction CDF\n",
    "np.savetxt(\"results/{}_cdf.csv\".format(os.path.basename(save_path)), np.concatenate([np.expand_dims(x,0), C]), delimiter=\",\")\n"
   ]
  },
  {
   "cell_type": "code",
   "execution_count": null,
   "id": "17c77028",
   "metadata": {},
   "outputs": [],
   "source": [
    "# create confidence mapping\n",
    "conf = rt.ConfidenceMap(\"results/{}_cdf.csv\".format(os.path.basename(save_path)))\n",
    "\n",
    "# remap confidence with filter\n",
    "C = conf.C\n",
    "x = np.linspace(0.0, 1.0, C.shape[1])\n",
    "\n",
    "# plot cdfs\n",
    "cmap = plt.cm.tab20(np.linspace(0.0, 1.0, C.shape[0]))\n",
    "plt.figure(figsize=(4.5,4))\n",
    "for i in range(C.shape[0]):\n",
    "    plt.plot(x, C[i], '-', label=model.module.std_resnames[i], color=cmap[i])\n",
    "#plt.legend(loc='upper left', bbox_to_anchor=(1.02, 1.02))\n",
    "plt.legend(loc='upper left', ncol=2, prop={'size': 10})\n",
    "plt.ylim(0.0, 1.0)\n",
    "plt.xlim(0.0, 1.0)\n",
    "plt.xlabel('prediction confidence')\n",
    "plt.ylabel('correct prediction probability')\n",
    "plt.tight_layout()\n",
    "plt.savefig(\"graphs/confidence_mapping_{}.svg\".format(os.path.basename(save_path)))\n",
    "plt.show()"
   ]
  },
  {
   "cell_type": "code",
   "execution_count": null,
   "id": "f9894f88",
   "metadata": {},
   "outputs": [],
   "source": []
  },
  {
   "cell_type": "code",
   "execution_count": null,
   "id": "8b965fee",
   "metadata": {},
   "outputs": [],
   "source": []
  },
  {
   "cell_type": "code",
   "execution_count": null,
   "id": "105ca0e0",
   "metadata": {},
   "outputs": [],
   "source": []
  }
 ],
 "metadata": {
  "kernelspec": {
   "display_name": "carbonara",
   "language": "python",
   "name": "python3"
  },
  "language_info": {
   "codemirror_mode": {
    "name": "ipython",
    "version": 3
   },
   "file_extension": ".py",
   "mimetype": "text/x-python",
   "name": "python",
   "nbconvert_exporter": "python",
   "pygments_lexer": "ipython3",
   "version": "3.9.16"
  }
 },
 "nbformat": 4,
 "nbformat_minor": 5
}
