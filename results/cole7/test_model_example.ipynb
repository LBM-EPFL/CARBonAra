{
 "cells": [
  {
   "cell_type": "code",
   "execution_count": 1,
   "id": "87ee322a-3011-4a1b-bd30-34da1dcae861",
   "metadata": {},
   "outputs": [],
   "source": [
    "import os\n",
    "import json\n",
    "import numpy as np\n",
    "import torch as pt\n",
    "import pandas as pd\n",
    "import matplotlib.pyplot as plt\n",
    "from matplotlib import rcParams\n",
    "\n",
    "import src as sp\n",
    "import runtime as rt\n",
    "from theme import colors\n",
    "\n",
    "# font parameters\n",
    "rcParams['font.family'] = 'sans-serif'\n",
    "rcParams['font.sans-serif'] = ['Arial']\n",
    "rcParams['font.size'] = 12"
   ]
  },
  {
   "cell_type": "code",
   "execution_count": 2,
   "id": "c01d8e41",
   "metadata": {},
   "outputs": [],
   "source": [
    "# parameters\n",
    "device = pt.device(\"cpu\")\n",
    "\n",
    "# model parameters\n",
    "save_path = \"model/save/s_v6_4_2022-09-16_11-51\"  # virtual Cb & partial\n",
    "\n",
    "# create models\n",
    "model = rt.SequenceModel(save_path, \"model.pt\", device=device)\n",
    "\n",
    "# create confidence mapping\n",
    "conf = rt.ConfidenceMap(\"results/{}_cdf.csv\".format(os.path.basename(save_path)))"
   ]
  },
  {
   "cell_type": "code",
   "execution_count": 3,
   "id": "bbc8bca6",
   "metadata": {},
   "outputs": [],
   "source": [
    "# parameters\n",
    "structure = rt.load_structure(\"pdbs/1zns_ref_dna.pdb\")\n",
    "#structure = rt.load_structure(\"pdbs/1zns_2ivh_dna.pdb\")\n",
    "structure['chain_name'] = np.array([str(cid) for cid in structure['cid']])"
   ]
  },
  {
   "cell_type": "code",
   "execution_count": 4,
   "id": "50ea3a29",
   "metadata": {},
   "outputs": [],
   "source": [
    "def scoring(p, y):\n",
    "    # compute confidence probability\n",
    "    c = pt.from_numpy(conf(p.numpy()))\n",
    "\n",
    "    # get sequence\n",
    "    seq_ref = rt.max_pred_to_seq(y)\n",
    "    seq = rt.max_pred_to_seq(c)\n",
    "\n",
    "    # assess predictions\n",
    "    return {\n",
    "        \"size\": p.shape[0],\n",
    "        \"recovery_rate\": rt.recovery_rate(y, c).numpy().item(),\n",
    "        \"sequence_similarity\": rt.sequence_similarity(seq_ref, seq),\n",
    "        \"maximum_recovery_rate\": rt.maximum_recovery_rate(y, p).numpy().item(),\n",
    "        \"average_multiplicity\": rt.average_multiplicity(p).numpy().item(),\n",
    "        \"average_maximum_confidence\": rt.average_maximum_confidence(p).numpy().item(),\n",
    "        \"average_maximum_score\": rt.average_maximum_confidence(c).numpy().item(),\n",
    "    }"
   ]
  },
  {
   "cell_type": "code",
   "execution_count": 5,
   "id": "d1c7de01",
   "metadata": {},
   "outputs": [],
   "source": [
    "# parameters\n",
    "pdbid_sel = \"1ZNS\"\n",
    "#pdbid_sel = \"1BT5\"\n",
    "#d_thr = 4.0  # dna\n",
    "d_thr = 3.0  # ion\n",
    "b_Zn_to_Ca = True \n",
    "\n",
    "if b_Zn_to_Ca:\n",
    "    # hard swich Zn to Ca\n",
    "    ik = np.where(structure['element'] == 'Zn')[0].item()\n",
    "    structure['element'][ik] = \"Ca\"\n",
    "    structure['resname'][ik] = \"CA\"\n",
    "    structure['name'][ik] = \"CA\"\n",
    "\n",
    "# molecule type and discard unclassified\n",
    "subunits = sp.split_by_chain(structure)\n",
    "sub_types = rt.subunits_type(subunits)\n",
    "subunits = {cid:subunits[cid] for cid in [st[1] for st in sub_types if st[0] != 'na']}\n",
    "#subunits = {cid:subunits[cid] for cid in [st[1] for st in sub_types if st[0] != 'ligand']}\n",
    "structure = sp.concatenate_chains(subunits)\n",
    "\n",
    "# find proteins subunits and residue to chain mapping\n",
    "cids_prot = [st[1] for st in sub_types if st[0] == 'protein']\n",
    "\n",
    "# apply model on full structure\n",
    "_, p, y = model(structure)\n",
    "\n",
    "# prediction split by chain\n",
    "rcids = np.array([res['chain_name'][0] for res in sp.split_by_residue(structure)])\n",
    "pr = {cid:p[rcids==cid] for cid in cids_prot}\n",
    "yr = {cid:y[rcids==cid] for cid in cids_prot}\n",
    "\n",
    "# apply model with binder subunits known\n",
    "pc, yc = {}, {}\n",
    "for cid in cids_prot:\n",
    "    m_known = (structure['chain_name'] != cid)\n",
    "    _, pi, yi = model(structure, m_known=m_known)\n",
    "    pi = pi[rcids==cid]\n",
    "    yi = yi[rcids==cid]\n",
    "    pi, yi = rt.aa_only(pi, yi)\n",
    "    pc[cid] = pi\n",
    "    yc[cid] = yi\n",
    "\n",
    "# apply model to subunits alone\n",
    "cids_prot = [st[1] for st in sub_types if st[0] == 'protein']\n",
    "ps, ys = {}, {}\n",
    "for cid in cids_prot:\n",
    "    subunit = subunits[cid]\n",
    "    subunit['chain_name'] = np.array([cid]*subunit['xyz'].shape[0])\n",
    "    if len(np.unique(subunit['resid'])) >= model.module.config_data['min_num_res']:\n",
    "        _, pi, yi = model(subunit)\n",
    "        pi, yi = rt.aa_only(pi, yi)\n",
    "        ps[cid] = pi\n",
    "        ys[cid] = yi\n",
    "        \n",
    "# check that labels match perfectly\n",
    "for cid in ys:\n",
    "    assert pt.sum(pt.abs(yc[cid] - ys[cid])).long().item() == 0\n",
    "\n",
    "# contacts\n",
    "contacts = sp.extract_all_contacts(subunits, d_thr, device=device)\n",
    "\n",
    "# analyse interface recovery\n",
    "results = []\n",
    "interfaces = {}\n",
    "for cid in cids_prot:\n",
    "    # checks\n",
    "    if (cid in contacts) and (cid in ys):\n",
    "        for cidb in sorted(list(contacts[cid])):\n",
    "            # atom-atom contacts indices\n",
    "            ctc_ids = contacts[cid][cidb]['ids'][:,0]\n",
    "\n",
    "            # convert to residue-residue contacts indices\n",
    "            _, ids = pt.unique(pt.from_numpy(subunits[cid]['resid']), return_inverse=True)\n",
    "            ctc_rids = pt.unique(ids[ctc_ids])\n",
    "\n",
    "            ids_rctc = np.argmax((subunits[cid]['resid'].reshape(-1,1) == np.unique(subunits[cid]['resid'][np.unique(ctc_ids)])).astype(float), axis=0)\n",
    "            rctc_seq = np.array([sp.res3to1[rn] for rn in subunits[cid]['resname'][ids_rctc]])\n",
    "            \n",
    "            # binder type\n",
    "            btype = [st[0] for st in sub_types if st[1] == cidb][0]\n",
    "\n",
    "            # scoring with context\n",
    "            results.append({'context_level': 2, 'chain_id_scafold': cid,  'chain_id_binder': cidb, 'num_subunits': len(cids_prot), 'binder_type': btype})\n",
    "            results[-1].update(scoring(pc[cid][ctc_rids], yc[cid][ctc_rids]))\n",
    "            \n",
    "            # scoring with context\n",
    "            results.append({'context_level': 1, 'chain_id_scafold': cid,  'chain_id_binder': cidb, 'num_subunits': len(cids_prot), 'binder_type': btype})\n",
    "            results[-1].update(scoring(pr[cid][ctc_rids], yr[cid][ctc_rids]))\n",
    "            \n",
    "            # scoring without context\n",
    "            results.append({'context_level': 0, 'chain_id_scafold': cid,  'chain_id_binder': cidb, 'num_subunits': len(cids_prot), 'binder_type': btype})\n",
    "            results[-1].update(scoring(ps[cid][ctc_rids], ys[cid][ctc_rids]))\n",
    "\n",
    "            y0 = pt.max(ps[cid][ctc_rids] * ys[cid][ctc_rids], dim=1)[0].numpy()\n",
    "            y1 = pt.max(pr[cid][ctc_rids] * yr[cid][ctc_rids], dim=1)[0].numpy()\n",
    "            p0 = pt.max(ps[cid][ctc_rids], dim=1)[0].numpy()\n",
    "            p1 = pt.max(pr[cid][ctc_rids], dim=1)[0].numpy()\n",
    "            c0 = pt.max(pt.from_numpy(conf(ps[cid][ctc_rids].numpy())) * ys[cid][ctc_rids], dim=1)[0].numpy()\n",
    "            c1 = pt.max(pt.from_numpy(conf(pr[cid][ctc_rids].numpy())) * yr[cid][ctc_rids], dim=1)[0].numpy()\n",
    "\n",
    "            x = np.arange(y0.shape[0])\n",
    "            if btype in interfaces:\n",
    "                interfaces[btype][0] = np.concatenate([interfaces[btype][0], ctc_rids])\n",
    "                interfaces[btype][1] = np.concatenate([interfaces[btype][1], y0])\n",
    "                interfaces[btype][2] = np.concatenate([interfaces[btype][2], y1])\n",
    "                interfaces[btype][3] = np.concatenate([interfaces[btype][3], p0])\n",
    "                interfaces[btype][4] = np.concatenate([interfaces[btype][4], p1])\n",
    "                interfaces[btype][5] = np.concatenate([interfaces[btype][5], c0])\n",
    "                interfaces[btype][6] = np.concatenate([interfaces[btype][6], c1])\n",
    "                interfaces[btype][7] = np.concatenate([interfaces[btype][7], rctc_seq])\n",
    "            else:\n",
    "                interfaces[btype] = [ctc_rids.numpy(), y0, y1, p0, p1, c0, c1, rctc_seq]"
   ]
  },
  {
   "cell_type": "code",
   "execution_count": 6,
   "id": "39e7fcc6",
   "metadata": {},
   "outputs": [],
   "source": [
    "# store results with interface location\n",
    "m_int = pt.zeros(pc['0'].shape[0], dtype=pt.bool)\n",
    "rids_int = np.unique(np.concatenate([interfaces[itype][0] for itype in interfaces]))\n",
    "m_int[rids_int] = True\n",
    "\n",
    "# save to file\n",
    "pt.save({'ps': ps['0'], 'pc': pc['0'], 'y': ys['0'], 'm_int': m_int}, \"results/cole7/output.pt\")"
   ]
  },
  {
   "cell_type": "code",
   "execution_count": 7,
   "id": "4b5da208",
   "metadata": {},
   "outputs": [
    {
     "data": {
      "text/plain": [
       "(tensor(0.4831), tensor(0.4746))"
      ]
     },
     "execution_count": 7,
     "metadata": {},
     "output_type": "execute_result"
    }
   ],
   "source": [
    "rt.recovery_rate(ys['0'], ps['0']), rt.recovery_rate(yc['0'], pc['0'])"
   ]
  },
  {
   "cell_type": "code",
   "execution_count": 8,
   "id": "56127360",
   "metadata": {},
   "outputs": [
    {
     "data": {
      "text/plain": [
       "(tensor(0.4000), tensor(0.5000))"
      ]
     },
     "execution_count": 8,
     "metadata": {},
     "output_type": "execute_result"
    }
   ],
   "source": [
    "rt.recovery_rate(ys['0'][m_int], ps['0'][m_int]), rt.recovery_rate(yc['0'][m_int], pc['0'][m_int])"
   ]
  },
  {
   "cell_type": "code",
   "execution_count": 9,
   "id": "edb70167",
   "metadata": {},
   "outputs": [
    {
     "data": {
      "text/plain": [
       "['ion', 'dna']"
      ]
     },
     "execution_count": 9,
     "metadata": {},
     "output_type": "execute_result"
    }
   ],
   "source": [
    "list(interfaces)"
   ]
  },
  {
   "cell_type": "code",
   "execution_count": 10,
   "id": "47af740a",
   "metadata": {},
   "outputs": [
    {
     "data": {
      "image/png": "[encoded data removed]",
      "text/plain": [
       "<Figure size 166x340 with 1 Axes>"
      ]
     },
     "metadata": {},
     "output_type": "display_data"
    },
    {
     "data": {
      "text/plain": [
       "{'recovery_rate_without_context': 0.3333333333333333,\n",
       " 'recovery_rate_with_context': 0.3333333333333333,\n",
       " 'maximum_recovery_rate_without_context': 1.0,\n",
       " 'maximum_recovery_rate_with_context': 0.6666666666666666}"
      ]
     },
     "execution_count": 10,
     "metadata": {},
     "output_type": "execute_result"
    }
   ],
   "source": [
    "# parameters\n",
    "ws = 0.3\n",
    "#itype = \"dna\"\n",
    "itype = \"ion\"\n",
    "\n",
    "# extract data\n",
    "v, y0, y1, p0, p1, c0, c1, rn = interfaces[itype]\n",
    "\n",
    "# remove duplicated\n",
    "idx = np.sort(np.unique(v, return_index=True)[1])\n",
    "v = v[idx]\n",
    "rn = rn[idx]\n",
    "y0 = y0[idx]\n",
    "y1 = y1[idx]\n",
    "p0 = p0[idx]\n",
    "p1 = p1[idx]\n",
    "\n",
    "#m0 = ((y0 < 0.5) & (y1 > 0.5)).astype(float)\n",
    "#m1 = (y0 < y1).astype(float)\n",
    "#ids = np.argsort(2*y1-p1 + (y1-y0) + (p1 == y1).astype(float))\n",
    "ids = np.argsort(np.maximum(y0, y1))\n",
    "v = v[ids]\n",
    "rn = rn[ids]\n",
    "y0 = y0[ids]\n",
    "y1 = y1[ids]\n",
    "p0 = p0[ids]\n",
    "p1 = p1[ids]\n",
    "x = np.arange(v.shape[0])\n",
    "\n",
    "# plot\n",
    "#plt.figure(figsize=(10,2.4))\n",
    "#plt.figure(figsize=(3,2.4))\n",
    "#plt.figure(figsize=(1+0.3*v.shape[0],2.4))\n",
    "#plt.figure(figsize=(1+0.3*v.shape[0],3.4))\n",
    "plt.figure(figsize=(1+0.22*v.shape[0],3.4))\n",
    "#plt.bar(x-0.5*ws, p0, width=ws, color=colors[3], alpha=0.5)\n",
    "plt.bar(x-0.5*ws, y0, width=ws, color=colors[1], label=\"without context\")\n",
    "#plt.bar(x+0.5*ws, p1, width=ws, color=colors[3], alpha=0.5)\n",
    "plt.bar(x+0.5*ws, y1, width=ws, color=colors[0], label=\"with context\")\n",
    "#for i in range(p0.shape[0]):\n",
    "#    plt.plot([x[i]-ws*0.9, x[i]-0.1*ws], [p0[i], p0[i]], 'k-', alpha=0.5)\n",
    "#    plt.plot([x[i]+ws*0.1, x[i]+0.9*ws], [p1[i], p1[i]], 'k-', alpha=0.5)\n",
    "#plt.plot([-0.5, len(x)-0.5], [0.5, 0.5], 'k-', alpha=0.5)\n",
    "#plt.xticks(x, v+1)\n",
    "plt.xticks(x, [n+str(i) for n,i in zip(rn,v+1)], fontsize=12, weight='normal', rotation=90)\n",
    "plt.yticks(np.linspace(0.5, 1.0, 6), np.linspace(0.5, 1.0, 6))\n",
    "plt.xlim(-0.5, len(x)-0.5)\n",
    "plt.ylim(0.5, 1.0)\n",
    "plt.legend(loc='best', prop={'size': 10}, labelspacing=0.1)\n",
    "plt.xlabel('interface residue index')\n",
    "plt.ylabel('prediction confidence')\n",
    "plt.tight_layout()\n",
    "if b_Zn_to_Ca:\n",
    "    plt.savefig(\"graphs/{}_{}_mod_Ca_interface_prediction.svg\".format(pdbid_sel, itype))\n",
    "else:\n",
    "    plt.savefig(\"graphs/{}_{}_interface_prediction.svg\".format(pdbid_sel, itype))\n",
    "plt.show()\n",
    "\n",
    "# save statistics\n",
    "summary = {\n",
    "    'recovery_rate_without_context': np.mean(p0 == y0),\n",
    "    'recovery_rate_with_context': np.mean(p1 == y1),\n",
    "    'maximum_recovery_rate_without_context': np.mean(y0 >= 0.5),\n",
    "    'maximum_recovery_rate_with_context': np.mean(y1 >= 0.5),\n",
    "}\n",
    "if b_Zn_to_Ca:\n",
    "    json.dump(summary, open(\"results/{}_{}_mod_Ca_interface_prediction.json\".format(pdbid_sel, itype), 'w'))\n",
    "else:\n",
    "    json.dump(summary, open(\"results/{}_{}_interface_prediction.json\".format(pdbid_sel, itype), 'w'))\n",
    "summary"
   ]
  },
  {
   "cell_type": "code",
   "execution_count": 11,
   "id": "3e1a3bdf",
   "metadata": {},
   "outputs": [
    {
     "data": {
      "text/plain": [
       "<Axes: xlabel='element'>"
      ]
     },
     "execution_count": 11,
     "metadata": {},
     "output_type": "execute_result"
    },
    {
     "data": {
      "image/png": "[encoded data removed]",
      "text/plain": [
       "<Figure size 640x480 with 1 Axes>"
      ]
     },
     "metadata": {},
     "output_type": "display_data"
    }
   ],
   "source": [
    "pd.DataFrame([\n",
    "    ('MG', 0.70997334),\n",
    "    ('ZN', 0.9878375),\n",
    "    ('CL', 0.5378498),\n",
    "    ('CA', 0.6672906),\n",
    "    ('NA', 0.7124161),\n",
    "    ('MN', 0.96890736),\n",
    "    ('K', 0.74348897),\n",
    "    ('IOD', 0.86407775),\n",
    "    ('CD', 0.9856343),\n",
    "    ('CU', 0.9920692),\n",
    "    ('FE', 0.9851079),\n",
    "    ('NI', 0.98902875),\n",
    "    ('SR', 0.6977055),\n",
    "    ('BR', 0.5261112),\n",
    "    ('CO', 0.98525363),\n",
    "    ('HG', 0.86989146),\n",
    "], columns=['element', 'average_confidence']).sort_values(\"average_confidence\", ascending=False).plot.bar('element')"
   ]
  },
  {
   "cell_type": "code",
   "execution_count": null,
   "id": "d262839f",
   "metadata": {},
   "outputs": [],
   "source": []
  },
  {
   "cell_type": "code",
   "execution_count": null,
   "id": "2088ac86",
   "metadata": {},
   "outputs": [],
   "source": []
  },
  {
   "cell_type": "code",
   "execution_count": null,
   "id": "2f9f86a4",
   "metadata": {},
   "outputs": [],
   "source": []
  }
 ],
 "metadata": {
  "kernelspec": {
   "display_name": "carbonara",
   "language": "python",
   "name": "python3"
  },
  "language_info": {
   "codemirror_mode": {
    "name": "ipython",
    "version": 3
   },
   "file_extension": ".py",
   "mimetype": "text/x-python",
   "name": "python",
   "nbconvert_exporter": "python",
   "pygments_lexer": "ipython3",
   "version": "3.9.16"
  }
 },
 "nbformat": 4,
 "nbformat_minor": 5
}
