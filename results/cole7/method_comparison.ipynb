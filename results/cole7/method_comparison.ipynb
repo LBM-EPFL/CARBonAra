{
 "cells": [
  {
   "cell_type": "code",
   "execution_count": 2,
   "metadata": {},
   "outputs": [],
   "source": [
    "import numpy as np\n",
    "import torch as pt\n",
    "import pandas as pd\n",
    "import matplotlib.pyplot as plt\n",
    "\n",
    "import runtime as rt"
   ]
  },
  {
   "cell_type": "code",
   "execution_count": 3,
   "metadata": {},
   "outputs": [],
   "source": [
    "# load predictions\n",
    "pdata = pt.load(\"results/cole7/output.pt\")\n",
    "seqs = {\n",
    "    \"ref\": rt.max_pred_to_seq(pdata['y']),\n",
    "    \"woc\": rt.max_pred_to_seq(pdata['ps']),\n",
    "    \"wc\": rt.max_pred_to_seq(pdata['pc']),\n",
    "    \"esm\": rt.read_fasta(\"results/cole7/esm-if1.fasta\")[1][0],\n",
    "    \"mpnn\": rt.read_fasta(\"results/cole7/mpnn/mpnn.fasta\")[1][0],\n",
    "}"
   ]
  },
  {
   "cell_type": "code",
   "execution_count": 4,
   "metadata": {},
   "outputs": [
    {
     "data": {
      "text/html": [
       "<div>\n",
       "<style scoped>\n",
       "    .dataframe tbody tr th:only-of-type {\n",
       "        vertical-align: middle;\n",
       "    }\n",
       "\n",
       "    .dataframe tbody tr th {\n",
       "        vertical-align: top;\n",
       "    }\n",
       "\n",
       "    .dataframe thead th {\n",
       "        text-align: right;\n",
       "    }\n",
       "</style>\n",
       "<table border=\"1\" class=\"dataframe\">\n",
       "  <thead>\n",
       "    <tr style=\"text-align: right;\">\n",
       "      <th></th>\n",
       "      <th>method</th>\n",
       "      <th>sequence_identity</th>\n",
       "      <th>sequence_similarity</th>\n",
       "      <th>interface_sequence_identity</th>\n",
       "      <th>interface_sequence_similarity</th>\n",
       "    </tr>\n",
       "  </thead>\n",
       "  <tbody>\n",
       "    <tr>\n",
       "      <th>0</th>\n",
       "      <td>woc</td>\n",
       "      <td>0.475</td>\n",
       "      <td>0.712</td>\n",
       "      <td>0.286</td>\n",
       "      <td>0.524</td>\n",
       "    </tr>\n",
       "    <tr>\n",
       "      <th>1</th>\n",
       "      <td>wc</td>\n",
       "      <td>0.492</td>\n",
       "      <td>0.720</td>\n",
       "      <td>0.524</td>\n",
       "      <td>0.714</td>\n",
       "    </tr>\n",
       "    <tr>\n",
       "      <th>2</th>\n",
       "      <td>esm</td>\n",
       "      <td>0.508</td>\n",
       "      <td>0.669</td>\n",
       "      <td>0.429</td>\n",
       "      <td>0.714</td>\n",
       "    </tr>\n",
       "    <tr>\n",
       "      <th>3</th>\n",
       "      <td>mpnn</td>\n",
       "      <td>0.398</td>\n",
       "      <td>0.610</td>\n",
       "      <td>0.238</td>\n",
       "      <td>0.619</td>\n",
       "    </tr>\n",
       "  </tbody>\n",
       "</table>\n",
       "</div>"
      ],
      "text/plain": [
       "  method  sequence_identity  sequence_similarity  interface_sequence_identity  \\\n",
       "0    woc              0.475                0.712                        0.286   \n",
       "1     wc              0.492                0.720                        0.524   \n",
       "2    esm              0.508                0.669                        0.429   \n",
       "3   mpnn              0.398                0.610                        0.238   \n",
       "\n",
       "   interface_sequence_similarity  \n",
       "0                          0.524  \n",
       "1                          0.714  \n",
       "2                          0.714  \n",
       "3                          0.619  "
      ]
     },
     "execution_count": 4,
     "metadata": {},
     "output_type": "execute_result"
    }
   ],
   "source": [
    "keys = [\"woc\", \"wc\", \"esm\", \"mpnn\"]\n",
    "\n",
    "seq_ref_int = ''.join(np.array(list(seqs[\"ref\"]))[pdata['m_int'].numpy()])\n",
    "\n",
    "results = []\n",
    "for key in keys:\n",
    "    seq_int = ''.join(np.array(list(seqs[key]))[pdata['m_int'].numpy()])\n",
    "    results.append({\n",
    "        'method': key,\n",
    "        'sequence_identity': rt.sequence_identity(seqs[\"ref\"], seqs[key]),\n",
    "        'sequence_similarity': rt.sequence_similarity(seqs[\"ref\"], seqs[key]),\n",
    "        'interface_sequence_identity': rt.sequence_identity(seq_ref_int, seq_int),\n",
    "        'interface_sequence_similarity': rt.sequence_similarity(seq_ref_int, seq_int),\n",
    "    })\n",
    "\n",
    "df = pd.DataFrame(results)\n",
    "df.to_csv(\"results/cole7/method_comparison.csv\", index=False)\n",
    "df.round(3)"
   ]
  },
  {
   "cell_type": "code",
   "execution_count": null,
   "metadata": {},
   "outputs": [],
   "source": []
  },
  {
   "cell_type": "code",
   "execution_count": null,
   "metadata": {},
   "outputs": [],
   "source": []
  },
  {
   "cell_type": "code",
   "execution_count": null,
   "metadata": {},
   "outputs": [],
   "source": []
  }
 ],
 "metadata": {
  "kernelspec": {
   "display_name": "carbonara",
   "language": "python",
   "name": "python3"
  },
  "language_info": {
   "codemirror_mode": {
    "name": "ipython",
    "version": 3
   },
   "file_extension": ".py",
   "mimetype": "text/x-python",
   "name": "python",
   "nbconvert_exporter": "python",
   "pygments_lexer": "ipython3",
   "version": "3.9.16"
  },
  "orig_nbformat": 4
 },
 "nbformat": 4,
 "nbformat_minor": 2
}
