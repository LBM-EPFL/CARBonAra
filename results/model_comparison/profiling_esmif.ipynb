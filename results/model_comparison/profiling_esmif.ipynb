{
 "cells": [
  {
   "cell_type": "code",
   "execution_count": null,
   "metadata": {},
   "outputs": [],
   "source": [
    "import os\n",
    "import numpy as np\n",
    "import torch as pt\n",
    "import pandas as pd\n",
    "from glob import glob\n",
    "from tqdm import tqdm\n",
    "from time import time\n",
    "\n",
    "import esm.inverse_folding"
   ]
  },
  {
   "cell_type": "code",
   "execution_count": null,
   "metadata": {},
   "outputs": [],
   "source": [
    "# parameters\n",
    "device = pt.device(\"cuda\")\n",
    "\n",
    "# load model\n",
    "model, alphabet = esm.pretrained.esm_if1_gvp4_t16_142M_UR50()\n",
    "model = model.eval().to(device)"
   ]
  },
  {
   "cell_type": "code",
   "execution_count": null,
   "metadata": {},
   "outputs": [],
   "source": [
    "# locate benchark structures\n",
    "pdb_filepaths = glob(\"tmp/*.pdb\")\n",
    "\n",
    "profiling = []\n",
    "for pdb_filepath in tqdm(pdb_filepaths):\n",
    "    try:\n",
    "        t0 = time()\n",
    "        # load structure\n",
    "        structure = esm.inverse_folding.util.load_structure(pdb_filepath)\n",
    "        coords, seq = esm.inverse_folding.util.extract_coords_from_structure(structure)\n",
    "    \n",
    "        # sample sequence\n",
    "        sampled_seq = model.sample(coords, temperature=1e-6, device=device)\n",
    "    \n",
    "        # profiling\n",
    "        t1 = time()\n",
    "        sid = os.path.basename(pdb_filepath).split('.')[0]\n",
    "        profiling.append({'sid': sid, 'dt': t1-t0})\n",
    "    except Exception as e:\n",
    "        print(e)\n",
    "\n",
    "# save profiling\n",
    "dfp = pd.DataFrame(profiling)\n",
    "dfp.to_csv(\"results/profiling_esm_ext.csv\", index=False)"
   ]
  },
  {
   "cell_type": "code",
   "execution_count": null,
   "metadata": {},
   "outputs": [],
   "source": []
  },
  {
   "cell_type": "code",
   "execution_count": null,
   "metadata": {},
   "outputs": [],
   "source": []
  }
 ],
 "metadata": {
  "kernelspec": {
   "display_name": "inverse",
   "language": "python",
   "name": "python3"
  },
  "language_info": {
   "codemirror_mode": {
    "name": "ipython",
    "version": 3
   },
   "file_extension": ".py",
   "mimetype": "text/x-python",
   "name": "python",
   "nbconvert_exporter": "python",
   "pygments_lexer": "ipython3",
   "version": "3.9.18"
  },
  "orig_nbformat": 4,
  "vscode": {
   "interpreter": {
    "hash": "32547dd0a401af0df669910cc18f2b4ebc580c087062db0dc7fdfcb29032b269"
   }
  }
 },
 "nbformat": 4,
 "nbformat_minor": 2
}
