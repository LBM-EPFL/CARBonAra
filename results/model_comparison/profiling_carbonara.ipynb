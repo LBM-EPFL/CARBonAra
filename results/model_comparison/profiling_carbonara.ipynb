{
 "cells": [
  {
   "cell_type": "code",
   "execution_count": null,
   "id": "87ee322a-3011-4a1b-bd30-34da1dcae861",
   "metadata": {},
   "outputs": [],
   "source": [
    "import os\n",
    "import numpy as np\n",
    "import torch as pt\n",
    "import pandas as pd\n",
    "from tqdm import tqdm\n",
    "from glob import glob\n",
    "from time import time\n",
    "\n",
    "import src as sp\n",
    "import runtime as rt"
   ]
  },
  {
   "cell_type": "code",
   "execution_count": null,
   "id": "97cccbc6-6305-447a-8906-08f5293309f1",
   "metadata": {},
   "outputs": [],
   "source": [
    "# parameters\n",
    "device = pt.device(\"cuda\")\n",
    "n_sample = 1\n",
    "\n",
    "# locate filepaths\n",
    "pdb_filepaths = glob(\"tmp/*.pdb\")\n",
    "\n",
    "# model parameters\n",
    "save_path = \"model/save/s_v6_4_2022-09-16_11-51\"  # virtual Cb & partial\n",
    "\n",
    "# create runtime model \n",
    "model = rt.SequenceModel(save_path, \"model.pt\", device=device)"
   ]
  },
  {
   "cell_type": "code",
   "execution_count": null,
   "id": "37b0912f",
   "metadata": {},
   "outputs": [],
   "source": [
    "profiling = []\n",
    "for pdb_filepath in tqdm(pdb_filepaths):\n",
    "    t0 = time()\n",
    "    # load structure\n",
    "    structure = rt.load_structure(pdb_filepath)\n",
    "    \n",
    "    # max size\n",
    "    if structure['xyz'].shape[0] > 1024*8:\n",
    "        continue\n",
    "    \n",
    "    # apply model\n",
    "    structure, p, y, _ = model(structure)\n",
    "\n",
    "    # amino acid only\n",
    "    p, y = rt.aa_only(p, y)\n",
    "    \n",
    "    # get sequence\n",
    "    seq = rt.max_pred_to_seq(p)\n",
    "    \n",
    "    # profiling\n",
    "    t1 = time()\n",
    "    sid = os.path.basename(pdb_filepath).split('.')[0]\n",
    "    profiling.append({'sid': sid, 'dt': t1-t0})\n",
    "    \n",
    "# save profiling\n",
    "dfp = pd.DataFrame(profiling)\n",
    "dfp.to_csv(\"results/profiling_carbonara_ext.csv\", index=False)"
   ]
  },
  {
   "cell_type": "code",
   "execution_count": null,
   "id": "0b9d6658",
   "metadata": {},
   "outputs": [],
   "source": []
  },
  {
   "cell_type": "code",
   "execution_count": null,
   "id": "0b3eecd7",
   "metadata": {},
   "outputs": [],
   "source": []
  }
 ],
 "metadata": {
  "kernelspec": {
   "display_name": "pesto",
   "language": "python",
   "name": "python3"
  },
  "language_info": {
   "codemirror_mode": {
    "name": "ipython",
    "version": 3
   },
   "file_extension": ".py",
   "mimetype": "text/x-python",
   "name": "python",
   "nbconvert_exporter": "python",
   "pygments_lexer": "ipython3",
   "version": "3.9.16"
  },
  "vscode": {
   "interpreter": {
    "hash": "bf85cdb381f6f4fc647273628ca49ec40f7118f44e043724f0e421e3e1c8d444"
   }
  }
 },
 "nbformat": 4,
 "nbformat_minor": 5
}
