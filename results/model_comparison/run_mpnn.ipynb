{
 "cells": [
  {
   "cell_type": "code",
   "execution_count": 1,
   "metadata": {},
   "outputs": [],
   "source": [
    "import os\n",
    "import pandas as pd\n",
    "from glob import glob\n",
    "from tqdm import tqdm\n",
    "from time import time\n",
    "\n",
    "import src as sp"
   ]
  },
  {
   "cell_type": "code",
   "execution_count": 2,
   "metadata": {},
   "outputs": [],
   "source": [
    "# parameters\n",
    "pdb_filepaths = glob(\"benchmark_data/wt/monomers/*.pdb\")\n",
    "#pdb_filepaths = glob(\"benchmark_data/wt/dimers/*.pdb\")\n",
    "output_dir = \"benchmark_data/mpnn/monomers\"\n",
    "#output_dir = \"benchmark_data/mpnn/dimers\"\n",
    "#output_dir = \"/tmp\""
   ]
  },
  {
   "cell_type": "code",
   "execution_count": 3,
   "metadata": {},
   "outputs": [
    {
     "name": "stderr",
     "output_type": "stream",
     "text": [
      "100%|██████████| 142/142 [07:02<00:00,  2.97s/it]\n"
     ]
    }
   ],
   "source": [
    "# load structure\n",
    "profiling = []\n",
    "for pdb_filepath in tqdm(pdb_filepaths):\n",
    "    t0 = time()\n",
    "    pdbid = os.path.basename(pdb_filepath)[:-4]\n",
    "    \n",
    "    # find subunits\n",
    "    subunits = sp.split_by_chain(sp.read_pdb(pdb_filepath))\n",
    "    cids = [cid.split(':')[0] for cid in subunits]\n",
    "    \n",
    "    # predict sequence on one chain at a time\n",
    "    for cid in cids:\n",
    "        # define key\n",
    "        if \"_\" in pdbid:\n",
    "            key = pdbid\n",
    "        else:\n",
    "            key = \"{}_{}\".format(pdbid, cid)\n",
    "    \n",
    "        # get reference sequences\n",
    "        seqs = {cid.split(':')[0]:sp.subunit_to_sequence(subunits[cid]) for cid in subunits}\n",
    "    \n",
    "        # run ProteinMPNN\n",
    "        command = ' '.join([\n",
    "            \"python\", \"ProteinMPNN/protein_mpnn_run.py\",\n",
    "            \"--pdb_path\", pdb_filepath,\n",
    "            \"--pdb_path_chains\", cid,\n",
    "            \"--out_folder\", output_dir,\n",
    "            \"--num_seq_per_target\", \"1\",\n",
    "            \"--sampling_temp\", \"0.000001\",\n",
    "            \"--seed\", \"37\",\n",
    "            \"--batch_size\", \"1\",\n",
    "        ])\n",
    "        #os.system(command)\n",
    "        output = os.popen(command).read()\n",
    "    \n",
    "        # locate and rename output\n",
    "        fa_filepath = os.path.join(output_dir, \"seqs\", pdbid+\".fa\")\n",
    "        new_fa_filepath = os.path.join(output_dir, \"seqs\", \"{}.fa\".format(key))\n",
    "        os.rename(fa_filepath, new_fa_filepath)\n",
    "        fa_filepath = new_fa_filepath\n",
    "        \n",
    "        # read file\n",
    "        with open(fa_filepath, 'r') as fs:\n",
    "            fa_str = fs.read()\n",
    "            \n",
    "        # parse file and update sequence\n",
    "        sid = os.path.basename(fa_filepath).split('.')[0]\n",
    "        seqs[cid] = fa_str.split('\\n')[3]\n",
    "        \n",
    "        # get multimer sequences\n",
    "        seq = ':'.join([seqs[cid] for cid in cids])\n",
    "            \n",
    "        # write corresponding file\n",
    "        with open(os.path.join(output_dir, \"{}.fasta\".format(key)), 'w') as fs:\n",
    "            fs.write('>{}\\n{}'.format(sid,seq))\n",
    "    \n",
    "    # profiling\n",
    "    t1 = time()\n",
    "    #profiling.append({'sid': sid, 'dt': t1-t0})\n",
    "    profiling.append({'sid': sid, 'dt': float(output.split()[-2])})\n",
    "\n",
    "# save profiling\n",
    "dfp = pd.DataFrame(profiling)\n",
    "dfp.to_csv(\"results/profiling_mpnn.csv\", index=False)"
   ]
  },
  {
   "cell_type": "code",
   "execution_count": null,
   "metadata": {},
   "outputs": [],
   "source": []
  },
  {
   "cell_type": "code",
   "execution_count": null,
   "metadata": {},
   "outputs": [],
   "source": []
  },
  {
   "cell_type": "code",
   "execution_count": null,
   "metadata": {},
   "outputs": [],
   "source": []
  },
  {
   "cell_type": "code",
   "execution_count": null,
   "metadata": {},
   "outputs": [],
   "source": []
  }
 ],
 "metadata": {
  "kernelspec": {
   "display_name": "carbonara",
   "language": "python",
   "name": "python3"
  },
  "language_info": {
   "codemirror_mode": {
    "name": "ipython",
    "version": 3
   },
   "file_extension": ".py",
   "mimetype": "text/x-python",
   "name": "python",
   "nbconvert_exporter": "python",
   "pygments_lexer": "ipython3",
   "version": "3.9.16"
  },
  "orig_nbformat": 4
 },
 "nbformat": 4,
 "nbformat_minor": 2
}
