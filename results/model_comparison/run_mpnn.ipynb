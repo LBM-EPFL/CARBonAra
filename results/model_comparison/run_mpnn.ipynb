{
 "cells": [
  {
   "cell_type": "code",
   "execution_count": 1,
   "metadata": {},
   "outputs": [],
   "source": [
    "import os\n",
    "import pandas as pd\n",
    "from glob import glob\n",
    "from tqdm import tqdm\n",
    "from time import time\n",
    "\n",
    "import src as sp"
   ]
  },
  {
   "cell_type": "code",
   "execution_count": 2,
   "metadata": {},
   "outputs": [],
   "source": [
    "# parameters\n",
    "pdb_filepaths = glob(\"benchmark_data/wt/monomers/*.pdb\")\n",
    "#pdb_filepaths = glob(\"benchmark_data/wt/dimers/*.pdb\")\n",
    "output_dir = \"benchmark_data/mpnn/monomers\"\n",
    "#output_dir = \"benchmark_data/mpnn/dimers\"\n",
    "#output_dir = \"/tmp\""
   ]
  },
  {
   "cell_type": "code",
   "execution_count": 3,
   "metadata": {},
   "outputs": [
    {
     "name": "stderr",
     "output_type": "stream",
     "text": [
      "  0%|          | 0/142 [00:00<?, ?it/s]"
     ]
    },
    {
     "name": "stdout",
     "output_type": "stream",
     "text": [
      "----------------------------------------\n",
      "chain_id_jsonl is NOT loaded\n",
      "----------------------------------------\n",
      "fixed_positions_jsonl is NOT loaded\n",
      "----------------------------------------\n",
      "pssm_jsonl is NOT loaded\n",
      "----------------------------------------\n",
      "omit_AA_jsonl is NOT loaded\n",
      "----------------------------------------\n",
      "bias_AA_jsonl is NOT loaded\n",
      "----------------------------------------\n",
      "tied_positions_jsonl is NOT loaded\n",
      "----------------------------------------\n",
      "bias by residue dictionary is not loaded, or not provided\n",
      "----------------------------------------\n",
      "----------------------------------------\n",
      "Number of edges: 48\n",
      "Training noise level: 0.2A\n",
      "Generating sequences for: 2KKJ_A\n",
      "1 sequences of length 59 generated in 0.1713 seconds\n"
     ]
    },
    {
     "name": "stderr",
     "output_type": "stream",
     "text": [
      "  1%|          | 1/142 [00:03<08:00,  3.41s/it]"
     ]
    },
    {
     "name": "stdout",
     "output_type": "stream",
     "text": [
      "----------------------------------------\n",
      "chain_id_jsonl is NOT loaded\n",
      "----------------------------------------\n",
      "fixed_positions_jsonl is NOT loaded\n",
      "----------------------------------------\n",
      "pssm_jsonl is NOT loaded\n",
      "----------------------------------------\n",
      "omit_AA_jsonl is NOT loaded\n",
      "----------------------------------------\n",
      "bias_AA_jsonl is NOT loaded\n",
      "----------------------------------------\n",
      "tied_positions_jsonl is NOT loaded\n",
      "----------------------------------------\n",
      "bias by residue dictionary is not loaded, or not provided\n",
      "----------------------------------------\n",
      "----------------------------------------\n",
      "Number of edges: 48\n",
      "Training noise level: 0.2A\n",
      "Generating sequences for: 6A5I_A\n",
      "1 sequences of length 67 generated in 0.1742 seconds\n"
     ]
    },
    {
     "name": "stderr",
     "output_type": "stream",
     "text": [
      "  1%|▏         | 2/142 [00:06<07:00,  3.00s/it]"
     ]
    },
    {
     "name": "stdout",
     "output_type": "stream",
     "text": [
      "----------------------------------------\n",
      "chain_id_jsonl is NOT loaded\n",
      "----------------------------------------\n",
      "fixed_positions_jsonl is NOT loaded\n",
      "----------------------------------------\n",
      "pssm_jsonl is NOT loaded\n",
      "----------------------------------------\n",
      "omit_AA_jsonl is NOT loaded\n",
      "----------------------------------------\n",
      "bias_AA_jsonl is NOT loaded\n",
      "----------------------------------------\n",
      "tied_positions_jsonl is NOT loaded\n",
      "----------------------------------------\n",
      "bias by residue dictionary is not loaded, or not provided\n",
      "----------------------------------------\n",
      "----------------------------------------\n",
      "Number of edges: 48\n",
      "Training noise level: 0.2A\n",
      "Generating sequences for: 3EG1_B\n",
      "1 sequences of length 56 generated in 0.1589 seconds\n"
     ]
    },
    {
     "name": "stderr",
     "output_type": "stream",
     "text": [
      "  2%|▏         | 3/142 [00:08<06:37,  2.86s/it]"
     ]
    },
    {
     "name": "stdout",
     "output_type": "stream",
     "text": [
      "----------------------------------------\n",
      "chain_id_jsonl is NOT loaded\n",
      "----------------------------------------\n",
      "fixed_positions_jsonl is NOT loaded\n",
      "----------------------------------------\n",
      "pssm_jsonl is NOT loaded\n",
      "----------------------------------------\n",
      "omit_AA_jsonl is NOT loaded\n",
      "----------------------------------------\n",
      "bias_AA_jsonl is NOT loaded\n",
      "----------------------------------------\n",
      "tied_positions_jsonl is NOT loaded\n",
      "----------------------------------------\n",
      "bias by residue dictionary is not loaded, or not provided\n",
      "----------------------------------------\n",
      "----------------------------------------\n",
      "Number of edges: 48\n",
      "Training noise level: 0.2A\n",
      "Generating sequences for: 1KKL_I\n",
      "1 sequences of length 87 generated in 0.2158 seconds\n"
     ]
    },
    {
     "name": "stderr",
     "output_type": "stream",
     "text": [
      "  3%|▎         | 4/142 [00:11<06:28,  2.81s/it]"
     ]
    },
    {
     "name": "stdout",
     "output_type": "stream",
     "text": [
      "----------------------------------------\n",
      "chain_id_jsonl is NOT loaded\n",
      "----------------------------------------\n",
      "fixed_positions_jsonl is NOT loaded\n",
      "----------------------------------------\n",
      "pssm_jsonl is NOT loaded\n",
      "----------------------------------------\n",
      "omit_AA_jsonl is NOT loaded\n",
      "----------------------------------------\n",
      "bias_AA_jsonl is NOT loaded\n",
      "----------------------------------------\n",
      "tied_positions_jsonl is NOT loaded\n",
      "----------------------------------------\n",
      "bias by residue dictionary is not loaded, or not provided\n",
      "----------------------------------------\n",
      "----------------------------------------\n",
      "Number of edges: 48\n",
      "Training noise level: 0.2A\n",
      "Generating sequences for: 3N29_A\n",
      "1 sequences of length 371 generated in 0.8065 seconds\n"
     ]
    },
    {
     "name": "stderr",
     "output_type": "stream",
     "text": [
      "  4%|▎         | 5/142 [00:15<07:04,  3.10s/it]"
     ]
    },
    {
     "name": "stdout",
     "output_type": "stream",
     "text": [
      "----------------------------------------\n",
      "chain_id_jsonl is NOT loaded\n",
      "----------------------------------------\n",
      "fixed_positions_jsonl is NOT loaded\n",
      "----------------------------------------\n",
      "pssm_jsonl is NOT loaded\n",
      "----------------------------------------\n",
      "omit_AA_jsonl is NOT loaded\n",
      "----------------------------------------\n",
      "bias_AA_jsonl is NOT loaded\n",
      "----------------------------------------\n",
      "tied_positions_jsonl is NOT loaded\n",
      "----------------------------------------\n",
      "bias by residue dictionary is not loaded, or not provided\n",
      "----------------------------------------\n",
      "----------------------------------------\n",
      "Number of edges: 48\n",
      "Training noise level: 0.2A\n",
      "Generating sequences for: 4XL5_C\n",
      "1 sequences of length 245 generated in 0.5292 seconds\n"
     ]
    },
    {
     "name": "stderr",
     "output_type": "stream",
     "text": [
      "  4%|▍         | 6/142 [00:18<07:05,  3.13s/it]"
     ]
    },
    {
     "name": "stdout",
     "output_type": "stream",
     "text": [
      "----------------------------------------\n",
      "chain_id_jsonl is NOT loaded\n",
      "----------------------------------------\n",
      "fixed_positions_jsonl is NOT loaded\n",
      "----------------------------------------\n",
      "pssm_jsonl is NOT loaded\n",
      "----------------------------------------\n",
      "omit_AA_jsonl is NOT loaded\n",
      "----------------------------------------\n",
      "bias_AA_jsonl is NOT loaded\n",
      "----------------------------------------\n",
      "tied_positions_jsonl is NOT loaded\n",
      "----------------------------------------\n",
      "bias by residue dictionary is not loaded, or not provided\n",
      "----------------------------------------\n",
      "----------------------------------------\n",
      "Number of edges: 48\n",
      "Training noise level: 0.2A\n",
      "Generating sequences for: 2EGE_A\n",
      "1 sequences of length 75 generated in 0.1931 seconds\n"
     ]
    },
    {
     "name": "stderr",
     "output_type": "stream",
     "text": [
      "  5%|▍         | 7/142 [00:21<06:45,  3.00s/it]"
     ]
    },
    {
     "name": "stdout",
     "output_type": "stream",
     "text": [
      "----------------------------------------\n",
      "chain_id_jsonl is NOT loaded\n",
      "----------------------------------------\n",
      "fixed_positions_jsonl is NOT loaded\n",
      "----------------------------------------\n",
      "pssm_jsonl is NOT loaded\n",
      "----------------------------------------\n",
      "omit_AA_jsonl is NOT loaded\n",
      "----------------------------------------\n",
      "bias_AA_jsonl is NOT loaded\n",
      "----------------------------------------\n",
      "tied_positions_jsonl is NOT loaded\n",
      "----------------------------------------\n",
      "bias by residue dictionary is not loaded, or not provided\n",
      "----------------------------------------\n",
      "----------------------------------------\n",
      "Number of edges: 48\n",
      "Training noise level: 0.2A\n",
      "Generating sequences for: 3U1B_A\n",
      "1 sequences of length 336 generated in 0.7376 seconds\n"
     ]
    },
    {
     "name": "stderr",
     "output_type": "stream",
     "text": [
      "  6%|▌         | 8/142 [00:24<07:05,  3.17s/it]"
     ]
    },
    {
     "name": "stdout",
     "output_type": "stream",
     "text": [
      "----------------------------------------\n",
      "chain_id_jsonl is NOT loaded\n",
      "----------------------------------------\n",
      "fixed_positions_jsonl is NOT loaded\n",
      "----------------------------------------\n",
      "pssm_jsonl is NOT loaded\n",
      "----------------------------------------\n",
      "omit_AA_jsonl is NOT loaded\n",
      "----------------------------------------\n",
      "bias_AA_jsonl is NOT loaded\n",
      "----------------------------------------\n",
      "tied_positions_jsonl is NOT loaded\n",
      "----------------------------------------\n",
      "bias by residue dictionary is not loaded, or not provided\n",
      "----------------------------------------\n",
      "----------------------------------------\n",
      "Number of edges: 48\n",
      "Training noise level: 0.2A\n",
      "Generating sequences for: 6PNW_A\n",
      "1 sequences of length 62 generated in 0.1648 seconds\n"
     ]
    },
    {
     "name": "stderr",
     "output_type": "stream",
     "text": [
      "  6%|▋         | 9/142 [00:27<06:40,  3.01s/it]"
     ]
    },
    {
     "name": "stdout",
     "output_type": "stream",
     "text": [
      "----------------------------------------\n",
      "chain_id_jsonl is NOT loaded\n",
      "----------------------------------------\n",
      "fixed_positions_jsonl is NOT loaded\n",
      "----------------------------------------\n",
      "pssm_jsonl is NOT loaded\n",
      "----------------------------------------\n",
      "omit_AA_jsonl is NOT loaded\n",
      "----------------------------------------\n",
      "bias_AA_jsonl is NOT loaded\n",
      "----------------------------------------\n",
      "tied_positions_jsonl is NOT loaded\n",
      "----------------------------------------\n",
      "bias by residue dictionary is not loaded, or not provided\n",
      "----------------------------------------\n",
      "----------------------------------------\n",
      "Number of edges: 48\n",
      "Training noise level: 0.2A\n",
      "Generating sequences for: 6R3C_A\n",
      "1 sequences of length 159 generated in 0.36 seconds\n"
     ]
    },
    {
     "name": "stderr",
     "output_type": "stream",
     "text": [
      "  7%|▋         | 10/142 [00:30<06:37,  3.01s/it]"
     ]
    },
    {
     "name": "stdout",
     "output_type": "stream",
     "text": [
      "----------------------------------------\n",
      "chain_id_jsonl is NOT loaded\n",
      "----------------------------------------\n",
      "fixed_positions_jsonl is NOT loaded\n",
      "----------------------------------------\n",
      "pssm_jsonl is NOT loaded\n",
      "----------------------------------------\n",
      "omit_AA_jsonl is NOT loaded\n",
      "----------------------------------------\n",
      "bias_AA_jsonl is NOT loaded\n",
      "----------------------------------------\n",
      "tied_positions_jsonl is NOT loaded\n",
      "----------------------------------------\n",
      "bias by residue dictionary is not loaded, or not provided\n",
      "----------------------------------------\n",
      "----------------------------------------\n",
      "Number of edges: 48\n",
      "Training noise level: 0.2A\n",
      "Generating sequences for: 2C4F_T\n",
      "1 sequences of length 75 generated in 0.1997 seconds\n"
     ]
    },
    {
     "name": "stderr",
     "output_type": "stream",
     "text": [
      "  8%|▊         | 11/142 [00:33<06:23,  2.93s/it]"
     ]
    },
    {
     "name": "stdout",
     "output_type": "stream",
     "text": [
      "----------------------------------------\n",
      "chain_id_jsonl is NOT loaded\n",
      "----------------------------------------\n",
      "fixed_positions_jsonl is NOT loaded\n",
      "----------------------------------------\n",
      "pssm_jsonl is NOT loaded\n",
      "----------------------------------------\n",
      "omit_AA_jsonl is NOT loaded\n",
      "----------------------------------------\n",
      "bias_AA_jsonl is NOT loaded\n",
      "----------------------------------------\n",
      "tied_positions_jsonl is NOT loaded\n",
      "----------------------------------------\n",
      "bias by residue dictionary is not loaded, or not provided\n",
      "----------------------------------------\n",
      "----------------------------------------\n",
      "Number of edges: 48\n",
      "Training noise level: 0.2A\n",
      "Generating sequences for: 3SR3_B\n",
      "1 sequences of length 304 generated in 0.6864 seconds\n"
     ]
    },
    {
     "name": "stderr",
     "output_type": "stream",
     "text": [
      "  8%|▊         | 12/142 [00:36<06:41,  3.09s/it]"
     ]
    },
    {
     "name": "stdout",
     "output_type": "stream",
     "text": [
      "----------------------------------------\n",
      "chain_id_jsonl is NOT loaded\n",
      "----------------------------------------\n",
      "fixed_positions_jsonl is NOT loaded\n",
      "----------------------------------------\n",
      "pssm_jsonl is NOT loaded\n",
      "----------------------------------------\n",
      "omit_AA_jsonl is NOT loaded\n",
      "----------------------------------------\n",
      "bias_AA_jsonl is NOT loaded\n",
      "----------------------------------------\n",
      "tied_positions_jsonl is NOT loaded\n",
      "----------------------------------------\n",
      "bias by residue dictionary is not loaded, or not provided\n",
      "----------------------------------------\n",
      "----------------------------------------\n",
      "Number of edges: 48\n",
      "Training noise level: 0.2A\n",
      "Generating sequences for: 4JJC_A\n",
      "1 sequences of length 58 generated in 0.1693 seconds\n"
     ]
    },
    {
     "name": "stderr",
     "output_type": "stream",
     "text": [
      "  9%|▉         | 13/142 [00:39<06:24,  2.98s/it]"
     ]
    },
    {
     "name": "stdout",
     "output_type": "stream",
     "text": [
      "----------------------------------------\n",
      "chain_id_jsonl is NOT loaded\n",
      "----------------------------------------\n",
      "fixed_positions_jsonl is NOT loaded\n",
      "----------------------------------------\n",
      "pssm_jsonl is NOT loaded\n",
      "----------------------------------------\n",
      "omit_AA_jsonl is NOT loaded\n",
      "----------------------------------------\n",
      "bias_AA_jsonl is NOT loaded\n",
      "----------------------------------------\n",
      "tied_positions_jsonl is NOT loaded\n",
      "----------------------------------------\n",
      "bias by residue dictionary is not loaded, or not provided\n",
      "----------------------------------------\n",
      "----------------------------------------\n",
      "Number of edges: 48\n",
      "Training noise level: 0.2A\n",
      "Generating sequences for: 4JJD_A\n",
      "1 sequences of length 59 generated in 0.1599 seconds\n"
     ]
    },
    {
     "name": "stderr",
     "output_type": "stream",
     "text": [
      " 10%|▉         | 14/142 [00:41<06:10,  2.89s/it]"
     ]
    },
    {
     "name": "stdout",
     "output_type": "stream",
     "text": [
      "----------------------------------------\n",
      "chain_id_jsonl is NOT loaded\n",
      "----------------------------------------\n",
      "fixed_positions_jsonl is NOT loaded\n",
      "----------------------------------------\n",
      "pssm_jsonl is NOT loaded\n",
      "----------------------------------------\n",
      "omit_AA_jsonl is NOT loaded\n",
      "----------------------------------------\n",
      "bias_AA_jsonl is NOT loaded\n",
      "----------------------------------------\n",
      "tied_positions_jsonl is NOT loaded\n",
      "----------------------------------------\n",
      "bias by residue dictionary is not loaded, or not provided\n",
      "----------------------------------------\n",
      "----------------------------------------\n",
      "Number of edges: 48\n",
      "Training noise level: 0.2A\n",
      "Generating sequences for: 5USD_D\n",
      "1 sequences of length 330 generated in 0.7105 seconds\n"
     ]
    },
    {
     "name": "stderr",
     "output_type": "stream",
     "text": [
      " 11%|█         | 15/142 [00:45<06:30,  3.07s/it]"
     ]
    },
    {
     "name": "stdout",
     "output_type": "stream",
     "text": [
      "----------------------------------------\n",
      "chain_id_jsonl is NOT loaded\n",
      "----------------------------------------\n",
      "fixed_positions_jsonl is NOT loaded\n",
      "----------------------------------------\n",
      "pssm_jsonl is NOT loaded\n",
      "----------------------------------------\n",
      "omit_AA_jsonl is NOT loaded\n",
      "----------------------------------------\n",
      "bias_AA_jsonl is NOT loaded\n",
      "----------------------------------------\n",
      "tied_positions_jsonl is NOT loaded\n",
      "----------------------------------------\n",
      "bias by residue dictionary is not loaded, or not provided\n",
      "----------------------------------------\n",
      "----------------------------------------\n",
      "Number of edges: 48\n",
      "Training noise level: 0.2A\n",
      "Generating sequences for: 5NP3_A\n",
      "1 sequences of length 57 generated in 0.158 seconds\n"
     ]
    },
    {
     "name": "stderr",
     "output_type": "stream",
     "text": [
      " 11%|█▏        | 16/142 [00:48<06:12,  2.95s/it]"
     ]
    },
    {
     "name": "stdout",
     "output_type": "stream",
     "text": [
      "----------------------------------------\n",
      "chain_id_jsonl is NOT loaded\n",
      "----------------------------------------\n",
      "fixed_positions_jsonl is NOT loaded\n",
      "----------------------------------------\n",
      "pssm_jsonl is NOT loaded\n",
      "----------------------------------------\n",
      "omit_AA_jsonl is NOT loaded\n",
      "----------------------------------------\n",
      "bias_AA_jsonl is NOT loaded\n",
      "----------------------------------------\n",
      "tied_positions_jsonl is NOT loaded\n",
      "----------------------------------------\n",
      "bias by residue dictionary is not loaded, or not provided\n",
      "----------------------------------------\n",
      "----------------------------------------\n",
      "Number of edges: 48\n",
      "Training noise level: 0.2A\n",
      "Generating sequences for: 1ABO_A\n",
      "1 sequences of length 58 generated in 0.166 seconds\n"
     ]
    },
    {
     "name": "stderr",
     "output_type": "stream",
     "text": [
      " 12%|█▏        | 17/142 [00:50<06:01,  2.89s/it]"
     ]
    },
    {
     "name": "stdout",
     "output_type": "stream",
     "text": [
      "----------------------------------------\n",
      "chain_id_jsonl is NOT loaded\n",
      "----------------------------------------\n",
      "fixed_positions_jsonl is NOT loaded\n",
      "----------------------------------------\n",
      "pssm_jsonl is NOT loaded\n",
      "----------------------------------------\n",
      "omit_AA_jsonl is NOT loaded\n",
      "----------------------------------------\n",
      "bias_AA_jsonl is NOT loaded\n",
      "----------------------------------------\n",
      "tied_positions_jsonl is NOT loaded\n",
      "----------------------------------------\n",
      "bias by residue dictionary is not loaded, or not provided\n",
      "----------------------------------------\n",
      "----------------------------------------\n",
      "Number of edges: 48\n",
      "Training noise level: 0.2A\n",
      "Generating sequences for: 3TYX_B\n",
      "1 sequences of length 332 generated in 0.7183 seconds\n"
     ]
    },
    {
     "name": "stderr",
     "output_type": "stream",
     "text": [
      " 13%|█▎        | 18/142 [00:54<06:20,  3.07s/it]"
     ]
    },
    {
     "name": "stdout",
     "output_type": "stream",
     "text": [
      "----------------------------------------\n",
      "chain_id_jsonl is NOT loaded\n",
      "----------------------------------------\n",
      "fixed_positions_jsonl is NOT loaded\n",
      "----------------------------------------\n",
      "pssm_jsonl is NOT loaded\n",
      "----------------------------------------\n",
      "omit_AA_jsonl is NOT loaded\n",
      "----------------------------------------\n",
      "bias_AA_jsonl is NOT loaded\n",
      "----------------------------------------\n",
      "tied_positions_jsonl is NOT loaded\n",
      "----------------------------------------\n",
      "bias by residue dictionary is not loaded, or not provided\n",
      "----------------------------------------\n",
      "----------------------------------------\n",
      "Number of edges: 48\n",
      "Training noise level: 0.2A\n",
      "Generating sequences for: 3EG1_A\n",
      "1 sequences of length 58 generated in 0.1581 seconds\n"
     ]
    },
    {
     "name": "stderr",
     "output_type": "stream",
     "text": [
      " 13%|█▎        | 19/142 [00:56<06:02,  2.95s/it]"
     ]
    },
    {
     "name": "stdout",
     "output_type": "stream",
     "text": [
      "----------------------------------------\n",
      "chain_id_jsonl is NOT loaded\n",
      "----------------------------------------\n",
      "fixed_positions_jsonl is NOT loaded\n",
      "----------------------------------------\n",
      "pssm_jsonl is NOT loaded\n",
      "----------------------------------------\n",
      "omit_AA_jsonl is NOT loaded\n",
      "----------------------------------------\n",
      "bias_AA_jsonl is NOT loaded\n",
      "----------------------------------------\n",
      "tied_positions_jsonl is NOT loaded\n",
      "----------------------------------------\n",
      "bias by residue dictionary is not loaded, or not provided\n",
      "----------------------------------------\n",
      "----------------------------------------\n",
      "Number of edges: 48\n",
      "Training noise level: 0.2A\n",
      "Generating sequences for: 5CH4_Y\n",
      "1 sequences of length 421 generated in 0.9101 seconds\n"
     ]
    },
    {
     "name": "stderr",
     "output_type": "stream",
     "text": [
      " 14%|█▍        | 20/142 [01:00<06:30,  3.20s/it]"
     ]
    },
    {
     "name": "stdout",
     "output_type": "stream",
     "text": [
      "----------------------------------------\n",
      "chain_id_jsonl is NOT loaded\n",
      "----------------------------------------\n",
      "fixed_positions_jsonl is NOT loaded\n",
      "----------------------------------------\n",
      "pssm_jsonl is NOT loaded\n",
      "----------------------------------------\n",
      "omit_AA_jsonl is NOT loaded\n",
      "----------------------------------------\n",
      "bias_AA_jsonl is NOT loaded\n",
      "----------------------------------------\n",
      "tied_positions_jsonl is NOT loaded\n",
      "----------------------------------------\n",
      "bias by residue dictionary is not loaded, or not provided\n",
      "----------------------------------------\n",
      "----------------------------------------\n",
      "Number of edges: 48\n",
      "Training noise level: 0.2A\n",
      "Generating sequences for: 1SZ2_B\n",
      "1 sequences of length 320 generated in 0.6773 seconds\n"
     ]
    },
    {
     "name": "stderr",
     "output_type": "stream",
     "text": [
      " 15%|█▍        | 21/142 [01:04<06:35,  3.27s/it]"
     ]
    },
    {
     "name": "stdout",
     "output_type": "stream",
     "text": [
      "----------------------------------------\n",
      "chain_id_jsonl is NOT loaded\n",
      "----------------------------------------\n",
      "fixed_positions_jsonl is NOT loaded\n",
      "----------------------------------------\n",
      "pssm_jsonl is NOT loaded\n",
      "----------------------------------------\n",
      "omit_AA_jsonl is NOT loaded\n",
      "----------------------------------------\n",
      "bias_AA_jsonl is NOT loaded\n",
      "----------------------------------------\n",
      "tied_positions_jsonl is NOT loaded\n",
      "----------------------------------------\n",
      "bias by residue dictionary is not loaded, or not provided\n",
      "----------------------------------------\n",
      "----------------------------------------\n",
      "Number of edges: 48\n",
      "Training noise level: 0.2A\n",
      "Generating sequences for: 1Q18_B\n",
      "1 sequences of length 320 generated in 0.6851 seconds\n"
     ]
    },
    {
     "name": "stderr",
     "output_type": "stream",
     "text": [
      " 15%|█▌        | 22/142 [01:07<06:38,  3.32s/it]"
     ]
    },
    {
     "name": "stdout",
     "output_type": "stream",
     "text": [
      "----------------------------------------\n",
      "chain_id_jsonl is NOT loaded\n",
      "----------------------------------------\n",
      "fixed_positions_jsonl is NOT loaded\n",
      "----------------------------------------\n",
      "pssm_jsonl is NOT loaded\n",
      "----------------------------------------\n",
      "omit_AA_jsonl is NOT loaded\n",
      "----------------------------------------\n",
      "bias_AA_jsonl is NOT loaded\n",
      "----------------------------------------\n",
      "tied_positions_jsonl is NOT loaded\n",
      "----------------------------------------\n",
      "bias by residue dictionary is not loaded, or not provided\n",
      "----------------------------------------\n",
      "----------------------------------------\n",
      "Number of edges: 48\n",
      "Training noise level: 0.2A\n",
      "Generating sequences for: 4J9D_A\n",
      "1 sequences of length 56 generated in 0.1592 seconds\n"
     ]
    },
    {
     "name": "stderr",
     "output_type": "stream",
     "text": [
      " 16%|█▌        | 23/142 [01:10<06:12,  3.13s/it]"
     ]
    },
    {
     "name": "stdout",
     "output_type": "stream",
     "text": [
      "----------------------------------------\n",
      "chain_id_jsonl is NOT loaded\n",
      "----------------------------------------\n",
      "fixed_positions_jsonl is NOT loaded\n",
      "----------------------------------------\n",
      "pssm_jsonl is NOT loaded\n",
      "----------------------------------------\n",
      "omit_AA_jsonl is NOT loaded\n",
      "----------------------------------------\n",
      "bias_AA_jsonl is NOT loaded\n",
      "----------------------------------------\n",
      "tied_positions_jsonl is NOT loaded\n",
      "----------------------------------------\n",
      "bias by residue dictionary is not loaded, or not provided\n",
      "----------------------------------------\n",
      "----------------------------------------\n",
      "Number of edges: 48\n",
      "Training noise level: 0.2A\n",
      "Generating sequences for: 6CWY_D\n",
      "1 sequences of length 487 generated in 1.064 seconds\n"
     ]
    },
    {
     "name": "stderr",
     "output_type": "stream",
     "text": [
      " 17%|█▋        | 24/142 [01:14<06:37,  3.37s/it]"
     ]
    },
    {
     "name": "stdout",
     "output_type": "stream",
     "text": [
      "----------------------------------------\n",
      "chain_id_jsonl is NOT loaded\n",
      "----------------------------------------\n",
      "fixed_positions_jsonl is NOT loaded\n",
      "----------------------------------------\n",
      "pssm_jsonl is NOT loaded\n",
      "----------------------------------------\n",
      "omit_AA_jsonl is NOT loaded\n",
      "----------------------------------------\n",
      "bias_AA_jsonl is NOT loaded\n",
      "----------------------------------------\n",
      "tied_positions_jsonl is NOT loaded\n",
      "----------------------------------------\n",
      "bias by residue dictionary is not loaded, or not provided\n",
      "----------------------------------------\n",
      "----------------------------------------\n",
      "Number of edges: 48\n",
      "Training noise level: 0.2A\n",
      "Generating sequences for: 1JRH_I\n",
      "1 sequences of length 95 generated in 0.2392 seconds\n"
     ]
    },
    {
     "name": "stderr",
     "output_type": "stream",
     "text": [
      " 18%|█▊        | 25/142 [01:17<06:13,  3.20s/it]"
     ]
    },
    {
     "name": "stdout",
     "output_type": "stream",
     "text": [
      "----------------------------------------\n",
      "chain_id_jsonl is NOT loaded\n",
      "----------------------------------------\n",
      "fixed_positions_jsonl is NOT loaded\n",
      "----------------------------------------\n",
      "pssm_jsonl is NOT loaded\n",
      "----------------------------------------\n",
      "omit_AA_jsonl is NOT loaded\n",
      "----------------------------------------\n",
      "bias_AA_jsonl is NOT loaded\n",
      "----------------------------------------\n",
      "tied_positions_jsonl is NOT loaded\n",
      "----------------------------------------\n",
      "bias by residue dictionary is not loaded, or not provided\n",
      "----------------------------------------\n",
      "----------------------------------------\n",
      "Number of edges: 48\n",
      "Training noise level: 0.2A\n",
      "Generating sequences for: 3T5M_B\n",
      "1 sequences of length 333 generated in 0.7572 seconds\n"
     ]
    },
    {
     "name": "stderr",
     "output_type": "stream",
     "text": [
      " 18%|█▊        | 26/142 [01:20<06:22,  3.30s/it]"
     ]
    },
    {
     "name": "stdout",
     "output_type": "stream",
     "text": [
      "----------------------------------------\n",
      "chain_id_jsonl is NOT loaded\n",
      "----------------------------------------\n",
      "fixed_positions_jsonl is NOT loaded\n",
      "----------------------------------------\n",
      "pssm_jsonl is NOT loaded\n",
      "----------------------------------------\n",
      "omit_AA_jsonl is NOT loaded\n",
      "----------------------------------------\n",
      "bias_AA_jsonl is NOT loaded\n",
      "----------------------------------------\n",
      "tied_positions_jsonl is NOT loaded\n",
      "----------------------------------------\n",
      "bias by residue dictionary is not loaded, or not provided\n",
      "----------------------------------------\n",
      "----------------------------------------\n",
      "Number of edges: 48\n",
      "Training noise level: 0.2A\n",
      "Generating sequences for: 5IEB_A\n",
      "1 sequences of length 118 generated in 0.277 seconds\n"
     ]
    },
    {
     "name": "stderr",
     "output_type": "stream",
     "text": [
      " 19%|█▉        | 27/142 [01:23<06:04,  3.17s/it]"
     ]
    },
    {
     "name": "stdout",
     "output_type": "stream",
     "text": [
      "----------------------------------------\n",
      "chain_id_jsonl is NOT loaded\n",
      "----------------------------------------\n",
      "fixed_positions_jsonl is NOT loaded\n",
      "----------------------------------------\n",
      "pssm_jsonl is NOT loaded\n",
      "----------------------------------------\n",
      "omit_AA_jsonl is NOT loaded\n",
      "----------------------------------------\n",
      "bias_AA_jsonl is NOT loaded\n",
      "----------------------------------------\n",
      "tied_positions_jsonl is NOT loaded\n",
      "----------------------------------------\n",
      "bias by residue dictionary is not loaded, or not provided\n",
      "----------------------------------------\n",
      "----------------------------------------\n",
      "Number of edges: 48\n",
      "Training noise level: 0.2A\n",
      "Generating sequences for: 1Q18_A\n",
      "1 sequences of length 320 generated in 0.7072 seconds\n"
     ]
    },
    {
     "name": "stderr",
     "output_type": "stream",
     "text": [
      " 20%|█▉        | 28/142 [01:26<06:11,  3.26s/it]"
     ]
    },
    {
     "name": "stdout",
     "output_type": "stream",
     "text": [
      "----------------------------------------\n",
      "chain_id_jsonl is NOT loaded\n",
      "----------------------------------------\n",
      "fixed_positions_jsonl is NOT loaded\n",
      "----------------------------------------\n",
      "pssm_jsonl is NOT loaded\n",
      "----------------------------------------\n",
      "omit_AA_jsonl is NOT loaded\n",
      "----------------------------------------\n",
      "bias_AA_jsonl is NOT loaded\n",
      "----------------------------------------\n",
      "tied_positions_jsonl is NOT loaded\n",
      "----------------------------------------\n",
      "bias by residue dictionary is not loaded, or not provided\n",
      "----------------------------------------\n",
      "----------------------------------------\n",
      "Number of edges: 48\n",
      "Training noise level: 0.2A\n",
      "Generating sequences for: 1WWA_X\n",
      "1 sequences of length 105 generated in 0.2571 seconds\n"
     ]
    },
    {
     "name": "stderr",
     "output_type": "stream",
     "text": [
      " 20%|██        | 29/142 [01:29<05:54,  3.14s/it]"
     ]
    },
    {
     "name": "stdout",
     "output_type": "stream",
     "text": [
      "----------------------------------------\n",
      "chain_id_jsonl is NOT loaded\n",
      "----------------------------------------\n",
      "fixed_positions_jsonl is NOT loaded\n",
      "----------------------------------------\n",
      "pssm_jsonl is NOT loaded\n",
      "----------------------------------------\n",
      "omit_AA_jsonl is NOT loaded\n",
      "----------------------------------------\n",
      "bias_AA_jsonl is NOT loaded\n",
      "----------------------------------------\n",
      "tied_positions_jsonl is NOT loaded\n",
      "----------------------------------------\n",
      "bias by residue dictionary is not loaded, or not provided\n",
      "----------------------------------------\n",
      "----------------------------------------\n",
      "Number of edges: 48\n",
      "Training noise level: 0.2A\n",
      "Generating sequences for: 6H8C_A\n",
      "1 sequences of length 116 generated in 0.2778 seconds\n"
     ]
    },
    {
     "name": "stderr",
     "output_type": "stream",
     "text": [
      " 21%|██        | 30/142 [01:32<05:43,  3.07s/it]"
     ]
    },
    {
     "name": "stdout",
     "output_type": "stream",
     "text": [
      "----------------------------------------\n",
      "chain_id_jsonl is NOT loaded\n",
      "----------------------------------------\n",
      "fixed_positions_jsonl is NOT loaded\n",
      "----------------------------------------\n",
      "pssm_jsonl is NOT loaded\n",
      "----------------------------------------\n",
      "omit_AA_jsonl is NOT loaded\n",
      "----------------------------------------\n",
      "bias_AA_jsonl is NOT loaded\n",
      "----------------------------------------\n",
      "tied_positions_jsonl is NOT loaded\n",
      "----------------------------------------\n",
      "bias by residue dictionary is not loaded, or not provided\n",
      "----------------------------------------\n",
      "----------------------------------------\n",
      "Number of edges: 48\n",
      "Training noise level: 0.2A\n",
      "Generating sequences for: 4J9H_A\n",
      "1 sequences of length 59 generated in 0.1639 seconds\n"
     ]
    },
    {
     "name": "stderr",
     "output_type": "stream",
     "text": [
      " 22%|██▏       | 31/142 [01:35<05:26,  2.95s/it]"
     ]
    },
    {
     "name": "stdout",
     "output_type": "stream",
     "text": [
      "----------------------------------------\n",
      "chain_id_jsonl is NOT loaded\n",
      "----------------------------------------\n",
      "fixed_positions_jsonl is NOT loaded\n",
      "----------------------------------------\n",
      "pssm_jsonl is NOT loaded\n",
      "----------------------------------------\n",
      "omit_AA_jsonl is NOT loaded\n",
      "----------------------------------------\n",
      "bias_AA_jsonl is NOT loaded\n",
      "----------------------------------------\n",
      "tied_positions_jsonl is NOT loaded\n",
      "----------------------------------------\n",
      "bias by residue dictionary is not loaded, or not provided\n",
      "----------------------------------------\n",
      "----------------------------------------\n",
      "Number of edges: 48\n",
      "Training noise level: 0.2A\n",
      "Generating sequences for: 1WWW_X\n",
      "1 sequences of length 101 generated in 0.2455 seconds\n"
     ]
    },
    {
     "name": "stderr",
     "output_type": "stream",
     "text": [
      " 23%|██▎       | 32/142 [01:38<05:18,  2.89s/it]"
     ]
    },
    {
     "name": "stdout",
     "output_type": "stream",
     "text": [
      "----------------------------------------\n",
      "chain_id_jsonl is NOT loaded\n",
      "----------------------------------------\n",
      "fixed_positions_jsonl is NOT loaded\n",
      "----------------------------------------\n",
      "pssm_jsonl is NOT loaded\n",
      "----------------------------------------\n",
      "omit_AA_jsonl is NOT loaded\n",
      "----------------------------------------\n",
      "bias_AA_jsonl is NOT loaded\n",
      "----------------------------------------\n",
      "tied_positions_jsonl is NOT loaded\n",
      "----------------------------------------\n",
      "bias by residue dictionary is not loaded, or not provided\n",
      "----------------------------------------\n",
      "----------------------------------------\n",
      "Number of edges: 48\n",
      "Training noise level: 0.2A\n",
      "Generating sequences for: 5LV6_B\n",
      "1 sequences of length 44 generated in 0.1307 seconds\n"
     ]
    },
    {
     "name": "stderr",
     "output_type": "stream",
     "text": [
      " 23%|██▎       | 33/142 [01:40<05:07,  2.82s/it]"
     ]
    },
    {
     "name": "stdout",
     "output_type": "stream",
     "text": [
      "----------------------------------------\n",
      "chain_id_jsonl is NOT loaded\n",
      "----------------------------------------\n",
      "fixed_positions_jsonl is NOT loaded\n",
      "----------------------------------------\n",
      "pssm_jsonl is NOT loaded\n",
      "----------------------------------------\n",
      "omit_AA_jsonl is NOT loaded\n",
      "----------------------------------------\n",
      "bias_AA_jsonl is NOT loaded\n",
      "----------------------------------------\n",
      "tied_positions_jsonl is NOT loaded\n",
      "----------------------------------------\n",
      "bias by residue dictionary is not loaded, or not provided\n",
      "----------------------------------------\n",
      "----------------------------------------\n",
      "Number of edges: 48\n",
      "Training noise level: 0.2A\n",
      "Generating sequences for: 3E18_B\n",
      "1 sequences of length 337 generated in 0.7309 seconds\n"
     ]
    },
    {
     "name": "stderr",
     "output_type": "stream",
     "text": [
      " 24%|██▍       | 34/142 [01:44<05:25,  3.02s/it]"
     ]
    },
    {
     "name": "stdout",
     "output_type": "stream",
     "text": [
      "----------------------------------------\n",
      "chain_id_jsonl is NOT loaded\n",
      "----------------------------------------\n",
      "fixed_positions_jsonl is NOT loaded\n",
      "----------------------------------------\n",
      "pssm_jsonl is NOT loaded\n",
      "----------------------------------------\n",
      "omit_AA_jsonl is NOT loaded\n",
      "----------------------------------------\n",
      "bias_AA_jsonl is NOT loaded\n",
      "----------------------------------------\n",
      "tied_positions_jsonl is NOT loaded\n",
      "----------------------------------------\n",
      "bias by residue dictionary is not loaded, or not provided\n",
      "----------------------------------------\n",
      "----------------------------------------\n",
      "Number of edges: 48\n",
      "Training noise level: 0.2A\n",
      "Generating sequences for: 4J9E_A\n",
      "1 sequences of length 56 generated in 0.1521 seconds\n"
     ]
    },
    {
     "name": "stderr",
     "output_type": "stream",
     "text": [
      " 25%|██▍       | 35/142 [01:46<05:11,  2.91s/it]"
     ]
    },
    {
     "name": "stdout",
     "output_type": "stream",
     "text": [
      "----------------------------------------\n",
      "chain_id_jsonl is NOT loaded\n",
      "----------------------------------------\n",
      "fixed_positions_jsonl is NOT loaded\n",
      "----------------------------------------\n",
      "pssm_jsonl is NOT loaded\n",
      "----------------------------------------\n",
      "omit_AA_jsonl is NOT loaded\n",
      "----------------------------------------\n",
      "bias_AA_jsonl is NOT loaded\n",
      "----------------------------------------\n",
      "tied_positions_jsonl is NOT loaded\n",
      "----------------------------------------\n",
      "bias by residue dictionary is not loaded, or not provided\n",
      "----------------------------------------\n",
      "----------------------------------------\n",
      "Number of edges: 48\n",
      "Training noise level: 0.2A\n",
      "Generating sequences for: 2EC9_T\n",
      "1 sequences of length 75 generated in 0.194 seconds\n"
     ]
    },
    {
     "name": "stderr",
     "output_type": "stream",
     "text": [
      " 25%|██▌       | 36/142 [01:49<05:02,  2.85s/it]"
     ]
    },
    {
     "name": "stdout",
     "output_type": "stream",
     "text": [
      "----------------------------------------\n",
      "chain_id_jsonl is NOT loaded\n",
      "----------------------------------------\n",
      "fixed_positions_jsonl is NOT loaded\n",
      "----------------------------------------\n",
      "pssm_jsonl is NOT loaded\n",
      "----------------------------------------\n",
      "omit_AA_jsonl is NOT loaded\n",
      "----------------------------------------\n",
      "bias_AA_jsonl is NOT loaded\n",
      "----------------------------------------\n",
      "tied_positions_jsonl is NOT loaded\n",
      "----------------------------------------\n",
      "bias by residue dictionary is not loaded, or not provided\n",
      "----------------------------------------\n",
      "----------------------------------------\n",
      "Number of edges: 48\n",
      "Training noise level: 0.2A\n",
      "Generating sequences for: 4H1H_A\n",
      "1 sequences of length 327 generated in 0.6872 seconds\n"
     ]
    },
    {
     "name": "stderr",
     "output_type": "stream",
     "text": [
      " 26%|██▌       | 37/142 [01:53<05:19,  3.05s/it]"
     ]
    },
    {
     "name": "stdout",
     "output_type": "stream",
     "text": [
      "----------------------------------------\n",
      "chain_id_jsonl is NOT loaded\n",
      "----------------------------------------\n",
      "fixed_positions_jsonl is NOT loaded\n",
      "----------------------------------------\n",
      "pssm_jsonl is NOT loaded\n",
      "----------------------------------------\n",
      "omit_AA_jsonl is NOT loaded\n",
      "----------------------------------------\n",
      "bias_AA_jsonl is NOT loaded\n",
      "----------------------------------------\n",
      "tied_positions_jsonl is NOT loaded\n",
      "----------------------------------------\n",
      "bias by residue dictionary is not loaded, or not provided\n",
      "----------------------------------------\n",
      "----------------------------------------\n",
      "Number of edges: 48\n",
      "Training noise level: 0.2A\n",
      "Generating sequences for: 6FGN_A\n",
      "1 sequences of length 124 generated in 0.2985 seconds\n"
     ]
    },
    {
     "name": "stderr",
     "output_type": "stream",
     "text": [
      " 27%|██▋       | 38/142 [01:56<05:11,  3.00s/it]"
     ]
    },
    {
     "name": "stdout",
     "output_type": "stream",
     "text": [
      "----------------------------------------\n",
      "chain_id_jsonl is NOT loaded\n",
      "----------------------------------------\n",
      "fixed_positions_jsonl is NOT loaded\n",
      "----------------------------------------\n",
      "pssm_jsonl is NOT loaded\n",
      "----------------------------------------\n",
      "omit_AA_jsonl is NOT loaded\n",
      "----------------------------------------\n",
      "bias_AA_jsonl is NOT loaded\n",
      "----------------------------------------\n",
      "tied_positions_jsonl is NOT loaded\n",
      "----------------------------------------\n",
      "bias by residue dictionary is not loaded, or not provided\n",
      "----------------------------------------\n",
      "----------------------------------------\n",
      "Number of edges: 48\n",
      "Training noise level: 0.2A\n",
      "Generating sequences for: 3EG2_A\n",
      "1 sequences of length 63 generated in 0.1767 seconds\n"
     ]
    },
    {
     "name": "stderr",
     "output_type": "stream",
     "text": [
      " 27%|██▋       | 39/142 [01:58<05:00,  2.92s/it]"
     ]
    },
    {
     "name": "stdout",
     "output_type": "stream",
     "text": [
      "----------------------------------------\n",
      "chain_id_jsonl is NOT loaded\n",
      "----------------------------------------\n",
      "fixed_positions_jsonl is NOT loaded\n",
      "----------------------------------------\n",
      "pssm_jsonl is NOT loaded\n",
      "----------------------------------------\n",
      "omit_AA_jsonl is NOT loaded\n",
      "----------------------------------------\n",
      "bias_AA_jsonl is NOT loaded\n",
      "----------------------------------------\n",
      "tied_positions_jsonl is NOT loaded\n",
      "----------------------------------------\n",
      "bias by residue dictionary is not loaded, or not provided\n",
      "----------------------------------------\n",
      "----------------------------------------\n",
      "Number of edges: 48\n",
      "Training noise level: 0.2A\n",
      "Generating sequences for: 4CRP_A\n",
      "1 sequences of length 107 generated in 0.2626 seconds\n"
     ]
    },
    {
     "name": "stderr",
     "output_type": "stream",
     "text": [
      " 28%|██▊       | 40/142 [02:01<04:57,  2.92s/it]"
     ]
    },
    {
     "name": "stdout",
     "output_type": "stream",
     "text": [
      "----------------------------------------\n",
      "chain_id_jsonl is NOT loaded\n",
      "----------------------------------------\n",
      "fixed_positions_jsonl is NOT loaded\n",
      "----------------------------------------\n",
      "pssm_jsonl is NOT loaded\n",
      "----------------------------------------\n",
      "omit_AA_jsonl is NOT loaded\n",
      "----------------------------------------\n",
      "bias_AA_jsonl is NOT loaded\n",
      "----------------------------------------\n",
      "tied_positions_jsonl is NOT loaded\n",
      "----------------------------------------\n",
      "bias by residue dictionary is not loaded, or not provided\n",
      "----------------------------------------\n",
      "----------------------------------------\n",
      "Number of edges: 48\n",
      "Training noise level: 0.2A\n",
      "Generating sequences for: 5FD8_A\n",
      "1 sequences of length 330 generated in 0.7133 seconds\n"
     ]
    },
    {
     "name": "stderr",
     "output_type": "stream",
     "text": [
      " 29%|██▉       | 41/142 [02:05<05:11,  3.09s/it]"
     ]
    },
    {
     "name": "stdout",
     "output_type": "stream",
     "text": [
      "----------------------------------------\n",
      "chain_id_jsonl is NOT loaded\n",
      "----------------------------------------\n",
      "fixed_positions_jsonl is NOT loaded\n",
      "----------------------------------------\n",
      "pssm_jsonl is NOT loaded\n",
      "----------------------------------------\n",
      "omit_AA_jsonl is NOT loaded\n",
      "----------------------------------------\n",
      "bias_AA_jsonl is NOT loaded\n",
      "----------------------------------------\n",
      "tied_positions_jsonl is NOT loaded\n",
      "----------------------------------------\n",
      "bias by residue dictionary is not loaded, or not provided\n",
      "----------------------------------------\n",
      "----------------------------------------\n",
      "Number of edges: 48\n",
      "Training noise level: 0.2A\n",
      "Generating sequences for: 1KKM_H\n",
      "1 sequences of length 87 generated in 0.2222 seconds\n"
     ]
    },
    {
     "name": "stderr",
     "output_type": "stream",
     "text": [
      " 30%|██▉       | 42/142 [02:07<05:01,  3.02s/it]"
     ]
    },
    {
     "name": "stdout",
     "output_type": "stream",
     "text": [
      "----------------------------------------\n",
      "chain_id_jsonl is NOT loaded\n",
      "----------------------------------------\n",
      "fixed_positions_jsonl is NOT loaded\n",
      "----------------------------------------\n",
      "pssm_jsonl is NOT loaded\n",
      "----------------------------------------\n",
      "omit_AA_jsonl is NOT loaded\n",
      "----------------------------------------\n",
      "bias_AA_jsonl is NOT loaded\n",
      "----------------------------------------\n",
      "tied_positions_jsonl is NOT loaded\n",
      "----------------------------------------\n",
      "bias by residue dictionary is not loaded, or not provided\n",
      "----------------------------------------\n",
      "----------------------------------------\n",
      "Number of edges: 48\n",
      "Training noise level: 0.2A\n",
      "Generating sequences for: 5GAE_g\n",
      "1 sequences of length 399 generated in 0.8634 seconds\n"
     ]
    },
    {
     "name": "stderr",
     "output_type": "stream",
     "text": [
      " 30%|███       | 43/142 [02:11<05:19,  3.22s/it]"
     ]
    },
    {
     "name": "stdout",
     "output_type": "stream",
     "text": [
      "----------------------------------------\n",
      "chain_id_jsonl is NOT loaded\n",
      "----------------------------------------\n",
      "fixed_positions_jsonl is NOT loaded\n",
      "----------------------------------------\n",
      "pssm_jsonl is NOT loaded\n",
      "----------------------------------------\n",
      "omit_AA_jsonl is NOT loaded\n",
      "----------------------------------------\n",
      "bias_AA_jsonl is NOT loaded\n",
      "----------------------------------------\n",
      "tied_positions_jsonl is NOT loaded\n",
      "----------------------------------------\n",
      "bias by residue dictionary is not loaded, or not provided\n",
      "----------------------------------------\n",
      "----------------------------------------\n",
      "Number of edges: 48\n",
      "Training noise level: 0.2A\n",
      "Generating sequences for: 6GQ9_A\n",
      "1 sequences of length 161 generated in 0.3788 seconds\n"
     ]
    },
    {
     "name": "stderr",
     "output_type": "stream",
     "text": [
      " 31%|███       | 44/142 [02:14<05:08,  3.15s/it]"
     ]
    },
    {
     "name": "stdout",
     "output_type": "stream",
     "text": [
      "----------------------------------------\n",
      "chain_id_jsonl is NOT loaded\n",
      "----------------------------------------\n",
      "fixed_positions_jsonl is NOT loaded\n",
      "----------------------------------------\n",
      "pssm_jsonl is NOT loaded\n",
      "----------------------------------------\n",
      "omit_AA_jsonl is NOT loaded\n",
      "----------------------------------------\n",
      "bias_AA_jsonl is NOT loaded\n",
      "----------------------------------------\n",
      "tied_positions_jsonl is NOT loaded\n",
      "----------------------------------------\n",
      "bias by residue dictionary is not loaded, or not provided\n",
      "----------------------------------------\n",
      "----------------------------------------\n",
      "Number of edges: 48\n",
      "Training noise level: 0.2A\n",
      "Generating sequences for: 4JVO_B\n",
      "1 sequences of length 332 generated in 0.7305 seconds\n"
     ]
    },
    {
     "name": "stderr",
     "output_type": "stream",
     "text": [
      " 32%|███▏      | 45/142 [02:18<05:15,  3.25s/it]"
     ]
    },
    {
     "name": "stdout",
     "output_type": "stream",
     "text": [
      "----------------------------------------\n",
      "chain_id_jsonl is NOT loaded\n",
      "----------------------------------------\n",
      "fixed_positions_jsonl is NOT loaded\n",
      "----------------------------------------\n",
      "pssm_jsonl is NOT loaded\n",
      "----------------------------------------\n",
      "omit_AA_jsonl is NOT loaded\n",
      "----------------------------------------\n",
      "bias_AA_jsonl is NOT loaded\n",
      "----------------------------------------\n",
      "tied_positions_jsonl is NOT loaded\n",
      "----------------------------------------\n",
      "bias by residue dictionary is not loaded, or not provided\n",
      "----------------------------------------\n",
      "----------------------------------------\n",
      "Number of edges: 48\n",
      "Training noise level: 0.2A\n",
      "Generating sequences for: 2E89_A\n",
      "1 sequences of length 317 generated in 0.6862 seconds\n"
     ]
    },
    {
     "name": "stderr",
     "output_type": "stream",
     "text": [
      " 32%|███▏      | 46/142 [02:21<05:18,  3.32s/it]"
     ]
    },
    {
     "name": "stdout",
     "output_type": "stream",
     "text": [
      "----------------------------------------\n",
      "chain_id_jsonl is NOT loaded\n",
      "----------------------------------------\n",
      "fixed_positions_jsonl is NOT loaded\n",
      "----------------------------------------\n",
      "pssm_jsonl is NOT loaded\n",
      "----------------------------------------\n",
      "omit_AA_jsonl is NOT loaded\n",
      "----------------------------------------\n",
      "bias_AA_jsonl is NOT loaded\n",
      "----------------------------------------\n",
      "tied_positions_jsonl is NOT loaded\n",
      "----------------------------------------\n",
      "bias by residue dictionary is not loaded, or not provided\n",
      "----------------------------------------\n",
      "----------------------------------------\n",
      "Number of edges: 48\n",
      "Training noise level: 0.2A\n",
      "Generating sequences for: 1P4I_L\n",
      "1 sequences of length 110 generated in 0.2713 seconds\n"
     ]
    },
    {
     "name": "stderr",
     "output_type": "stream",
     "text": [
      " 33%|███▎      | 47/142 [02:24<05:01,  3.17s/it]"
     ]
    },
    {
     "name": "stdout",
     "output_type": "stream",
     "text": [
      "----------------------------------------\n",
      "chain_id_jsonl is NOT loaded\n",
      "----------------------------------------\n",
      "fixed_positions_jsonl is NOT loaded\n",
      "----------------------------------------\n",
      "pssm_jsonl is NOT loaded\n",
      "----------------------------------------\n",
      "omit_AA_jsonl is NOT loaded\n",
      "----------------------------------------\n",
      "bias_AA_jsonl is NOT loaded\n",
      "----------------------------------------\n",
      "tied_positions_jsonl is NOT loaded\n",
      "----------------------------------------\n",
      "bias by residue dictionary is not loaded, or not provided\n",
      "----------------------------------------\n",
      "----------------------------------------\n",
      "Number of edges: 48\n",
      "Training noise level: 0.2A\n",
      "Generating sequences for: 3EG3_A\n",
      "1 sequences of length 63 generated in 0.1701 seconds\n"
     ]
    },
    {
     "name": "stderr",
     "output_type": "stream",
     "text": [
      " 34%|███▍      | 48/142 [02:27<04:44,  3.02s/it]"
     ]
    },
    {
     "name": "stdout",
     "output_type": "stream",
     "text": [
      "----------------------------------------\n",
      "chain_id_jsonl is NOT loaded\n",
      "----------------------------------------\n",
      "fixed_positions_jsonl is NOT loaded\n",
      "----------------------------------------\n",
      "pssm_jsonl is NOT loaded\n",
      "----------------------------------------\n",
      "omit_AA_jsonl is NOT loaded\n",
      "----------------------------------------\n",
      "bias_AA_jsonl is NOT loaded\n",
      "----------------------------------------\n",
      "tied_positions_jsonl is NOT loaded\n",
      "----------------------------------------\n",
      "bias by residue dictionary is not loaded, or not provided\n",
      "----------------------------------------\n",
      "----------------------------------------\n",
      "Number of edges: 48\n",
      "Training noise level: 0.2A\n",
      "Generating sequences for: 3GBQ_A\n",
      "1 sequences of length 57 generated in 0.1589 seconds\n"
     ]
    },
    {
     "name": "stderr",
     "output_type": "stream",
     "text": [
      " 35%|███▍      | 49/142 [02:29<04:35,  2.96s/it]"
     ]
    },
    {
     "name": "stdout",
     "output_type": "stream",
     "text": [
      "----------------------------------------\n",
      "chain_id_jsonl is NOT loaded\n",
      "----------------------------------------\n",
      "fixed_positions_jsonl is NOT loaded\n",
      "----------------------------------------\n",
      "pssm_jsonl is NOT loaded\n",
      "----------------------------------------\n",
      "omit_AA_jsonl is NOT loaded\n",
      "----------------------------------------\n",
      "bias_AA_jsonl is NOT loaded\n",
      "----------------------------------------\n",
      "tied_positions_jsonl is NOT loaded\n",
      "----------------------------------------\n",
      "bias by residue dictionary is not loaded, or not provided\n",
      "----------------------------------------\n",
      "----------------------------------------\n",
      "Number of edges: 48\n",
      "Training noise level: 0.2A\n",
      "Generating sequences for: 2E89_B\n",
      "1 sequences of length 314 generated in 0.6775 seconds\n"
     ]
    },
    {
     "name": "stderr",
     "output_type": "stream",
     "text": [
      " 35%|███▌      | 50/142 [02:33<04:45,  3.10s/it]"
     ]
    },
    {
     "name": "stdout",
     "output_type": "stream",
     "text": [
      "----------------------------------------\n",
      "chain_id_jsonl is NOT loaded\n",
      "----------------------------------------\n",
      "fixed_positions_jsonl is NOT loaded\n",
      "----------------------------------------\n",
      "pssm_jsonl is NOT loaded\n",
      "----------------------------------------\n",
      "omit_AA_jsonl is NOT loaded\n",
      "----------------------------------------\n",
      "bias_AA_jsonl is NOT loaded\n",
      "----------------------------------------\n",
      "tied_positions_jsonl is NOT loaded\n",
      "----------------------------------------\n",
      "bias by residue dictionary is not loaded, or not provided\n",
      "----------------------------------------\n",
      "----------------------------------------\n",
      "Number of edges: 48\n",
      "Training noise level: 0.2A\n",
      "Generating sequences for: 4MJX_A\n",
      "1 sequences of length 333 generated in 0.7023 seconds\n"
     ]
    },
    {
     "name": "stderr",
     "output_type": "stream",
     "text": [
      " 36%|███▌      | 51/142 [02:36<04:52,  3.21s/it]"
     ]
    },
    {
     "name": "stdout",
     "output_type": "stream",
     "text": [
      "----------------------------------------\n",
      "chain_id_jsonl is NOT loaded\n",
      "----------------------------------------\n",
      "fixed_positions_jsonl is NOT loaded\n",
      "----------------------------------------\n",
      "pssm_jsonl is NOT loaded\n",
      "----------------------------------------\n",
      "omit_AA_jsonl is NOT loaded\n",
      "----------------------------------------\n",
      "bias_AA_jsonl is NOT loaded\n",
      "----------------------------------------\n",
      "tied_positions_jsonl is NOT loaded\n",
      "----------------------------------------\n",
      "bias by residue dictionary is not loaded, or not provided\n",
      "----------------------------------------\n",
      "----------------------------------------\n",
      "Number of edges: 48\n",
      "Training noise level: 0.2A\n",
      "Generating sequences for: 5AWW_G\n",
      "1 sequences of length 75 generated in 0.1902 seconds\n"
     ]
    },
    {
     "name": "stderr",
     "output_type": "stream",
     "text": [
      " 37%|███▋      | 52/142 [02:39<04:34,  3.05s/it]"
     ]
    },
    {
     "name": "stdout",
     "output_type": "stream",
     "text": [
      "----------------------------------------\n",
      "chain_id_jsonl is NOT loaded\n",
      "----------------------------------------\n",
      "fixed_positions_jsonl is NOT loaded\n",
      "----------------------------------------\n",
      "pssm_jsonl is NOT loaded\n",
      "----------------------------------------\n",
      "omit_AA_jsonl is NOT loaded\n",
      "----------------------------------------\n",
      "bias_AA_jsonl is NOT loaded\n",
      "----------------------------------------\n",
      "tied_positions_jsonl is NOT loaded\n",
      "----------------------------------------\n",
      "bias by residue dictionary is not loaded, or not provided\n",
      "----------------------------------------\n",
      "----------------------------------------\n",
      "Number of edges: 48\n",
      "Training noise level: 0.2A\n",
      "Generating sequences for: 5CH4_G\n",
      "1 sequences of length 74 generated in 0.193 seconds\n"
     ]
    },
    {
     "name": "stderr",
     "output_type": "stream",
     "text": [
      " 37%|███▋      | 53/142 [02:42<04:26,  2.99s/it]"
     ]
    },
    {
     "name": "stdout",
     "output_type": "stream",
     "text": [
      "----------------------------------------\n",
      "chain_id_jsonl is NOT loaded\n",
      "----------------------------------------\n",
      "fixed_positions_jsonl is NOT loaded\n",
      "----------------------------------------\n",
      "pssm_jsonl is NOT loaded\n",
      "----------------------------------------\n",
      "omit_AA_jsonl is NOT loaded\n",
      "----------------------------------------\n",
      "bias_AA_jsonl is NOT loaded\n",
      "----------------------------------------\n",
      "tied_positions_jsonl is NOT loaded\n",
      "----------------------------------------\n",
      "bias by residue dictionary is not loaded, or not provided\n",
      "----------------------------------------\n",
      "----------------------------------------\n",
      "Number of edges: 48\n",
      "Training noise level: 0.2A\n",
      "Generating sequences for: 6AEX_U\n",
      "1 sequences of length 165 generated in 0.3833 seconds\n"
     ]
    },
    {
     "name": "stderr",
     "output_type": "stream",
     "text": [
      " 38%|███▊      | 54/142 [02:45<04:24,  3.00s/it]"
     ]
    },
    {
     "name": "stdout",
     "output_type": "stream",
     "text": [
      "----------------------------------------\n",
      "chain_id_jsonl is NOT loaded\n",
      "----------------------------------------\n",
      "fixed_positions_jsonl is NOT loaded\n",
      "----------------------------------------\n",
      "pssm_jsonl is NOT loaded\n",
      "----------------------------------------\n",
      "omit_AA_jsonl is NOT loaded\n",
      "----------------------------------------\n",
      "bias_AA_jsonl is NOT loaded\n",
      "----------------------------------------\n",
      "tied_positions_jsonl is NOT loaded\n",
      "----------------------------------------\n",
      "bias by residue dictionary is not loaded, or not provided\n",
      "----------------------------------------\n",
      "----------------------------------------\n",
      "Number of edges: 48\n",
      "Training noise level: 0.2A\n",
      "Generating sequences for: 5NP2_A\n",
      "1 sequences of length 57 generated in 0.1533 seconds\n"
     ]
    },
    {
     "name": "stderr",
     "output_type": "stream",
     "text": [
      " 39%|███▊      | 55/142 [02:48<04:12,  2.91s/it]"
     ]
    },
    {
     "name": "stdout",
     "output_type": "stream",
     "text": [
      "----------------------------------------\n",
      "chain_id_jsonl is NOT loaded\n",
      "----------------------------------------\n",
      "fixed_positions_jsonl is NOT loaded\n",
      "----------------------------------------\n",
      "pssm_jsonl is NOT loaded\n",
      "----------------------------------------\n",
      "omit_AA_jsonl is NOT loaded\n",
      "----------------------------------------\n",
      "bias_AA_jsonl is NOT loaded\n",
      "----------------------------------------\n",
      "tied_positions_jsonl is NOT loaded\n",
      "----------------------------------------\n",
      "bias by residue dictionary is not loaded, or not provided\n",
      "----------------------------------------\n",
      "----------------------------------------\n",
      "Number of edges: 48\n",
      "Training noise level: 0.2A\n",
      "Generating sequences for: 5OAZ_A\n",
      "1 sequences of length 59 generated in 0.1686 seconds\n"
     ]
    },
    {
     "name": "stderr",
     "output_type": "stream",
     "text": [
      " 39%|███▉      | 56/142 [02:50<04:07,  2.88s/it]"
     ]
    },
    {
     "name": "stdout",
     "output_type": "stream",
     "text": [
      "----------------------------------------\n",
      "chain_id_jsonl is NOT loaded\n",
      "----------------------------------------\n",
      "fixed_positions_jsonl is NOT loaded\n",
      "----------------------------------------\n",
      "pssm_jsonl is NOT loaded\n",
      "----------------------------------------\n",
      "omit_AA_jsonl is NOT loaded\n",
      "----------------------------------------\n",
      "bias_AA_jsonl is NOT loaded\n",
      "----------------------------------------\n",
      "tied_positions_jsonl is NOT loaded\n",
      "----------------------------------------\n",
      "bias by residue dictionary is not loaded, or not provided\n",
      "----------------------------------------\n",
      "----------------------------------------\n",
      "Number of edges: 48\n",
      "Training noise level: 0.2A\n",
      "Generating sequences for: 2DSQ_G\n",
      "1 sequences of length 73 generated in 0.1902 seconds\n"
     ]
    },
    {
     "name": "stderr",
     "output_type": "stream",
     "text": [
      " 40%|████      | 57/142 [02:53<04:01,  2.84s/it]"
     ]
    },
    {
     "name": "stdout",
     "output_type": "stream",
     "text": [
      "----------------------------------------\n",
      "chain_id_jsonl is NOT loaded\n",
      "----------------------------------------\n",
      "fixed_positions_jsonl is NOT loaded\n",
      "----------------------------------------\n",
      "pssm_jsonl is NOT loaded\n",
      "----------------------------------------\n",
      "omit_AA_jsonl is NOT loaded\n",
      "----------------------------------------\n",
      "bias_AA_jsonl is NOT loaded\n",
      "----------------------------------------\n",
      "tied_positions_jsonl is NOT loaded\n",
      "----------------------------------------\n",
      "bias by residue dictionary is not loaded, or not provided\n",
      "----------------------------------------\n",
      "----------------------------------------\n",
      "Number of edges: 48\n",
      "Training noise level: 0.2A\n",
      "Generating sequences for: 3VPZ_A\n",
      "1 sequences of length 322 generated in 0.7119 seconds\n"
     ]
    },
    {
     "name": "stderr",
     "output_type": "stream",
     "text": [
      " 41%|████      | 58/142 [02:57<04:15,  3.04s/it]"
     ]
    },
    {
     "name": "stdout",
     "output_type": "stream",
     "text": [
      "----------------------------------------\n",
      "chain_id_jsonl is NOT loaded\n",
      "----------------------------------------\n",
      "fixed_positions_jsonl is NOT loaded\n",
      "----------------------------------------\n",
      "pssm_jsonl is NOT loaded\n",
      "----------------------------------------\n",
      "omit_AA_jsonl is NOT loaded\n",
      "----------------------------------------\n",
      "bias_AA_jsonl is NOT loaded\n",
      "----------------------------------------\n",
      "tied_positions_jsonl is NOT loaded\n",
      "----------------------------------------\n",
      "bias by residue dictionary is not loaded, or not provided\n",
      "----------------------------------------\n",
      "----------------------------------------\n",
      "Number of edges: 48\n",
      "Training noise level: 0.2A\n",
      "Generating sequences for: 1KKM_I\n",
      "1 sequences of length 87 generated in 0.2207 seconds\n"
     ]
    },
    {
     "name": "stderr",
     "output_type": "stream",
     "text": [
      " 42%|████▏     | 59/142 [02:59<04:06,  2.97s/it]"
     ]
    },
    {
     "name": "stdout",
     "output_type": "stream",
     "text": [
      "----------------------------------------\n",
      "chain_id_jsonl is NOT loaded\n",
      "----------------------------------------\n",
      "fixed_positions_jsonl is NOT loaded\n",
      "----------------------------------------\n",
      "pssm_jsonl is NOT loaded\n",
      "----------------------------------------\n",
      "omit_AA_jsonl is NOT loaded\n",
      "----------------------------------------\n",
      "bias_AA_jsonl is NOT loaded\n",
      "----------------------------------------\n",
      "tied_positions_jsonl is NOT loaded\n",
      "----------------------------------------\n",
      "bias by residue dictionary is not loaded, or not provided\n",
      "----------------------------------------\n",
      "----------------------------------------\n",
      "Number of edges: 48\n",
      "Training noise level: 0.2A\n",
      "Generating sequences for: 1WY5_A\n",
      "1 sequences of length 311 generated in 0.7081 seconds\n"
     ]
    },
    {
     "name": "stderr",
     "output_type": "stream",
     "text": [
      " 42%|████▏     | 60/142 [03:03<04:16,  3.13s/it]"
     ]
    },
    {
     "name": "stdout",
     "output_type": "stream",
     "text": [
      "----------------------------------------\n",
      "chain_id_jsonl is NOT loaded\n",
      "----------------------------------------\n",
      "fixed_positions_jsonl is NOT loaded\n",
      "----------------------------------------\n",
      "pssm_jsonl is NOT loaded\n",
      "----------------------------------------\n",
      "omit_AA_jsonl is NOT loaded\n",
      "----------------------------------------\n",
      "bias_AA_jsonl is NOT loaded\n",
      "----------------------------------------\n",
      "tied_positions_jsonl is NOT loaded\n",
      "----------------------------------------\n",
      "bias by residue dictionary is not loaded, or not provided\n",
      "----------------------------------------\n",
      "----------------------------------------\n",
      "Number of edges: 48\n",
      "Training noise level: 0.2A\n",
      "Generating sequences for: 3EG0_A\n",
      "1 sequences of length 56 generated in 0.1604 seconds\n"
     ]
    },
    {
     "name": "stderr",
     "output_type": "stream",
     "text": [
      " 43%|████▎     | 61/142 [03:06<04:04,  3.02s/it]"
     ]
    },
    {
     "name": "stdout",
     "output_type": "stream",
     "text": [
      "----------------------------------------\n",
      "chain_id_jsonl is NOT loaded\n",
      "----------------------------------------\n",
      "fixed_positions_jsonl is NOT loaded\n",
      "----------------------------------------\n",
      "pssm_jsonl is NOT loaded\n",
      "----------------------------------------\n",
      "omit_AA_jsonl is NOT loaded\n",
      "----------------------------------------\n",
      "bias_AA_jsonl is NOT loaded\n",
      "----------------------------------------\n",
      "tied_positions_jsonl is NOT loaded\n",
      "----------------------------------------\n",
      "bias by residue dictionary is not loaded, or not provided\n",
      "----------------------------------------\n",
      "----------------------------------------\n",
      "Number of edges: 48\n",
      "Training noise level: 0.2A\n",
      "Generating sequences for: 2E21_B\n",
      "1 sequences of length 314 generated in 0.6914 seconds\n"
     ]
    },
    {
     "name": "stderr",
     "output_type": "stream",
     "text": [
      " 44%|████▎     | 62/142 [03:09<04:14,  3.18s/it]"
     ]
    },
    {
     "name": "stdout",
     "output_type": "stream",
     "text": [
      "----------------------------------------\n",
      "chain_id_jsonl is NOT loaded\n",
      "----------------------------------------\n",
      "fixed_positions_jsonl is NOT loaded\n",
      "----------------------------------------\n",
      "pssm_jsonl is NOT loaded\n",
      "----------------------------------------\n",
      "omit_AA_jsonl is NOT loaded\n",
      "----------------------------------------\n",
      "bias_AA_jsonl is NOT loaded\n",
      "----------------------------------------\n",
      "tied_positions_jsonl is NOT loaded\n",
      "----------------------------------------\n",
      "bias by residue dictionary is not loaded, or not provided\n",
      "----------------------------------------\n",
      "----------------------------------------\n",
      "Number of edges: 48\n",
      "Training noise level: 0.2A\n",
      "Generating sequences for: 1GBR_A\n",
      "1 sequences of length 74 generated in 0.2208 seconds\n"
     ]
    },
    {
     "name": "stderr",
     "output_type": "stream",
     "text": [
      " 44%|████▍     | 63/142 [03:12<04:01,  3.06s/it]"
     ]
    },
    {
     "name": "stdout",
     "output_type": "stream",
     "text": [
      "----------------------------------------\n",
      "chain_id_jsonl is NOT loaded\n",
      "----------------------------------------\n",
      "fixed_positions_jsonl is NOT loaded\n",
      "----------------------------------------\n",
      "pssm_jsonl is NOT loaded\n",
      "----------------------------------------\n",
      "omit_AA_jsonl is NOT loaded\n",
      "----------------------------------------\n",
      "bias_AA_jsonl is NOT loaded\n",
      "----------------------------------------\n",
      "tied_positions_jsonl is NOT loaded\n",
      "----------------------------------------\n",
      "bias by residue dictionary is not loaded, or not provided\n",
      "----------------------------------------\n",
      "----------------------------------------\n",
      "Number of edges: 48\n",
      "Training noise level: 0.2A\n",
      "Generating sequences for: 1S4G_A\n",
      "1 sequences of length 51 generated in 0.1418 seconds\n"
     ]
    },
    {
     "name": "stderr",
     "output_type": "stream",
     "text": [
      " 45%|████▌     | 64/142 [03:15<03:50,  2.96s/it]"
     ]
    },
    {
     "name": "stdout",
     "output_type": "stream",
     "text": [
      "----------------------------------------\n",
      "chain_id_jsonl is NOT loaded\n",
      "----------------------------------------\n",
      "fixed_positions_jsonl is NOT loaded\n",
      "----------------------------------------\n",
      "pssm_jsonl is NOT loaded\n",
      "----------------------------------------\n",
      "omit_AA_jsonl is NOT loaded\n",
      "----------------------------------------\n",
      "bias_AA_jsonl is NOT loaded\n",
      "----------------------------------------\n",
      "tied_positions_jsonl is NOT loaded\n",
      "----------------------------------------\n",
      "bias by residue dictionary is not loaded, or not provided\n",
      "----------------------------------------\n",
      "----------------------------------------\n",
      "Number of edges: 48\n",
      "Training noise level: 0.2A\n",
      "Generating sequences for: 2SNI_I\n",
      "1 sequences of length 64 generated in 0.1789 seconds\n"
     ]
    },
    {
     "name": "stderr",
     "output_type": "stream",
     "text": [
      " 46%|████▌     | 65/142 [03:17<03:41,  2.88s/it]"
     ]
    },
    {
     "name": "stdout",
     "output_type": "stream",
     "text": [
      "----------------------------------------\n",
      "chain_id_jsonl is NOT loaded\n",
      "----------------------------------------\n",
      "fixed_positions_jsonl is NOT loaded\n",
      "----------------------------------------\n",
      "pssm_jsonl is NOT loaded\n",
      "----------------------------------------\n",
      "omit_AA_jsonl is NOT loaded\n",
      "----------------------------------------\n",
      "bias_AA_jsonl is NOT loaded\n",
      "----------------------------------------\n",
      "tied_positions_jsonl is NOT loaded\n",
      "----------------------------------------\n",
      "bias by residue dictionary is not loaded, or not provided\n",
      "----------------------------------------\n",
      "----------------------------------------\n",
      "Number of edges: 48\n",
      "Training noise level: 0.2A\n",
      "Generating sequences for: 2CI2_I\n",
      "1 sequences of length 65 generated in 0.1779 seconds\n"
     ]
    },
    {
     "name": "stderr",
     "output_type": "stream",
     "text": [
      " 46%|████▋     | 66/142 [03:20<03:33,  2.82s/it]"
     ]
    },
    {
     "name": "stdout",
     "output_type": "stream",
     "text": [
      "----------------------------------------\n",
      "chain_id_jsonl is NOT loaded\n",
      "----------------------------------------\n",
      "fixed_positions_jsonl is NOT loaded\n",
      "----------------------------------------\n",
      "pssm_jsonl is NOT loaded\n",
      "----------------------------------------\n",
      "omit_AA_jsonl is NOT loaded\n",
      "----------------------------------------\n",
      "bias_AA_jsonl is NOT loaded\n",
      "----------------------------------------\n",
      "tied_positions_jsonl is NOT loaded\n",
      "----------------------------------------\n",
      "bias by residue dictionary is not loaded, or not provided\n",
      "----------------------------------------\n",
      "----------------------------------------\n",
      "Number of edges: 48\n",
      "Training noise level: 0.2A\n",
      "Generating sequences for: 1GBQ_A\n",
      "1 sequences of length 57 generated in 0.1633 seconds\n"
     ]
    },
    {
     "name": "stderr",
     "output_type": "stream",
     "text": [
      " 47%|████▋     | 67/142 [03:23<03:27,  2.76s/it]"
     ]
    },
    {
     "name": "stdout",
     "output_type": "stream",
     "text": [
      "----------------------------------------\n",
      "chain_id_jsonl is NOT loaded\n",
      "----------------------------------------\n",
      "fixed_positions_jsonl is NOT loaded\n",
      "----------------------------------------\n",
      "pssm_jsonl is NOT loaded\n",
      "----------------------------------------\n",
      "omit_AA_jsonl is NOT loaded\n",
      "----------------------------------------\n",
      "bias_AA_jsonl is NOT loaded\n",
      "----------------------------------------\n",
      "tied_positions_jsonl is NOT loaded\n",
      "----------------------------------------\n",
      "bias by residue dictionary is not loaded, or not provided\n",
      "----------------------------------------\n",
      "----------------------------------------\n",
      "Number of edges: 48\n",
      "Training noise level: 0.2A\n",
      "Generating sequences for: 4J9B_A\n",
      "1 sequences of length 58 generated in 0.1628 seconds\n"
     ]
    },
    {
     "name": "stderr",
     "output_type": "stream",
     "text": [
      " 48%|████▊     | 68/142 [03:25<03:21,  2.72s/it]"
     ]
    },
    {
     "name": "stdout",
     "output_type": "stream",
     "text": [
      "----------------------------------------\n",
      "chain_id_jsonl is NOT loaded\n",
      "----------------------------------------\n",
      "fixed_positions_jsonl is NOT loaded\n",
      "----------------------------------------\n",
      "pssm_jsonl is NOT loaded\n",
      "----------------------------------------\n",
      "omit_AA_jsonl is NOT loaded\n",
      "----------------------------------------\n",
      "bias_AA_jsonl is NOT loaded\n",
      "----------------------------------------\n",
      "tied_positions_jsonl is NOT loaded\n",
      "----------------------------------------\n",
      "bias by residue dictionary is not loaded, or not provided\n",
      "----------------------------------------\n",
      "----------------------------------------\n",
      "Number of edges: 48\n",
      "Training noise level: 0.2A\n",
      "Generating sequences for: 5AWW_Y\n",
      "1 sequences of length 424 generated in 0.986 seconds\n"
     ]
    },
    {
     "name": "stderr",
     "output_type": "stream",
     "text": [
      " 49%|████▊     | 69/142 [03:29<03:47,  3.12s/it]"
     ]
    },
    {
     "name": "stdout",
     "output_type": "stream",
     "text": [
      "----------------------------------------\n",
      "chain_id_jsonl is NOT loaded\n",
      "----------------------------------------\n",
      "fixed_positions_jsonl is NOT loaded\n",
      "----------------------------------------\n",
      "pssm_jsonl is NOT loaded\n",
      "----------------------------------------\n",
      "omit_AA_jsonl is NOT loaded\n",
      "----------------------------------------\n",
      "bias_AA_jsonl is NOT loaded\n",
      "----------------------------------------\n",
      "tied_positions_jsonl is NOT loaded\n",
      "----------------------------------------\n",
      "bias by residue dictionary is not loaded, or not provided\n",
      "----------------------------------------\n",
      "----------------------------------------\n",
      "Number of edges: 48\n",
      "Training noise level: 0.2A\n",
      "Generating sequences for: 1SSU_A\n",
      "1 sequences of length 51 generated in 0.1545 seconds\n"
     ]
    },
    {
     "name": "stderr",
     "output_type": "stream",
     "text": [
      " 49%|████▉     | 70/142 [03:32<03:34,  2.98s/it]"
     ]
    },
    {
     "name": "stdout",
     "output_type": "stream",
     "text": [
      "----------------------------------------\n",
      "chain_id_jsonl is NOT loaded\n",
      "----------------------------------------\n",
      "fixed_positions_jsonl is NOT loaded\n",
      "----------------------------------------\n",
      "pssm_jsonl is NOT loaded\n",
      "----------------------------------------\n",
      "omit_AA_jsonl is NOT loaded\n",
      "----------------------------------------\n",
      "bias_AA_jsonl is NOT loaded\n",
      "----------------------------------------\n",
      "tied_positions_jsonl is NOT loaded\n",
      "----------------------------------------\n",
      "bias by residue dictionary is not loaded, or not provided\n",
      "----------------------------------------\n",
      "----------------------------------------\n",
      "Number of edges: 48\n",
      "Training noise level: 0.2A\n",
      "Generating sequences for: 4INJ_A\n",
      "1 sequences of length 326 generated in 0.7157 seconds\n"
     ]
    },
    {
     "name": "stderr",
     "output_type": "stream",
     "text": [
      " 50%|█████     | 71/142 [03:36<03:40,  3.11s/it]"
     ]
    },
    {
     "name": "stdout",
     "output_type": "stream",
     "text": [
      "----------------------------------------\n",
      "chain_id_jsonl is NOT loaded\n",
      "----------------------------------------\n",
      "fixed_positions_jsonl is NOT loaded\n",
      "----------------------------------------\n",
      "pssm_jsonl is NOT loaded\n",
      "----------------------------------------\n",
      "omit_AA_jsonl is NOT loaded\n",
      "----------------------------------------\n",
      "bias_AA_jsonl is NOT loaded\n",
      "----------------------------------------\n",
      "tied_positions_jsonl is NOT loaded\n",
      "----------------------------------------\n",
      "bias by residue dictionary is not loaded, or not provided\n",
      "----------------------------------------\n",
      "----------------------------------------\n",
      "Number of edges: 48\n",
      "Training noise level: 0.2A\n",
      "Generating sequences for: 4MI1_B\n",
      "1 sequences of length 336 generated in 0.7224 seconds\n"
     ]
    },
    {
     "name": "stderr",
     "output_type": "stream",
     "text": [
      " 51%|█████     | 72/142 [03:39<03:44,  3.20s/it]"
     ]
    },
    {
     "name": "stdout",
     "output_type": "stream",
     "text": [
      "----------------------------------------\n",
      "chain_id_jsonl is NOT loaded\n",
      "----------------------------------------\n",
      "fixed_positions_jsonl is NOT loaded\n",
      "----------------------------------------\n",
      "pssm_jsonl is NOT loaded\n",
      "----------------------------------------\n",
      "omit_AA_jsonl is NOT loaded\n",
      "----------------------------------------\n",
      "bias_AA_jsonl is NOT loaded\n",
      "----------------------------------------\n",
      "tied_positions_jsonl is NOT loaded\n",
      "----------------------------------------\n",
      "bias by residue dictionary is not loaded, or not provided\n",
      "----------------------------------------\n",
      "----------------------------------------\n",
      "Number of edges: 48\n",
      "Training noise level: 0.2A\n",
      "Generating sequences for: 3SR3_A\n",
      "1 sequences of length 333 generated in 0.7177 seconds\n"
     ]
    },
    {
     "name": "stderr",
     "output_type": "stream",
     "text": [
      " 51%|█████▏    | 73/142 [03:42<03:45,  3.27s/it]"
     ]
    },
    {
     "name": "stdout",
     "output_type": "stream",
     "text": [
      "----------------------------------------\n",
      "chain_id_jsonl is NOT loaded\n",
      "----------------------------------------\n",
      "fixed_positions_jsonl is NOT loaded\n",
      "----------------------------------------\n",
      "pssm_jsonl is NOT loaded\n",
      "----------------------------------------\n",
      "omit_AA_jsonl is NOT loaded\n",
      "----------------------------------------\n",
      "bias_AA_jsonl is NOT loaded\n",
      "----------------------------------------\n",
      "tied_positions_jsonl is NOT loaded\n",
      "----------------------------------------\n",
      "bias by residue dictionary is not loaded, or not provided\n",
      "----------------------------------------\n",
      "----------------------------------------\n",
      "Number of edges: 48\n",
      "Training noise level: 0.2A\n",
      "Generating sequences for: 4GBQ_A\n",
      "1 sequences of length 57 generated in 0.1623 seconds\n"
     ]
    },
    {
     "name": "stderr",
     "output_type": "stream",
     "text": [
      " 52%|█████▏    | 74/142 [03:45<03:30,  3.09s/it]"
     ]
    },
    {
     "name": "stdout",
     "output_type": "stream",
     "text": [
      "----------------------------------------\n",
      "chain_id_jsonl is NOT loaded\n",
      "----------------------------------------\n",
      "fixed_positions_jsonl is NOT loaded\n",
      "----------------------------------------\n",
      "pssm_jsonl is NOT loaded\n",
      "----------------------------------------\n",
      "omit_AA_jsonl is NOT loaded\n",
      "----------------------------------------\n",
      "bias_AA_jsonl is NOT loaded\n",
      "----------------------------------------\n",
      "tied_positions_jsonl is NOT loaded\n",
      "----------------------------------------\n",
      "bias by residue dictionary is not loaded, or not provided\n",
      "----------------------------------------\n",
      "----------------------------------------\n",
      "Number of edges: 48\n",
      "Training noise level: 0.2A\n",
      "Generating sequences for: 6PNW_B\n",
      "1 sequences of length 62 generated in 0.1724 seconds\n"
     ]
    },
    {
     "name": "stderr",
     "output_type": "stream",
     "text": [
      " 53%|█████▎    | 75/142 [03:48<03:18,  2.96s/it]"
     ]
    },
    {
     "name": "stdout",
     "output_type": "stream",
     "text": [
      "----------------------------------------\n",
      "chain_id_jsonl is NOT loaded\n",
      "----------------------------------------\n",
      "fixed_positions_jsonl is NOT loaded\n",
      "----------------------------------------\n",
      "pssm_jsonl is NOT loaded\n",
      "----------------------------------------\n",
      "omit_AA_jsonl is NOT loaded\n",
      "----------------------------------------\n",
      "bias_AA_jsonl is NOT loaded\n",
      "----------------------------------------\n",
      "tied_positions_jsonl is NOT loaded\n",
      "----------------------------------------\n",
      "bias by residue dictionary is not loaded, or not provided\n",
      "----------------------------------------\n",
      "----------------------------------------\n",
      "Number of edges: 48\n",
      "Training noise level: 0.2A\n",
      "Generating sequences for: 5NP5_A\n",
      "1 sequences of length 61 generated in 0.1684 seconds\n"
     ]
    },
    {
     "name": "stderr",
     "output_type": "stream",
     "text": [
      " 54%|█████▎    | 76/142 [03:50<03:08,  2.86s/it]"
     ]
    },
    {
     "name": "stdout",
     "output_type": "stream",
     "text": [
      "----------------------------------------\n",
      "chain_id_jsonl is NOT loaded\n",
      "----------------------------------------\n",
      "fixed_positions_jsonl is NOT loaded\n",
      "----------------------------------------\n",
      "pssm_jsonl is NOT loaded\n",
      "----------------------------------------\n",
      "omit_AA_jsonl is NOT loaded\n",
      "----------------------------------------\n",
      "bias_AA_jsonl is NOT loaded\n",
      "----------------------------------------\n",
      "tied_positions_jsonl is NOT loaded\n",
      "----------------------------------------\n",
      "bias by residue dictionary is not loaded, or not provided\n",
      "----------------------------------------\n",
      "----------------------------------------\n",
      "Number of edges: 48\n",
      "Training noise level: 0.2A\n",
      "Generating sequences for: 4JJB_A\n",
      "1 sequences of length 57 generated in 0.1665 seconds\n"
     ]
    },
    {
     "name": "stderr",
     "output_type": "stream",
     "text": [
      " 54%|█████▍    | 77/142 [03:53<03:01,  2.80s/it]"
     ]
    },
    {
     "name": "stdout",
     "output_type": "stream",
     "text": [
      "----------------------------------------\n",
      "chain_id_jsonl is NOT loaded\n",
      "----------------------------------------\n",
      "fixed_positions_jsonl is NOT loaded\n",
      "----------------------------------------\n",
      "pssm_jsonl is NOT loaded\n",
      "----------------------------------------\n",
      "omit_AA_jsonl is NOT loaded\n",
      "----------------------------------------\n",
      "bias_AA_jsonl is NOT loaded\n",
      "----------------------------------------\n",
      "tied_positions_jsonl is NOT loaded\n",
      "----------------------------------------\n",
      "bias by residue dictionary is not loaded, or not provided\n",
      "----------------------------------------\n",
      "----------------------------------------\n",
      "Number of edges: 48\n",
      "Training noise level: 0.2A\n",
      "Generating sequences for: 4MJX_B\n",
      "1 sequences of length 336 generated in 0.7332 seconds\n"
     ]
    },
    {
     "name": "stderr",
     "output_type": "stream",
     "text": [
      " 55%|█████▍    | 78/142 [03:56<03:11,  2.99s/it]"
     ]
    },
    {
     "name": "stdout",
     "output_type": "stream",
     "text": [
      "----------------------------------------\n",
      "chain_id_jsonl is NOT loaded\n",
      "----------------------------------------\n",
      "fixed_positions_jsonl is NOT loaded\n",
      "----------------------------------------\n",
      "pssm_jsonl is NOT loaded\n",
      "----------------------------------------\n",
      "omit_AA_jsonl is NOT loaded\n",
      "----------------------------------------\n",
      "bias_AA_jsonl is NOT loaded\n",
      "----------------------------------------\n",
      "tied_positions_jsonl is NOT loaded\n",
      "----------------------------------------\n",
      "bias by residue dictionary is not loaded, or not provided\n",
      "----------------------------------------\n",
      "----------------------------------------\n",
      "Number of edges: 48\n",
      "Training noise level: 0.2A\n",
      "Generating sequences for: 1DAN_U\n",
      "1 sequences of length 116 generated in 0.2805 seconds\n"
     ]
    },
    {
     "name": "stderr",
     "output_type": "stream",
     "text": [
      " 56%|█████▌    | 79/142 [03:59<03:04,  2.94s/it]"
     ]
    },
    {
     "name": "stdout",
     "output_type": "stream",
     "text": [
      "----------------------------------------\n",
      "chain_id_jsonl is NOT loaded\n",
      "----------------------------------------\n",
      "fixed_positions_jsonl is NOT loaded\n",
      "----------------------------------------\n",
      "pssm_jsonl is NOT loaded\n",
      "----------------------------------------\n",
      "omit_AA_jsonl is NOT loaded\n",
      "----------------------------------------\n",
      "bias_AA_jsonl is NOT loaded\n",
      "----------------------------------------\n",
      "tied_positions_jsonl is NOT loaded\n",
      "----------------------------------------\n",
      "bias by residue dictionary is not loaded, or not provided\n",
      "----------------------------------------\n",
      "----------------------------------------\n",
      "Number of edges: 48\n",
      "Training noise level: 0.2A\n",
      "Generating sequences for: 6FIC_T\n",
      "1 sequences of length 245 generated in 0.5377 seconds\n"
     ]
    },
    {
     "name": "stderr",
     "output_type": "stream",
     "text": [
      " 56%|█████▋    | 80/142 [04:02<03:06,  3.01s/it]"
     ]
    },
    {
     "name": "stdout",
     "output_type": "stream",
     "text": [
      "----------------------------------------\n",
      "chain_id_jsonl is NOT loaded\n",
      "----------------------------------------\n",
      "fixed_positions_jsonl is NOT loaded\n",
      "----------------------------------------\n",
      "pssm_jsonl is NOT loaded\n",
      "----------------------------------------\n",
      "omit_AA_jsonl is NOT loaded\n",
      "----------------------------------------\n",
      "bias_AA_jsonl is NOT loaded\n",
      "----------------------------------------\n",
      "tied_positions_jsonl is NOT loaded\n",
      "----------------------------------------\n",
      "bias by residue dictionary is not loaded, or not provided\n",
      "----------------------------------------\n",
      "----------------------------------------\n",
      "Number of edges: 48\n",
      "Training noise level: 0.2A\n",
      "Generating sequences for: 1WWW_Y\n",
      "1 sequences of length 101 generated in 0.252 seconds\n"
     ]
    },
    {
     "name": "stderr",
     "output_type": "stream",
     "text": [
      " 57%|█████▋    | 81/142 [04:05<02:59,  2.94s/it]"
     ]
    },
    {
     "name": "stdout",
     "output_type": "stream",
     "text": [
      "----------------------------------------\n",
      "chain_id_jsonl is NOT loaded\n",
      "----------------------------------------\n",
      "fixed_positions_jsonl is NOT loaded\n",
      "----------------------------------------\n",
      "pssm_jsonl is NOT loaded\n",
      "----------------------------------------\n",
      "omit_AA_jsonl is NOT loaded\n",
      "----------------------------------------\n",
      "bias_AA_jsonl is NOT loaded\n",
      "----------------------------------------\n",
      "tied_positions_jsonl is NOT loaded\n",
      "----------------------------------------\n",
      "bias by residue dictionary is not loaded, or not provided\n",
      "----------------------------------------\n",
      "----------------------------------------\n",
      "Number of edges: 48\n",
      "Training noise level: 0.2A\n",
      "Generating sequences for: 6ITC_Y\n",
      "1 sequences of length 420 generated in 0.9009 seconds\n"
     ]
    },
    {
     "name": "stderr",
     "output_type": "stream",
     "text": [
      " 58%|█████▊    | 82/142 [04:09<03:10,  3.17s/it]"
     ]
    },
    {
     "name": "stdout",
     "output_type": "stream",
     "text": [
      "----------------------------------------\n",
      "chain_id_jsonl is NOT loaded\n",
      "----------------------------------------\n",
      "fixed_positions_jsonl is NOT loaded\n",
      "----------------------------------------\n",
      "pssm_jsonl is NOT loaded\n",
      "----------------------------------------\n",
      "omit_AA_jsonl is NOT loaded\n",
      "----------------------------------------\n",
      "bias_AA_jsonl is NOT loaded\n",
      "----------------------------------------\n",
      "tied_positions_jsonl is NOT loaded\n",
      "----------------------------------------\n",
      "bias by residue dictionary is not loaded, or not provided\n",
      "----------------------------------------\n",
      "----------------------------------------\n",
      "Number of edges: 48\n",
      "Training noise level: 0.2A\n",
      "Generating sequences for: 5IEJ_A\n",
      "1 sequences of length 118 generated in 0.2885 seconds\n"
     ]
    },
    {
     "name": "stderr",
     "output_type": "stream",
     "text": [
      " 58%|█████▊    | 83/142 [04:12<03:00,  3.06s/it]"
     ]
    },
    {
     "name": "stdout",
     "output_type": "stream",
     "text": [
      "----------------------------------------\n",
      "chain_id_jsonl is NOT loaded\n",
      "----------------------------------------\n",
      "fixed_positions_jsonl is NOT loaded\n",
      "----------------------------------------\n",
      "pssm_jsonl is NOT loaded\n",
      "----------------------------------------\n",
      "omit_AA_jsonl is NOT loaded\n",
      "----------------------------------------\n",
      "bias_AA_jsonl is NOT loaded\n",
      "----------------------------------------\n",
      "tied_positions_jsonl is NOT loaded\n",
      "----------------------------------------\n",
      "bias by residue dictionary is not loaded, or not provided\n",
      "----------------------------------------\n",
      "----------------------------------------\n",
      "Number of edges: 48\n",
      "Training noise level: 0.2A\n",
      "Generating sequences for: 4JVO_A\n",
      "1 sequences of length 336 generated in 0.724 seconds\n"
     ]
    },
    {
     "name": "stderr",
     "output_type": "stream",
     "text": [
      " 59%|█████▉    | 84/142 [04:15<03:04,  3.18s/it]"
     ]
    },
    {
     "name": "stdout",
     "output_type": "stream",
     "text": [
      "----------------------------------------\n",
      "chain_id_jsonl is NOT loaded\n",
      "----------------------------------------\n",
      "fixed_positions_jsonl is NOT loaded\n",
      "----------------------------------------\n",
      "pssm_jsonl is NOT loaded\n",
      "----------------------------------------\n",
      "omit_AA_jsonl is NOT loaded\n",
      "----------------------------------------\n",
      "bias_AA_jsonl is NOT loaded\n",
      "----------------------------------------\n",
      "tied_positions_jsonl is NOT loaded\n",
      "----------------------------------------\n",
      "bias by residue dictionary is not loaded, or not provided\n",
      "----------------------------------------\n",
      "----------------------------------------\n",
      "Number of edges: 48\n",
      "Training noise level: 0.2A\n",
      "Generating sequences for: 3HXJ_A\n",
      "1 sequences of length 306 generated in 0.6715 seconds\n"
     ]
    },
    {
     "name": "stderr",
     "output_type": "stream",
     "text": [
      " 60%|█████▉    | 85/142 [04:19<03:04,  3.24s/it]"
     ]
    },
    {
     "name": "stdout",
     "output_type": "stream",
     "text": [
      "----------------------------------------\n",
      "chain_id_jsonl is NOT loaded\n",
      "----------------------------------------\n",
      "fixed_positions_jsonl is NOT loaded\n",
      "----------------------------------------\n",
      "pssm_jsonl is NOT loaded\n",
      "----------------------------------------\n",
      "omit_AA_jsonl is NOT loaded\n",
      "----------------------------------------\n",
      "bias_AA_jsonl is NOT loaded\n",
      "----------------------------------------\n",
      "tied_positions_jsonl is NOT loaded\n",
      "----------------------------------------\n",
      "bias by residue dictionary is not loaded, or not provided\n",
      "----------------------------------------\n",
      "----------------------------------------\n",
      "Number of edges: 48\n",
      "Training noise level: 0.2A\n",
      "Generating sequences for: 3TYX_A\n",
      "1 sequences of length 335 generated in 0.7224 seconds\n"
     ]
    },
    {
     "name": "stderr",
     "output_type": "stream",
     "text": [
      " 61%|██████    | 86/142 [04:22<03:04,  3.29s/it]"
     ]
    },
    {
     "name": "stdout",
     "output_type": "stream",
     "text": [
      "----------------------------------------\n",
      "chain_id_jsonl is NOT loaded\n",
      "----------------------------------------\n",
      "fixed_positions_jsonl is NOT loaded\n",
      "----------------------------------------\n",
      "pssm_jsonl is NOT loaded\n",
      "----------------------------------------\n",
      "omit_AA_jsonl is NOT loaded\n",
      "----------------------------------------\n",
      "bias_AA_jsonl is NOT loaded\n",
      "----------------------------------------\n",
      "tied_positions_jsonl is NOT loaded\n",
      "----------------------------------------\n",
      "bias by residue dictionary is not loaded, or not provided\n",
      "----------------------------------------\n",
      "----------------------------------------\n",
      "Number of edges: 48\n",
      "Training noise level: 0.2A\n",
      "Generating sequences for: 1DAN_T\n",
      "1 sequences of length 75 generated in 0.1965 seconds\n"
     ]
    },
    {
     "name": "stderr",
     "output_type": "stream",
     "text": [
      " 61%|██████▏   | 87/142 [04:25<02:50,  3.11s/it]"
     ]
    },
    {
     "name": "stdout",
     "output_type": "stream",
     "text": [
      "----------------------------------------\n",
      "chain_id_jsonl is NOT loaded\n",
      "----------------------------------------\n",
      "fixed_positions_jsonl is NOT loaded\n",
      "----------------------------------------\n",
      "pssm_jsonl is NOT loaded\n",
      "----------------------------------------\n",
      "omit_AA_jsonl is NOT loaded\n",
      "----------------------------------------\n",
      "bias_AA_jsonl is NOT loaded\n",
      "----------------------------------------\n",
      "tied_positions_jsonl is NOT loaded\n",
      "----------------------------------------\n",
      "bias by residue dictionary is not loaded, or not provided\n",
      "----------------------------------------\n",
      "----------------------------------------\n",
      "Number of edges: 48\n",
      "Training noise level: 0.2A\n",
      "Generating sequences for: 3N29_B\n",
      "1 sequences of length 367 generated in 0.7873 seconds\n"
     ]
    },
    {
     "name": "stderr",
     "output_type": "stream",
     "text": [
      " 62%|██████▏   | 88/142 [04:28<02:54,  3.24s/it]"
     ]
    },
    {
     "name": "stdout",
     "output_type": "stream",
     "text": [
      "----------------------------------------\n",
      "chain_id_jsonl is NOT loaded\n",
      "----------------------------------------\n",
      "fixed_positions_jsonl is NOT loaded\n",
      "----------------------------------------\n",
      "pssm_jsonl is NOT loaded\n",
      "----------------------------------------\n",
      "omit_AA_jsonl is NOT loaded\n",
      "----------------------------------------\n",
      "bias_AA_jsonl is NOT loaded\n",
      "----------------------------------------\n",
      "tied_positions_jsonl is NOT loaded\n",
      "----------------------------------------\n",
      "bias by residue dictionary is not loaded, or not provided\n",
      "----------------------------------------\n",
      "----------------------------------------\n",
      "Number of edges: 48\n",
      "Training noise level: 0.2A\n",
      "Generating sequences for: 1SZ2_A\n",
      "1 sequences of length 319 generated in 0.6958 seconds\n"
     ]
    },
    {
     "name": "stderr",
     "output_type": "stream",
     "text": [
      " 63%|██████▎   | 89/142 [04:32<02:54,  3.29s/it]"
     ]
    },
    {
     "name": "stdout",
     "output_type": "stream",
     "text": [
      "----------------------------------------\n",
      "chain_id_jsonl is NOT loaded\n",
      "----------------------------------------\n",
      "fixed_positions_jsonl is NOT loaded\n",
      "----------------------------------------\n",
      "pssm_jsonl is NOT loaded\n",
      "----------------------------------------\n",
      "omit_AA_jsonl is NOT loaded\n",
      "----------------------------------------\n",
      "bias_AA_jsonl is NOT loaded\n",
      "----------------------------------------\n",
      "tied_positions_jsonl is NOT loaded\n",
      "----------------------------------------\n",
      "bias by residue dictionary is not loaded, or not provided\n",
      "----------------------------------------\n",
      "----------------------------------------\n",
      "Number of edges: 48\n",
      "Training noise level: 0.2A\n",
      "Generating sequences for: 1KKL_H\n",
      "1 sequences of length 86 generated in 0.2211 seconds\n"
     ]
    },
    {
     "name": "stderr",
     "output_type": "stream",
     "text": [
      " 63%|██████▎   | 90/142 [04:34<02:42,  3.12s/it]"
     ]
    },
    {
     "name": "stdout",
     "output_type": "stream",
     "text": [
      "----------------------------------------\n",
      "chain_id_jsonl is NOT loaded\n",
      "----------------------------------------\n",
      "fixed_positions_jsonl is NOT loaded\n",
      "----------------------------------------\n",
      "pssm_jsonl is NOT loaded\n",
      "----------------------------------------\n",
      "omit_AA_jsonl is NOT loaded\n",
      "----------------------------------------\n",
      "bias_AA_jsonl is NOT loaded\n",
      "----------------------------------------\n",
      "tied_positions_jsonl is NOT loaded\n",
      "----------------------------------------\n",
      "bias by residue dictionary is not loaded, or not provided\n",
      "----------------------------------------\n",
      "----------------------------------------\n",
      "Number of edges: 48\n",
      "Training noise level: 0.2A\n",
      "Generating sequences for: 4E5S_B\n",
      "1 sequences of length 329 generated in 0.711 seconds\n"
     ]
    },
    {
     "name": "stderr",
     "output_type": "stream",
     "text": [
      " 64%|██████▍   | 91/142 [04:38<02:43,  3.21s/it]"
     ]
    },
    {
     "name": "stdout",
     "output_type": "stream",
     "text": [
      "----------------------------------------\n",
      "chain_id_jsonl is NOT loaded\n",
      "----------------------------------------\n",
      "fixed_positions_jsonl is NOT loaded\n",
      "----------------------------------------\n",
      "pssm_jsonl is NOT loaded\n",
      "----------------------------------------\n",
      "omit_AA_jsonl is NOT loaded\n",
      "----------------------------------------\n",
      "bias_AA_jsonl is NOT loaded\n",
      "----------------------------------------\n",
      "tied_positions_jsonl is NOT loaded\n",
      "----------------------------------------\n",
      "bias by residue dictionary is not loaded, or not provided\n",
      "----------------------------------------\n",
      "----------------------------------------\n",
      "Number of edges: 48\n",
      "Training noise level: 0.2A\n",
      "Generating sequences for: 4J9F_A\n",
      "1 sequences of length 62 generated in 0.1757 seconds\n"
     ]
    },
    {
     "name": "stderr",
     "output_type": "stream",
     "text": [
      " 65%|██████▍   | 92/142 [04:40<02:32,  3.04s/it]"
     ]
    },
    {
     "name": "stdout",
     "output_type": "stream",
     "text": [
      "----------------------------------------\n",
      "chain_id_jsonl is NOT loaded\n",
      "----------------------------------------\n",
      "fixed_positions_jsonl is NOT loaded\n",
      "----------------------------------------\n",
      "pssm_jsonl is NOT loaded\n",
      "----------------------------------------\n",
      "omit_AA_jsonl is NOT loaded\n",
      "----------------------------------------\n",
      "bias_AA_jsonl is NOT loaded\n",
      "----------------------------------------\n",
      "tied_positions_jsonl is NOT loaded\n",
      "----------------------------------------\n",
      "bias by residue dictionary is not loaded, or not provided\n",
      "----------------------------------------\n",
      "----------------------------------------\n",
      "Number of edges: 48\n",
      "Training noise level: 0.2A\n",
      "Generating sequences for: 3EGU_A\n",
      "1 sequences of length 57 generated in 0.1637 seconds\n"
     ]
    },
    {
     "name": "stderr",
     "output_type": "stream",
     "text": [
      " 65%|██████▌   | 93/142 [04:43<02:23,  2.92s/it]"
     ]
    },
    {
     "name": "stdout",
     "output_type": "stream",
     "text": [
      "----------------------------------------\n",
      "chain_id_jsonl is NOT loaded\n",
      "----------------------------------------\n",
      "fixed_positions_jsonl is NOT loaded\n",
      "----------------------------------------\n",
      "pssm_jsonl is NOT loaded\n",
      "----------------------------------------\n",
      "omit_AA_jsonl is NOT loaded\n",
      "----------------------------------------\n",
      "bias_AA_jsonl is NOT loaded\n",
      "----------------------------------------\n",
      "tied_positions_jsonl is NOT loaded\n",
      "----------------------------------------\n",
      "bias by residue dictionary is not loaded, or not provided\n",
      "----------------------------------------\n",
      "----------------------------------------\n",
      "Number of edges: 48\n",
      "Training noise level: 0.2A\n",
      "Generating sequences for: 1ABQ_A\n",
      "1 sequences of length 56 generated in 0.1646 seconds\n"
     ]
    },
    {
     "name": "stderr",
     "output_type": "stream",
     "text": [
      " 66%|██████▌   | 94/142 [04:46<02:16,  2.83s/it]"
     ]
    },
    {
     "name": "stdout",
     "output_type": "stream",
     "text": [
      "----------------------------------------\n",
      "chain_id_jsonl is NOT loaded\n",
      "----------------------------------------\n",
      "fixed_positions_jsonl is NOT loaded\n",
      "----------------------------------------\n",
      "pssm_jsonl is NOT loaded\n",
      "----------------------------------------\n",
      "omit_AA_jsonl is NOT loaded\n",
      "----------------------------------------\n",
      "bias_AA_jsonl is NOT loaded\n",
      "----------------------------------------\n",
      "tied_positions_jsonl is NOT loaded\n",
      "----------------------------------------\n",
      "bias by residue dictionary is not loaded, or not provided\n",
      "----------------------------------------\n",
      "----------------------------------------\n",
      "Number of edges: 48\n",
      "Training noise level: 0.2A\n",
      "Generating sequences for: 1P4B_L\n",
      "1 sequences of length 110 generated in 0.272 seconds\n"
     ]
    },
    {
     "name": "stderr",
     "output_type": "stream",
     "text": [
      " 67%|██████▋   | 95/142 [04:48<02:12,  2.82s/it]"
     ]
    },
    {
     "name": "stdout",
     "output_type": "stream",
     "text": [
      "----------------------------------------\n",
      "chain_id_jsonl is NOT loaded\n",
      "----------------------------------------\n",
      "fixed_positions_jsonl is NOT loaded\n",
      "----------------------------------------\n",
      "pssm_jsonl is NOT loaded\n",
      "----------------------------------------\n",
      "omit_AA_jsonl is NOT loaded\n",
      "----------------------------------------\n",
      "bias_AA_jsonl is NOT loaded\n",
      "----------------------------------------\n",
      "tied_positions_jsonl is NOT loaded\n",
      "----------------------------------------\n",
      "bias by residue dictionary is not loaded, or not provided\n",
      "----------------------------------------\n",
      "----------------------------------------\n",
      "Number of edges: 48\n",
      "Training noise level: 0.2A\n",
      "Generating sequences for: 1HIA_I\n",
      "1 sequences of length 48 generated in 0.145 seconds\n"
     ]
    },
    {
     "name": "stderr",
     "output_type": "stream",
     "text": [
      " 68%|██████▊   | 96/142 [04:51<02:06,  2.75s/it]"
     ]
    },
    {
     "name": "stdout",
     "output_type": "stream",
     "text": [
      "----------------------------------------\n",
      "chain_id_jsonl is NOT loaded\n",
      "----------------------------------------\n",
      "fixed_positions_jsonl is NOT loaded\n",
      "----------------------------------------\n",
      "pssm_jsonl is NOT loaded\n",
      "----------------------------------------\n",
      "omit_AA_jsonl is NOT loaded\n",
      "----------------------------------------\n",
      "bias_AA_jsonl is NOT loaded\n",
      "----------------------------------------\n",
      "tied_positions_jsonl is NOT loaded\n",
      "----------------------------------------\n",
      "bias by residue dictionary is not loaded, or not provided\n",
      "----------------------------------------\n",
      "----------------------------------------\n",
      "Number of edges: 48\n",
      "Training noise level: 0.2A\n",
      "Generating sequences for: 1JU5_C\n",
      "1 sequences of length 60 generated in 0.17 seconds\n"
     ]
    },
    {
     "name": "stderr",
     "output_type": "stream",
     "text": [
      " 68%|██████▊   | 97/142 [04:54<02:02,  2.72s/it]"
     ]
    },
    {
     "name": "stdout",
     "output_type": "stream",
     "text": [
      "----------------------------------------\n",
      "chain_id_jsonl is NOT loaded\n",
      "----------------------------------------\n",
      "fixed_positions_jsonl is NOT loaded\n",
      "----------------------------------------\n",
      "pssm_jsonl is NOT loaded\n",
      "----------------------------------------\n",
      "omit_AA_jsonl is NOT loaded\n",
      "----------------------------------------\n",
      "bias_AA_jsonl is NOT loaded\n",
      "----------------------------------------\n",
      "tied_positions_jsonl is NOT loaded\n",
      "----------------------------------------\n",
      "bias by residue dictionary is not loaded, or not provided\n",
      "----------------------------------------\n",
      "----------------------------------------\n",
      "Number of edges: 48\n",
      "Training noise level: 0.2A\n",
      "Generating sequences for: 3GJZ_B\n",
      "1 sequences of length 332 generated in 0.7041 seconds\n"
     ]
    },
    {
     "name": "stderr",
     "output_type": "stream",
     "text": [
      " 69%|██████▉   | 98/142 [04:57<02:08,  2.93s/it]"
     ]
    },
    {
     "name": "stdout",
     "output_type": "stream",
     "text": [
      "----------------------------------------\n",
      "chain_id_jsonl is NOT loaded\n",
      "----------------------------------------\n",
      "fixed_positions_jsonl is NOT loaded\n",
      "----------------------------------------\n",
      "pssm_jsonl is NOT loaded\n",
      "----------------------------------------\n",
      "omit_AA_jsonl is NOT loaded\n",
      "----------------------------------------\n",
      "bias_AA_jsonl is NOT loaded\n",
      "----------------------------------------\n",
      "tied_positions_jsonl is NOT loaded\n",
      "----------------------------------------\n",
      "bias by residue dictionary is not loaded, or not provided\n",
      "----------------------------------------\n",
      "----------------------------------------\n",
      "Number of edges: 48\n",
      "Training noise level: 0.2A\n",
      "Generating sequences for: 5K99_A\n",
      "1 sequences of length 336 generated in 0.7176 seconds\n"
     ]
    },
    {
     "name": "stderr",
     "output_type": "stream",
     "text": [
      " 70%|██████▉   | 99/142 [05:01<02:12,  3.08s/it]"
     ]
    },
    {
     "name": "stdout",
     "output_type": "stream",
     "text": [
      "----------------------------------------\n",
      "chain_id_jsonl is NOT loaded\n",
      "----------------------------------------\n",
      "fixed_positions_jsonl is NOT loaded\n",
      "----------------------------------------\n",
      "pssm_jsonl is NOT loaded\n",
      "----------------------------------------\n",
      "omit_AA_jsonl is NOT loaded\n",
      "----------------------------------------\n",
      "bias_AA_jsonl is NOT loaded\n",
      "----------------------------------------\n",
      "tied_positions_jsonl is NOT loaded\n",
      "----------------------------------------\n",
      "bias by residue dictionary is not loaded, or not provided\n",
      "----------------------------------------\n",
      "----------------------------------------\n",
      "Number of edges: 48\n",
      "Training noise level: 0.2A\n",
      "Generating sequences for: 2JW4_A\n",
      "1 sequences of length 72 generated in 0.1965 seconds\n"
     ]
    },
    {
     "name": "stderr",
     "output_type": "stream",
     "text": [
      " 70%|███████   | 100/142 [05:03<02:04,  2.96s/it]"
     ]
    },
    {
     "name": "stdout",
     "output_type": "stream",
     "text": [
      "----------------------------------------\n",
      "chain_id_jsonl is NOT loaded\n",
      "----------------------------------------\n",
      "fixed_positions_jsonl is NOT loaded\n",
      "----------------------------------------\n",
      "pssm_jsonl is NOT loaded\n",
      "----------------------------------------\n",
      "omit_AA_jsonl is NOT loaded\n",
      "----------------------------------------\n",
      "bias_AA_jsonl is NOT loaded\n",
      "----------------------------------------\n",
      "tied_positions_jsonl is NOT loaded\n",
      "----------------------------------------\n",
      "bias by residue dictionary is not loaded, or not provided\n",
      "----------------------------------------\n",
      "----------------------------------------\n",
      "Number of edges: 48\n",
      "Training noise level: 0.2A\n",
      "Generating sequences for: 2GBQ_A\n",
      "1 sequences of length 57 generated in 0.1637 seconds\n"
     ]
    },
    {
     "name": "stderr",
     "output_type": "stream",
     "text": [
      " 71%|███████   | 101/142 [05:06<01:57,  2.86s/it]"
     ]
    },
    {
     "name": "stdout",
     "output_type": "stream",
     "text": [
      "----------------------------------------\n",
      "chain_id_jsonl is NOT loaded\n",
      "----------------------------------------\n",
      "fixed_positions_jsonl is NOT loaded\n",
      "----------------------------------------\n",
      "pssm_jsonl is NOT loaded\n",
      "----------------------------------------\n",
      "omit_AA_jsonl is NOT loaded\n",
      "----------------------------------------\n",
      "bias_AA_jsonl is NOT loaded\n",
      "----------------------------------------\n",
      "tied_positions_jsonl is NOT loaded\n",
      "----------------------------------------\n",
      "bias by residue dictionary is not loaded, or not provided\n",
      "----------------------------------------\n",
      "----------------------------------------\n",
      "Number of edges: 48\n",
      "Training noise level: 0.2A\n",
      "Generating sequences for: 4H1H_B\n",
      "1 sequences of length 325 generated in 0.6801 seconds\n"
     ]
    },
    {
     "name": "stderr",
     "output_type": "stream",
     "text": [
      " 72%|███████▏  | 102/142 [05:09<02:00,  3.01s/it]"
     ]
    },
    {
     "name": "stdout",
     "output_type": "stream",
     "text": [
      "----------------------------------------\n",
      "chain_id_jsonl is NOT loaded\n",
      "----------------------------------------\n",
      "fixed_positions_jsonl is NOT loaded\n",
      "----------------------------------------\n",
      "pssm_jsonl is NOT loaded\n",
      "----------------------------------------\n",
      "omit_AA_jsonl is NOT loaded\n",
      "----------------------------------------\n",
      "bias_AA_jsonl is NOT loaded\n",
      "----------------------------------------\n",
      "tied_positions_jsonl is NOT loaded\n",
      "----------------------------------------\n",
      "bias by residue dictionary is not loaded, or not provided\n",
      "----------------------------------------\n",
      "----------------------------------------\n",
      "Number of edges: 48\n",
      "Training noise level: 0.2A\n",
      "Generating sequences for: 3GJZ_A\n",
      "1 sequences of length 335 generated in 0.7083 seconds\n"
     ]
    },
    {
     "name": "stderr",
     "output_type": "stream",
     "text": [
      " 73%|███████▎  | 103/142 [05:13<02:02,  3.14s/it]"
     ]
    },
    {
     "name": "stdout",
     "output_type": "stream",
     "text": [
      "----------------------------------------\n",
      "chain_id_jsonl is NOT loaded\n",
      "----------------------------------------\n",
      "fixed_positions_jsonl is NOT loaded\n",
      "----------------------------------------\n",
      "pssm_jsonl is NOT loaded\n",
      "----------------------------------------\n",
      "omit_AA_jsonl is NOT loaded\n",
      "----------------------------------------\n",
      "bias_AA_jsonl is NOT loaded\n",
      "----------------------------------------\n",
      "tied_positions_jsonl is NOT loaded\n",
      "----------------------------------------\n",
      "bias by residue dictionary is not loaded, or not provided\n",
      "----------------------------------------\n",
      "----------------------------------------\n",
      "Number of edges: 48\n",
      "Training noise level: 0.2A\n",
      "Generating sequences for: 1WY5_B\n",
      "1 sequences of length 311 generated in 0.683 seconds\n"
     ]
    },
    {
     "name": "stderr",
     "output_type": "stream",
     "text": [
      " 73%|███████▎  | 104/142 [05:16<02:02,  3.21s/it]"
     ]
    },
    {
     "name": "stdout",
     "output_type": "stream",
     "text": [
      "----------------------------------------\n",
      "chain_id_jsonl is NOT loaded\n",
      "----------------------------------------\n",
      "fixed_positions_jsonl is NOT loaded\n",
      "----------------------------------------\n",
      "pssm_jsonl is NOT loaded\n",
      "----------------------------------------\n",
      "omit_AA_jsonl is NOT loaded\n",
      "----------------------------------------\n",
      "bias_AA_jsonl is NOT loaded\n",
      "----------------------------------------\n",
      "tied_positions_jsonl is NOT loaded\n",
      "----------------------------------------\n",
      "bias by residue dictionary is not loaded, or not provided\n",
      "----------------------------------------\n",
      "----------------------------------------\n",
      "Number of edges: 48\n",
      "Training noise level: 0.2A\n",
      "Generating sequences for: 4J9G_A\n",
      "1 sequences of length 58 generated in 0.1662 seconds\n"
     ]
    },
    {
     "name": "stderr",
     "output_type": "stream",
     "text": [
      " 74%|███████▍  | 105/142 [05:19<01:52,  3.04s/it]"
     ]
    },
    {
     "name": "stdout",
     "output_type": "stream",
     "text": [
      "----------------------------------------\n",
      "chain_id_jsonl is NOT loaded\n",
      "----------------------------------------\n",
      "fixed_positions_jsonl is NOT loaded\n",
      "----------------------------------------\n",
      "pssm_jsonl is NOT loaded\n",
      "----------------------------------------\n",
      "omit_AA_jsonl is NOT loaded\n",
      "----------------------------------------\n",
      "bias_AA_jsonl is NOT loaded\n",
      "----------------------------------------\n",
      "tied_positions_jsonl is NOT loaded\n",
      "----------------------------------------\n",
      "bias by residue dictionary is not loaded, or not provided\n",
      "----------------------------------------\n",
      "----------------------------------------\n",
      "Number of edges: 48\n",
      "Training noise level: 0.2A\n",
      "Generating sequences for: 6FGS_A\n",
      "1 sequences of length 130 generated in 0.3082 seconds\n"
     ]
    },
    {
     "name": "stderr",
     "output_type": "stream",
     "text": [
      " 75%|███████▍  | 106/142 [05:21<01:47,  2.98s/it]"
     ]
    },
    {
     "name": "stdout",
     "output_type": "stream",
     "text": [
      "----------------------------------------\n",
      "chain_id_jsonl is NOT loaded\n",
      "----------------------------------------\n",
      "fixed_positions_jsonl is NOT loaded\n",
      "----------------------------------------\n",
      "pssm_jsonl is NOT loaded\n",
      "----------------------------------------\n",
      "omit_AA_jsonl is NOT loaded\n",
      "----------------------------------------\n",
      "bias_AA_jsonl is NOT loaded\n",
      "----------------------------------------\n",
      "tied_positions_jsonl is NOT loaded\n",
      "----------------------------------------\n",
      "bias by residue dictionary is not loaded, or not provided\n",
      "----------------------------------------\n",
      "----------------------------------------\n",
      "Number of edges: 48\n",
      "Training noise level: 0.2A\n",
      "Generating sequences for: 2C4F_U\n",
      "1 sequences of length 116 generated in 0.2776 seconds\n"
     ]
    },
    {
     "name": "stderr",
     "output_type": "stream",
     "text": [
      " 75%|███████▌  | 107/142 [05:24<01:42,  2.92s/it]"
     ]
    },
    {
     "name": "stdout",
     "output_type": "stream",
     "text": [
      "----------------------------------------\n",
      "chain_id_jsonl is NOT loaded\n",
      "----------------------------------------\n",
      "fixed_positions_jsonl is NOT loaded\n",
      "----------------------------------------\n",
      "pssm_jsonl is NOT loaded\n",
      "----------------------------------------\n",
      "omit_AA_jsonl is NOT loaded\n",
      "----------------------------------------\n",
      "bias_AA_jsonl is NOT loaded\n",
      "----------------------------------------\n",
      "tied_positions_jsonl is NOT loaded\n",
      "----------------------------------------\n",
      "bias by residue dictionary is not loaded, or not provided\n",
      "----------------------------------------\n",
      "----------------------------------------\n",
      "Number of edges: 48\n",
      "Training noise level: 0.2A\n",
      "Generating sequences for: 1KBH_B\n",
      "1 sequences of length 59 generated in 0.1645 seconds\n"
     ]
    },
    {
     "name": "stderr",
     "output_type": "stream",
     "text": [
      " 76%|███████▌  | 108/142 [05:27<01:36,  2.85s/it]"
     ]
    },
    {
     "name": "stdout",
     "output_type": "stream",
     "text": [
      "----------------------------------------\n",
      "chain_id_jsonl is NOT loaded\n",
      "----------------------------------------\n",
      "fixed_positions_jsonl is NOT loaded\n",
      "----------------------------------------\n",
      "pssm_jsonl is NOT loaded\n",
      "----------------------------------------\n",
      "omit_AA_jsonl is NOT loaded\n",
      "----------------------------------------\n",
      "bias_AA_jsonl is NOT loaded\n",
      "----------------------------------------\n",
      "tied_positions_jsonl is NOT loaded\n",
      "----------------------------------------\n",
      "bias by residue dictionary is not loaded, or not provided\n",
      "----------------------------------------\n",
      "----------------------------------------\n",
      "Number of edges: 48\n",
      "Training noise level: 0.2A\n",
      "Generating sequences for: 5O2M_A\n",
      "1 sequences of length 81 generated in 0.2105 seconds\n"
     ]
    },
    {
     "name": "stderr",
     "output_type": "stream",
     "text": [
      " 77%|███████▋  | 109/142 [05:30<01:32,  2.80s/it]"
     ]
    },
    {
     "name": "stdout",
     "output_type": "stream",
     "text": [
      "----------------------------------------\n",
      "chain_id_jsonl is NOT loaded\n",
      "----------------------------------------\n",
      "fixed_positions_jsonl is NOT loaded\n",
      "----------------------------------------\n",
      "pssm_jsonl is NOT loaded\n",
      "----------------------------------------\n",
      "omit_AA_jsonl is NOT loaded\n",
      "----------------------------------------\n",
      "bias_AA_jsonl is NOT loaded\n",
      "----------------------------------------\n",
      "tied_positions_jsonl is NOT loaded\n",
      "----------------------------------------\n",
      "bias by residue dictionary is not loaded, or not provided\n",
      "----------------------------------------\n",
      "----------------------------------------\n",
      "Number of edges: 48\n",
      "Training noise level: 0.2A\n",
      "Generating sequences for: 1KKM_J\n",
      "1 sequences of length 87 generated in 0.2277 seconds\n"
     ]
    },
    {
     "name": "stderr",
     "output_type": "stream",
     "text": [
      " 77%|███████▋  | 110/142 [05:32<01:28,  2.78s/it]"
     ]
    },
    {
     "name": "stdout",
     "output_type": "stream",
     "text": [
      "----------------------------------------\n",
      "chain_id_jsonl is NOT loaded\n",
      "----------------------------------------\n",
      "fixed_positions_jsonl is NOT loaded\n",
      "----------------------------------------\n",
      "pssm_jsonl is NOT loaded\n",
      "----------------------------------------\n",
      "omit_AA_jsonl is NOT loaded\n",
      "----------------------------------------\n",
      "bias_AA_jsonl is NOT loaded\n",
      "----------------------------------------\n",
      "tied_positions_jsonl is NOT loaded\n",
      "----------------------------------------\n",
      "bias by residue dictionary is not loaded, or not provided\n",
      "----------------------------------------\n",
      "----------------------------------------\n",
      "Number of edges: 48\n",
      "Training noise level: 0.2A\n",
      "Generating sequences for: 2L14_A\n",
      "1 sequences of length 59 generated in 0.1692 seconds\n"
     ]
    },
    {
     "name": "stderr",
     "output_type": "stream",
     "text": [
      " 78%|███████▊  | 111/142 [05:35<01:24,  2.73s/it]"
     ]
    },
    {
     "name": "stdout",
     "output_type": "stream",
     "text": [
      "----------------------------------------\n",
      "chain_id_jsonl is NOT loaded\n",
      "----------------------------------------\n",
      "fixed_positions_jsonl is NOT loaded\n",
      "----------------------------------------\n",
      "pssm_jsonl is NOT loaded\n",
      "----------------------------------------\n",
      "omit_AA_jsonl is NOT loaded\n",
      "----------------------------------------\n",
      "bias_AA_jsonl is NOT loaded\n",
      "----------------------------------------\n",
      "tied_positions_jsonl is NOT loaded\n",
      "----------------------------------------\n",
      "bias by residue dictionary is not loaded, or not provided\n",
      "----------------------------------------\n",
      "----------------------------------------\n",
      "Number of edges: 48\n",
      "Training noise level: 0.2A\n",
      "Generating sequences for: 6P6B_A\n",
      "1 sequences of length 90 generated in 0.2318 seconds\n"
     ]
    },
    {
     "name": "stderr",
     "output_type": "stream",
     "text": [
      " 79%|███████▉  | 112/142 [05:38<01:21,  2.73s/it]"
     ]
    },
    {
     "name": "stdout",
     "output_type": "stream",
     "text": [
      "----------------------------------------\n",
      "chain_id_jsonl is NOT loaded\n",
      "----------------------------------------\n",
      "fixed_positions_jsonl is NOT loaded\n",
      "----------------------------------------\n",
      "pssm_jsonl is NOT loaded\n",
      "----------------------------------------\n",
      "omit_AA_jsonl is NOT loaded\n",
      "----------------------------------------\n",
      "bias_AA_jsonl is NOT loaded\n",
      "----------------------------------------\n",
      "tied_positions_jsonl is NOT loaded\n",
      "----------------------------------------\n",
      "bias by residue dictionary is not loaded, or not provided\n",
      "----------------------------------------\n",
      "----------------------------------------\n",
      "Number of edges: 48\n",
      "Training noise level: 0.2A\n",
      "Generating sequences for: 4INJ_B\n",
      "1 sequences of length 326 generated in 0.7082 seconds\n"
     ]
    },
    {
     "name": "stderr",
     "output_type": "stream",
     "text": [
      " 80%|███████▉  | 113/142 [05:41<01:25,  2.95s/it]"
     ]
    },
    {
     "name": "stdout",
     "output_type": "stream",
     "text": [
      "----------------------------------------\n",
      "chain_id_jsonl is NOT loaded\n",
      "----------------------------------------\n",
      "fixed_positions_jsonl is NOT loaded\n",
      "----------------------------------------\n",
      "pssm_jsonl is NOT loaded\n",
      "----------------------------------------\n",
      "omit_AA_jsonl is NOT loaded\n",
      "----------------------------------------\n",
      "bias_AA_jsonl is NOT loaded\n",
      "----------------------------------------\n",
      "tied_positions_jsonl is NOT loaded\n",
      "----------------------------------------\n",
      "bias by residue dictionary is not loaded, or not provided\n",
      "----------------------------------------\n",
      "----------------------------------------\n",
      "Number of edges: 48\n",
      "Training noise level: 0.2A\n",
      "Generating sequences for: 4MO3_M\n",
      "1 sequences of length 156 generated in 0.3647 seconds\n"
     ]
    },
    {
     "name": "stderr",
     "output_type": "stream",
     "text": [
      " 80%|████████  | 114/142 [05:44<01:23,  2.97s/it]"
     ]
    },
    {
     "name": "stdout",
     "output_type": "stream",
     "text": [
      "----------------------------------------\n",
      "chain_id_jsonl is NOT loaded\n",
      "----------------------------------------\n",
      "fixed_positions_jsonl is NOT loaded\n",
      "----------------------------------------\n",
      "pssm_jsonl is NOT loaded\n",
      "----------------------------------------\n",
      "omit_AA_jsonl is NOT loaded\n",
      "----------------------------------------\n",
      "bias_AA_jsonl is NOT loaded\n",
      "----------------------------------------\n",
      "tied_positions_jsonl is NOT loaded\n",
      "----------------------------------------\n",
      "bias by residue dictionary is not loaded, or not provided\n",
      "----------------------------------------\n",
      "----------------------------------------\n",
      "Number of edges: 48\n",
      "Training noise level: 0.2A\n",
      "Generating sequences for: 3HXJ_B\n",
      "1 sequences of length 294 generated in 0.6654 seconds\n"
     ]
    },
    {
     "name": "stderr",
     "output_type": "stream",
     "text": [
      " 81%|████████  | 115/142 [05:48<01:23,  3.09s/it]"
     ]
    },
    {
     "name": "stdout",
     "output_type": "stream",
     "text": [
      "----------------------------------------\n",
      "chain_id_jsonl is NOT loaded\n",
      "----------------------------------------\n",
      "fixed_positions_jsonl is NOT loaded\n",
      "----------------------------------------\n",
      "pssm_jsonl is NOT loaded\n",
      "----------------------------------------\n",
      "omit_AA_jsonl is NOT loaded\n",
      "----------------------------------------\n",
      "bias_AA_jsonl is NOT loaded\n",
      "----------------------------------------\n",
      "tied_positions_jsonl is NOT loaded\n",
      "----------------------------------------\n",
      "bias by residue dictionary is not loaded, or not provided\n",
      "----------------------------------------\n",
      "----------------------------------------\n",
      "Number of edges: 48\n",
      "Training noise level: 0.2A\n",
      "Generating sequences for: 2E21_A\n",
      "1 sequences of length 317 generated in 0.6953 seconds\n"
     ]
    },
    {
     "name": "stderr",
     "output_type": "stream",
     "text": [
      " 82%|████████▏ | 116/142 [05:51<01:22,  3.18s/it]"
     ]
    },
    {
     "name": "stdout",
     "output_type": "stream",
     "text": [
      "----------------------------------------\n",
      "chain_id_jsonl is NOT loaded\n",
      "----------------------------------------\n",
      "fixed_positions_jsonl is NOT loaded\n",
      "----------------------------------------\n",
      "pssm_jsonl is NOT loaded\n",
      "----------------------------------------\n",
      "omit_AA_jsonl is NOT loaded\n",
      "----------------------------------------\n",
      "bias_AA_jsonl is NOT loaded\n",
      "----------------------------------------\n",
      "tied_positions_jsonl is NOT loaded\n",
      "----------------------------------------\n",
      "bias by residue dictionary is not loaded, or not provided\n",
      "----------------------------------------\n",
      "----------------------------------------\n",
      "Number of edges: 48\n",
      "Training noise level: 0.2A\n",
      "Generating sequences for: 2C52_A\n",
      "1 sequences of length 58 generated in 0.1677 seconds\n"
     ]
    },
    {
     "name": "stderr",
     "output_type": "stream",
     "text": [
      " 82%|████████▏ | 117/142 [05:54<01:15,  3.02s/it]"
     ]
    },
    {
     "name": "stdout",
     "output_type": "stream",
     "text": [
      "----------------------------------------\n",
      "chain_id_jsonl is NOT loaded\n",
      "----------------------------------------\n",
      "fixed_positions_jsonl is NOT loaded\n",
      "----------------------------------------\n",
      "pssm_jsonl is NOT loaded\n",
      "----------------------------------------\n",
      "omit_AA_jsonl is NOT loaded\n",
      "----------------------------------------\n",
      "bias_AA_jsonl is NOT loaded\n",
      "----------------------------------------\n",
      "tied_positions_jsonl is NOT loaded\n",
      "----------------------------------------\n",
      "bias by residue dictionary is not loaded, or not provided\n",
      "----------------------------------------\n",
      "----------------------------------------\n",
      "Number of edges: 48\n",
      "Training noise level: 0.2A\n",
      "Generating sequences for: 5LV6_A\n",
      "1 sequences of length 44 generated in 0.1366 seconds\n"
     ]
    },
    {
     "name": "stderr",
     "output_type": "stream",
     "text": [
      " 83%|████████▎ | 118/142 [05:56<01:09,  2.90s/it]"
     ]
    },
    {
     "name": "stdout",
     "output_type": "stream",
     "text": [
      "----------------------------------------\n",
      "chain_id_jsonl is NOT loaded\n",
      "----------------------------------------\n",
      "fixed_positions_jsonl is NOT loaded\n",
      "----------------------------------------\n",
      "pssm_jsonl is NOT loaded\n",
      "----------------------------------------\n",
      "omit_AA_jsonl is NOT loaded\n",
      "----------------------------------------\n",
      "bias_AA_jsonl is NOT loaded\n",
      "----------------------------------------\n",
      "tied_positions_jsonl is NOT loaded\n",
      "----------------------------------------\n",
      "bias by residue dictionary is not loaded, or not provided\n",
      "----------------------------------------\n",
      "----------------------------------------\n",
      "Number of edges: 48\n",
      "Training noise level: 0.2A\n",
      "Generating sequences for: 3E18_A\n",
      "1 sequences of length 348 generated in 0.7569 seconds\n"
     ]
    },
    {
     "name": "stderr",
     "output_type": "stream",
     "text": [
      " 84%|████████▍ | 119/142 [06:00<01:10,  3.07s/it]"
     ]
    },
    {
     "name": "stdout",
     "output_type": "stream",
     "text": [
      "----------------------------------------\n",
      "chain_id_jsonl is NOT loaded\n",
      "----------------------------------------\n",
      "fixed_positions_jsonl is NOT loaded\n",
      "----------------------------------------\n",
      "pssm_jsonl is NOT loaded\n",
      "----------------------------------------\n",
      "omit_AA_jsonl is NOT loaded\n",
      "----------------------------------------\n",
      "bias_AA_jsonl is NOT loaded\n",
      "----------------------------------------\n",
      "tied_positions_jsonl is NOT loaded\n",
      "----------------------------------------\n",
      "bias by residue dictionary is not loaded, or not provided\n",
      "----------------------------------------\n",
      "----------------------------------------\n",
      "Number of edges: 48\n",
      "Training noise level: 0.2A\n",
      "Generating sequences for: 2EC9_U\n",
      "1 sequences of length 116 generated in 0.2804 seconds\n"
     ]
    },
    {
     "name": "stderr",
     "output_type": "stream",
     "text": [
      " 85%|████████▍ | 120/142 [06:02<01:05,  3.00s/it]"
     ]
    },
    {
     "name": "stdout",
     "output_type": "stream",
     "text": [
      "----------------------------------------\n",
      "chain_id_jsonl is NOT loaded\n",
      "----------------------------------------\n",
      "fixed_positions_jsonl is NOT loaded\n",
      "----------------------------------------\n",
      "pssm_jsonl is NOT loaded\n",
      "----------------------------------------\n",
      "omit_AA_jsonl is NOT loaded\n",
      "----------------------------------------\n",
      "bias_AA_jsonl is NOT loaded\n",
      "----------------------------------------\n",
      "tied_positions_jsonl is NOT loaded\n",
      "----------------------------------------\n",
      "bias by residue dictionary is not loaded, or not provided\n",
      "----------------------------------------\n",
      "----------------------------------------\n",
      "Number of edges: 48\n",
      "Training noise level: 0.2A\n",
      "Generating sequences for: 1ZH8_A\n",
      "1 sequences of length 325 generated in 0.6887 seconds\n"
     ]
    },
    {
     "name": "stderr",
     "output_type": "stream",
     "text": [
      " 85%|████████▌ | 121/142 [06:06<01:05,  3.12s/it]"
     ]
    },
    {
     "name": "stdout",
     "output_type": "stream",
     "text": [
      "----------------------------------------\n",
      "chain_id_jsonl is NOT loaded\n",
      "----------------------------------------\n",
      "fixed_positions_jsonl is NOT loaded\n",
      "----------------------------------------\n",
      "pssm_jsonl is NOT loaded\n",
      "----------------------------------------\n",
      "omit_AA_jsonl is NOT loaded\n",
      "----------------------------------------\n",
      "bias_AA_jsonl is NOT loaded\n",
      "----------------------------------------\n",
      "tied_positions_jsonl is NOT loaded\n",
      "----------------------------------------\n",
      "bias by residue dictionary is not loaded, or not provided\n",
      "----------------------------------------\n",
      "----------------------------------------\n",
      "Number of edges: 48\n",
      "Training noise level: 0.2A\n",
      "Generating sequences for: 4J9I_A\n",
      "1 sequences of length 56 generated in 0.1623 seconds\n"
     ]
    },
    {
     "name": "stderr",
     "output_type": "stream",
     "text": [
      " 86%|████████▌ | 122/142 [06:09<00:59,  2.98s/it]"
     ]
    },
    {
     "name": "stdout",
     "output_type": "stream",
     "text": [
      "----------------------------------------\n",
      "chain_id_jsonl is NOT loaded\n",
      "----------------------------------------\n",
      "fixed_positions_jsonl is NOT loaded\n",
      "----------------------------------------\n",
      "pssm_jsonl is NOT loaded\n",
      "----------------------------------------\n",
      "omit_AA_jsonl is NOT loaded\n",
      "----------------------------------------\n",
      "bias_AA_jsonl is NOT loaded\n",
      "----------------------------------------\n",
      "tied_positions_jsonl is NOT loaded\n",
      "----------------------------------------\n",
      "bias by residue dictionary is not loaded, or not provided\n",
      "----------------------------------------\n",
      "----------------------------------------\n",
      "Number of edges: 48\n",
      "Training noise level: 0.2A\n",
      "Generating sequences for: 5EUL_Y\n",
      "1 sequences of length 380 generated in 0.8138 seconds\n"
     ]
    },
    {
     "name": "stderr",
     "output_type": "stream",
     "text": [
      " 87%|████████▋ | 123/142 [06:12<00:59,  3.16s/it]"
     ]
    },
    {
     "name": "stdout",
     "output_type": "stream",
     "text": [
      "----------------------------------------\n",
      "chain_id_jsonl is NOT loaded\n",
      "----------------------------------------\n",
      "fixed_positions_jsonl is NOT loaded\n",
      "----------------------------------------\n",
      "pssm_jsonl is NOT loaded\n",
      "----------------------------------------\n",
      "omit_AA_jsonl is NOT loaded\n",
      "----------------------------------------\n",
      "bias_AA_jsonl is NOT loaded\n",
      "----------------------------------------\n",
      "tied_positions_jsonl is NOT loaded\n",
      "----------------------------------------\n",
      "bias by residue dictionary is not loaded, or not provided\n",
      "----------------------------------------\n",
      "----------------------------------------\n",
      "Number of edges: 48\n",
      "Training noise level: 0.2A\n",
      "Generating sequences for: 3U1B_B\n",
      "1 sequences of length 333 generated in 0.731 seconds\n"
     ]
    },
    {
     "name": "stderr",
     "output_type": "stream",
     "text": [
      " 87%|████████▋ | 124/142 [06:16<00:58,  3.25s/it]"
     ]
    },
    {
     "name": "stdout",
     "output_type": "stream",
     "text": [
      "----------------------------------------\n",
      "chain_id_jsonl is NOT loaded\n",
      "----------------------------------------\n",
      "fixed_positions_jsonl is NOT loaded\n",
      "----------------------------------------\n",
      "pssm_jsonl is NOT loaded\n",
      "----------------------------------------\n",
      "omit_AA_jsonl is NOT loaded\n",
      "----------------------------------------\n",
      "bias_AA_jsonl is NOT loaded\n",
      "----------------------------------------\n",
      "tied_positions_jsonl is NOT loaded\n",
      "----------------------------------------\n",
      "bias by residue dictionary is not loaded, or not provided\n",
      "----------------------------------------\n",
      "----------------------------------------\n",
      "Number of edges: 48\n",
      "Training noise level: 0.2A\n",
      "Generating sequences for: 2ZJS_Y\n",
      "1 sequences of length 415 generated in 0.8849 seconds\n"
     ]
    },
    {
     "name": "stderr",
     "output_type": "stream",
     "text": [
      " 88%|████████▊ | 125/142 [06:19<00:57,  3.38s/it]"
     ]
    },
    {
     "name": "stdout",
     "output_type": "stream",
     "text": [
      "----------------------------------------\n",
      "chain_id_jsonl is NOT loaded\n",
      "----------------------------------------\n",
      "fixed_positions_jsonl is NOT loaded\n",
      "----------------------------------------\n",
      "pssm_jsonl is NOT loaded\n",
      "----------------------------------------\n",
      "omit_AA_jsonl is NOT loaded\n",
      "----------------------------------------\n",
      "bias_AA_jsonl is NOT loaded\n",
      "----------------------------------------\n",
      "tied_positions_jsonl is NOT loaded\n",
      "----------------------------------------\n",
      "bias by residue dictionary is not loaded, or not provided\n",
      "----------------------------------------\n",
      "----------------------------------------\n",
      "Number of edges: 48\n",
      "Training noise level: 0.2A\n",
      "Generating sequences for: 2CSI_A\n",
      "1 sequences of length 76 generated in 0.2002 seconds\n"
     ]
    },
    {
     "name": "stderr",
     "output_type": "stream",
     "text": [
      " 89%|████████▊ | 126/142 [06:22<00:50,  3.17s/it]"
     ]
    },
    {
     "name": "stdout",
     "output_type": "stream",
     "text": [
      "----------------------------------------\n",
      "chain_id_jsonl is NOT loaded\n",
      "----------------------------------------\n",
      "fixed_positions_jsonl is NOT loaded\n",
      "----------------------------------------\n",
      "pssm_jsonl is NOT loaded\n",
      "----------------------------------------\n",
      "omit_AA_jsonl is NOT loaded\n",
      "----------------------------------------\n",
      "bias_AA_jsonl is NOT loaded\n",
      "----------------------------------------\n",
      "tied_positions_jsonl is NOT loaded\n",
      "----------------------------------------\n",
      "bias by residue dictionary is not loaded, or not provided\n",
      "----------------------------------------\n",
      "----------------------------------------\n",
      "Number of edges: 48\n",
      "Training noise level: 0.2A\n",
      "Generating sequences for: 2JQ8_A\n",
      "1 sequences of length 47 generated in 0.146 seconds\n"
     ]
    },
    {
     "name": "stderr",
     "output_type": "stream",
     "text": [
      " 89%|████████▉ | 127/142 [06:25<00:44,  3.00s/it]"
     ]
    },
    {
     "name": "stdout",
     "output_type": "stream",
     "text": [
      "----------------------------------------\n",
      "chain_id_jsonl is NOT loaded\n",
      "----------------------------------------\n",
      "fixed_positions_jsonl is NOT loaded\n",
      "----------------------------------------\n",
      "pssm_jsonl is NOT loaded\n",
      "----------------------------------------\n",
      "omit_AA_jsonl is NOT loaded\n",
      "----------------------------------------\n",
      "bias_AA_jsonl is NOT loaded\n",
      "----------------------------------------\n",
      "tied_positions_jsonl is NOT loaded\n",
      "----------------------------------------\n",
      "bias by residue dictionary is not loaded, or not provided\n",
      "----------------------------------------\n",
      "----------------------------------------\n",
      "Number of edges: 48\n",
      "Training noise level: 0.2A\n",
      "Generating sequences for: 2O88_A\n",
      "1 sequences of length 58 generated in 0.1668 seconds\n"
     ]
    },
    {
     "name": "stderr",
     "output_type": "stream",
     "text": [
      " 90%|█████████ | 128/142 [06:27<00:40,  2.90s/it]"
     ]
    },
    {
     "name": "stdout",
     "output_type": "stream",
     "text": [
      "----------------------------------------\n",
      "chain_id_jsonl is NOT loaded\n",
      "----------------------------------------\n",
      "fixed_positions_jsonl is NOT loaded\n",
      "----------------------------------------\n",
      "pssm_jsonl is NOT loaded\n",
      "----------------------------------------\n",
      "omit_AA_jsonl is NOT loaded\n",
      "----------------------------------------\n",
      "bias_AA_jsonl is NOT loaded\n",
      "----------------------------------------\n",
      "tied_positions_jsonl is NOT loaded\n",
      "----------------------------------------\n",
      "bias by residue dictionary is not loaded, or not provided\n",
      "----------------------------------------\n",
      "----------------------------------------\n",
      "Number of edges: 48\n",
      "Training noise level: 0.2A\n",
      "Generating sequences for: 5USD_A\n",
      "1 sequences of length 329 generated in 0.6993 seconds\n"
     ]
    },
    {
     "name": "stderr",
     "output_type": "stream",
     "text": [
      " 91%|█████████ | 129/142 [06:31<00:39,  3.05s/it]"
     ]
    },
    {
     "name": "stdout",
     "output_type": "stream",
     "text": [
      "----------------------------------------\n",
      "chain_id_jsonl is NOT loaded\n",
      "----------------------------------------\n",
      "fixed_positions_jsonl is NOT loaded\n",
      "----------------------------------------\n",
      "pssm_jsonl is NOT loaded\n",
      "----------------------------------------\n",
      "omit_AA_jsonl is NOT loaded\n",
      "----------------------------------------\n",
      "bias_AA_jsonl is NOT loaded\n",
      "----------------------------------------\n",
      "tied_positions_jsonl is NOT loaded\n",
      "----------------------------------------\n",
      "bias by residue dictionary is not loaded, or not provided\n",
      "----------------------------------------\n",
      "----------------------------------------\n",
      "Number of edges: 48\n",
      "Training noise level: 0.2A\n",
      "Generating sequences for: 1BBZ_A\n",
      "1 sequences of length 58 generated in 0.1662 seconds\n"
     ]
    },
    {
     "name": "stderr",
     "output_type": "stream",
     "text": [
      " 92%|█████████▏| 130/142 [06:33<00:35,  2.93s/it]"
     ]
    },
    {
     "name": "stdout",
     "output_type": "stream",
     "text": [
      "----------------------------------------\n",
      "chain_id_jsonl is NOT loaded\n",
      "----------------------------------------\n",
      "fixed_positions_jsonl is NOT loaded\n",
      "----------------------------------------\n",
      "pssm_jsonl is NOT loaded\n",
      "----------------------------------------\n",
      "omit_AA_jsonl is NOT loaded\n",
      "----------------------------------------\n",
      "bias_AA_jsonl is NOT loaded\n",
      "----------------------------------------\n",
      "tied_positions_jsonl is NOT loaded\n",
      "----------------------------------------\n",
      "bias by residue dictionary is not loaded, or not provided\n",
      "----------------------------------------\n",
      "----------------------------------------\n",
      "Number of edges: 48\n",
      "Training noise level: 0.2A\n",
      "Generating sequences for: 1KKL_J\n",
      "1 sequences of length 88 generated in 0.2154 seconds\n"
     ]
    },
    {
     "name": "stderr",
     "output_type": "stream",
     "text": [
      " 92%|█████████▏| 131/142 [06:36<00:31,  2.85s/it]"
     ]
    },
    {
     "name": "stdout",
     "output_type": "stream",
     "text": [
      "----------------------------------------\n",
      "chain_id_jsonl is NOT loaded\n",
      "----------------------------------------\n",
      "fixed_positions_jsonl is NOT loaded\n",
      "----------------------------------------\n",
      "pssm_jsonl is NOT loaded\n",
      "----------------------------------------\n",
      "omit_AA_jsonl is NOT loaded\n",
      "----------------------------------------\n",
      "bias_AA_jsonl is NOT loaded\n",
      "----------------------------------------\n",
      "tied_positions_jsonl is NOT loaded\n",
      "----------------------------------------\n",
      "bias by residue dictionary is not loaded, or not provided\n",
      "----------------------------------------\n",
      "----------------------------------------\n",
      "Number of edges: 48\n",
      "Training noise level: 0.2A\n",
      "Generating sequences for: 5FD8_B\n",
      "1 sequences of length 330 generated in 0.7003 seconds\n"
     ]
    },
    {
     "name": "stderr",
     "output_type": "stream",
     "text": [
      " 93%|█████████▎| 132/142 [06:39<00:30,  3.02s/it]"
     ]
    },
    {
     "name": "stdout",
     "output_type": "stream",
     "text": [
      "----------------------------------------\n",
      "chain_id_jsonl is NOT loaded\n",
      "----------------------------------------\n",
      "fixed_positions_jsonl is NOT loaded\n",
      "----------------------------------------\n",
      "pssm_jsonl is NOT loaded\n",
      "----------------------------------------\n",
      "omit_AA_jsonl is NOT loaded\n",
      "----------------------------------------\n",
      "bias_AA_jsonl is NOT loaded\n",
      "----------------------------------------\n",
      "tied_positions_jsonl is NOT loaded\n",
      "----------------------------------------\n",
      "bias by residue dictionary is not loaded, or not provided\n",
      "----------------------------------------\n",
      "----------------------------------------\n",
      "Number of edges: 48\n",
      "Training noise level: 0.2A\n",
      "Generating sequences for: 4J9C_A\n",
      "1 sequences of length 58 generated in 0.1683 seconds\n"
     ]
    },
    {
     "name": "stderr",
     "output_type": "stream",
     "text": [
      " 94%|█████████▎| 133/142 [06:42<00:26,  2.91s/it]"
     ]
    },
    {
     "name": "stdout",
     "output_type": "stream",
     "text": [
      "----------------------------------------\n",
      "chain_id_jsonl is NOT loaded\n",
      "----------------------------------------\n",
      "fixed_positions_jsonl is NOT loaded\n",
      "----------------------------------------\n",
      "pssm_jsonl is NOT loaded\n",
      "----------------------------------------\n",
      "omit_AA_jsonl is NOT loaded\n",
      "----------------------------------------\n",
      "bias_AA_jsonl is NOT loaded\n",
      "----------------------------------------\n",
      "tied_positions_jsonl is NOT loaded\n",
      "----------------------------------------\n",
      "bias by residue dictionary is not loaded, or not provided\n",
      "----------------------------------------\n",
      "----------------------------------------\n",
      "Number of edges: 48\n",
      "Training noise level: 0.2A\n",
      "Generating sequences for: 1ZH8_B\n",
      "1 sequences of length 324 generated in 0.687 seconds\n"
     ]
    },
    {
     "name": "stderr",
     "output_type": "stream",
     "text": [
      " 94%|█████████▍| 134/142 [06:45<00:24,  3.05s/it]"
     ]
    },
    {
     "name": "stdout",
     "output_type": "stream",
     "text": [
      "----------------------------------------\n",
      "chain_id_jsonl is NOT loaded\n",
      "----------------------------------------\n",
      "fixed_positions_jsonl is NOT loaded\n",
      "----------------------------------------\n",
      "pssm_jsonl is NOT loaded\n",
      "----------------------------------------\n",
      "omit_AA_jsonl is NOT loaded\n",
      "----------------------------------------\n",
      "bias_AA_jsonl is NOT loaded\n",
      "----------------------------------------\n",
      "tied_positions_jsonl is NOT loaded\n",
      "----------------------------------------\n",
      "bias by residue dictionary is not loaded, or not provided\n",
      "----------------------------------------\n",
      "----------------------------------------\n",
      "Number of edges: 48\n",
      "Training noise level: 0.2A\n",
      "Generating sequences for: 2CR3_A\n",
      "1 sequences of length 99 generated in 0.244 seconds\n"
     ]
    },
    {
     "name": "stderr",
     "output_type": "stream",
     "text": [
      " 95%|█████████▌| 135/142 [06:48<00:20,  2.96s/it]"
     ]
    },
    {
     "name": "stdout",
     "output_type": "stream",
     "text": [
      "----------------------------------------\n",
      "chain_id_jsonl is NOT loaded\n",
      "----------------------------------------\n",
      "fixed_positions_jsonl is NOT loaded\n",
      "----------------------------------------\n",
      "pssm_jsonl is NOT loaded\n",
      "----------------------------------------\n",
      "omit_AA_jsonl is NOT loaded\n",
      "----------------------------------------\n",
      "bias_AA_jsonl is NOT loaded\n",
      "----------------------------------------\n",
      "tied_positions_jsonl is NOT loaded\n",
      "----------------------------------------\n",
      "bias by residue dictionary is not loaded, or not provided\n",
      "----------------------------------------\n",
      "----------------------------------------\n",
      "Number of edges: 48\n",
      "Training noise level: 0.2A\n",
      "Generating sequences for: 1P1A_A\n",
      "1 sequences of length 85 generated in 0.2262 seconds\n"
     ]
    },
    {
     "name": "stderr",
     "output_type": "stream",
     "text": [
      " 96%|█████████▌| 136/142 [06:51<00:17,  2.90s/it]"
     ]
    },
    {
     "name": "stdout",
     "output_type": "stream",
     "text": [
      "----------------------------------------\n",
      "chain_id_jsonl is NOT loaded\n",
      "----------------------------------------\n",
      "fixed_positions_jsonl is NOT loaded\n",
      "----------------------------------------\n",
      "pssm_jsonl is NOT loaded\n",
      "----------------------------------------\n",
      "omit_AA_jsonl is NOT loaded\n",
      "----------------------------------------\n",
      "bias_AA_jsonl is NOT loaded\n",
      "----------------------------------------\n",
      "tied_positions_jsonl is NOT loaded\n",
      "----------------------------------------\n",
      "bias by residue dictionary is not loaded, or not provided\n",
      "----------------------------------------\n",
      "----------------------------------------\n",
      "Number of edges: 48\n",
      "Training noise level: 0.2A\n",
      "Generating sequences for: 1AWO_A\n",
      "1 sequences of length 57 generated in 0.163 seconds\n"
     ]
    },
    {
     "name": "stderr",
     "output_type": "stream",
     "text": [
      " 96%|█████████▋| 137/142 [06:54<00:14,  2.82s/it]"
     ]
    },
    {
     "name": "stdout",
     "output_type": "stream",
     "text": [
      "----------------------------------------\n",
      "chain_id_jsonl is NOT loaded\n",
      "----------------------------------------\n",
      "fixed_positions_jsonl is NOT loaded\n",
      "----------------------------------------\n",
      "pssm_jsonl is NOT loaded\n",
      "----------------------------------------\n",
      "omit_AA_jsonl is NOT loaded\n",
      "----------------------------------------\n",
      "bias_AA_jsonl is NOT loaded\n",
      "----------------------------------------\n",
      "tied_positions_jsonl is NOT loaded\n",
      "----------------------------------------\n",
      "bias by residue dictionary is not loaded, or not provided\n",
      "----------------------------------------\n",
      "----------------------------------------\n",
      "Number of edges: 48\n",
      "Training noise level: 0.2A\n",
      "Generating sequences for: 6KBR_C\n",
      "1 sequences of length 55 generated in 0.1613 seconds\n"
     ]
    },
    {
     "name": "stderr",
     "output_type": "stream",
     "text": [
      " 97%|█████████▋| 138/142 [06:56<00:11,  2.77s/it]"
     ]
    },
    {
     "name": "stdout",
     "output_type": "stream",
     "text": [
      "----------------------------------------\n",
      "chain_id_jsonl is NOT loaded\n",
      "----------------------------------------\n",
      "fixed_positions_jsonl is NOT loaded\n",
      "----------------------------------------\n",
      "pssm_jsonl is NOT loaded\n",
      "----------------------------------------\n",
      "omit_AA_jsonl is NOT loaded\n",
      "----------------------------------------\n",
      "bias_AA_jsonl is NOT loaded\n",
      "----------------------------------------\n",
      "tied_positions_jsonl is NOT loaded\n",
      "----------------------------------------\n",
      "bias by residue dictionary is not loaded, or not provided\n",
      "----------------------------------------\n",
      "----------------------------------------\n",
      "Number of edges: 48\n",
      "Training noise level: 0.2A\n",
      "Generating sequences for: 4E5S_A\n",
      "1 sequences of length 329 generated in 0.6981 seconds\n"
     ]
    },
    {
     "name": "stderr",
     "output_type": "stream",
     "text": [
      " 98%|█████████▊| 139/142 [07:00<00:08,  2.96s/it]"
     ]
    },
    {
     "name": "stdout",
     "output_type": "stream",
     "text": [
      "----------------------------------------\n",
      "chain_id_jsonl is NOT loaded\n",
      "----------------------------------------\n",
      "fixed_positions_jsonl is NOT loaded\n",
      "----------------------------------------\n",
      "pssm_jsonl is NOT loaded\n",
      "----------------------------------------\n",
      "omit_AA_jsonl is NOT loaded\n",
      "----------------------------------------\n",
      "bias_AA_jsonl is NOT loaded\n",
      "----------------------------------------\n",
      "tied_positions_jsonl is NOT loaded\n",
      "----------------------------------------\n",
      "bias by residue dictionary is not loaded, or not provided\n",
      "----------------------------------------\n",
      "----------------------------------------\n",
      "Number of edges: 48\n",
      "Training noise level: 0.2A\n",
      "Generating sequences for: 4MI1_A\n",
      "1 sequences of length 332 generated in 0.7175 seconds\n"
     ]
    },
    {
     "name": "stderr",
     "output_type": "stream",
     "text": [
      " 99%|█████████▊| 140/142 [07:03<00:06,  3.11s/it]"
     ]
    },
    {
     "name": "stdout",
     "output_type": "stream",
     "text": [
      "----------------------------------------\n",
      "chain_id_jsonl is NOT loaded\n",
      "----------------------------------------\n",
      "fixed_positions_jsonl is NOT loaded\n",
      "----------------------------------------\n",
      "pssm_jsonl is NOT loaded\n",
      "----------------------------------------\n",
      "omit_AA_jsonl is NOT loaded\n",
      "----------------------------------------\n",
      "bias_AA_jsonl is NOT loaded\n",
      "----------------------------------------\n",
      "tied_positions_jsonl is NOT loaded\n",
      "----------------------------------------\n",
      "bias by residue dictionary is not loaded, or not provided\n",
      "----------------------------------------\n",
      "----------------------------------------\n",
      "Number of edges: 48\n",
      "Training noise level: 0.2A\n",
      "Generating sequences for: 3T5M_A\n",
      "1 sequences of length 335 generated in 0.7208 seconds\n"
     ]
    },
    {
     "name": "stderr",
     "output_type": "stream",
     "text": [
      " 99%|█████████▉| 141/142 [07:07<00:03,  3.22s/it]"
     ]
    },
    {
     "name": "stdout",
     "output_type": "stream",
     "text": [
      "----------------------------------------\n",
      "chain_id_jsonl is NOT loaded\n",
      "----------------------------------------\n",
      "fixed_positions_jsonl is NOT loaded\n",
      "----------------------------------------\n",
      "pssm_jsonl is NOT loaded\n",
      "----------------------------------------\n",
      "omit_AA_jsonl is NOT loaded\n",
      "----------------------------------------\n",
      "bias_AA_jsonl is NOT loaded\n",
      "----------------------------------------\n",
      "tied_positions_jsonl is NOT loaded\n",
      "----------------------------------------\n",
      "bias by residue dictionary is not loaded, or not provided\n",
      "----------------------------------------\n",
      "----------------------------------------\n",
      "Number of edges: 48\n",
      "Training noise level: 0.2A\n",
      "Generating sequences for: 4KI5_M\n",
      "1 sequences of length 154 generated in 0.3684 seconds\n"
     ]
    },
    {
     "name": "stderr",
     "output_type": "stream",
     "text": [
      "100%|██████████| 142/142 [07:09<00:00,  3.03s/it]\n"
     ]
    }
   ],
   "source": [
    "# load structure\n",
    "profiling = []\n",
    "for pdb_filepath in tqdm(pdb_filepaths):\n",
    "    t0 = time()\n",
    "    pdbid = os.path.basename(pdb_filepath)[:-4]\n",
    "    \n",
    "    # find subunits\n",
    "    subunits = sp.split_by_chain(sp.read_pdb(pdb_filepath))\n",
    "    cids = [cid.split(':')[0] for cid in subunits]\n",
    "    \n",
    "    # predict sequence on one chain at a time\n",
    "    for cid in cids:\n",
    "        # define key\n",
    "        if \"_\" in pdbid:\n",
    "            key = pdbid\n",
    "        else:\n",
    "            key = \"{}_{}\".format(pdbid, cid)\n",
    "    \n",
    "        # get reference sequences\n",
    "        seqs = {cid.split(':')[0]:sp.subunit_to_sequence(subunits[cid]) for cid in subunits}\n",
    "    \n",
    "        # run ProteinMPNN\n",
    "        command = ' '.join([\n",
    "            \"python\", \"ProteinMPNN/protein_mpnn_run.py\",\n",
    "            \"--pdb_path\", pdb_filepath,\n",
    "            \"--pdb_path_chains\", cid,\n",
    "            \"--out_folder\", output_dir,\n",
    "            \"--num_seq_per_target\", \"1\",\n",
    "            \"--sampling_temp\", \"0.000001\",\n",
    "            \"--seed\", \"37\",\n",
    "            \"--batch_size\", \"1\",\n",
    "        ])\n",
    "        os.system(command)\n",
    "    \n",
    "        # locate and rename output\n",
    "        fa_filepath = os.path.join(output_dir, \"seqs\", pdbid+\".fa\")\n",
    "        new_fa_filepath = os.path.join(output_dir, \"seqs\", \"{}.fa\".format(key))\n",
    "        os.rename(fa_filepath, new_fa_filepath)\n",
    "        fa_filepath = new_fa_filepath\n",
    "        \n",
    "        # read file\n",
    "        with open(fa_filepath, 'r') as fs:\n",
    "            fa_str = fs.read()\n",
    "            \n",
    "        # parse file and update sequence\n",
    "        sid = os.path.basename(fa_filepath).split('.')[0]\n",
    "        seqs[cid] = fa_str.split('\\n')[3]\n",
    "        \n",
    "        # get multimer sequences\n",
    "        seq = ':'.join([seqs[cid] for cid in cids])\n",
    "            \n",
    "        # write corresponding file\n",
    "        with open(os.path.join(output_dir, \"{}.fasta\".format(key)), 'w') as fs:\n",
    "            fs.write('>{}\\n{}'.format(sid,seq))\n",
    "    \n",
    "    # profiling\n",
    "    t1 = time()\n",
    "    profiling.append({'sid': sid, 'dt': t1-t0})\n",
    "\n",
    "# save profiling\n",
    "dfp = pd.DataFrame(profiling)\n",
    "dfp.to_csv(\"results/profiling_mpnn.csv\", index=False)"
   ]
  },
  {
   "cell_type": "code",
   "execution_count": null,
   "metadata": {},
   "outputs": [],
   "source": []
  },
  {
   "cell_type": "code",
   "execution_count": null,
   "metadata": {},
   "outputs": [],
   "source": []
  },
  {
   "cell_type": "code",
   "execution_count": null,
   "metadata": {},
   "outputs": [],
   "source": []
  }
 ],
 "metadata": {
  "kernelspec": {
   "display_name": "carbonara",
   "language": "python",
   "name": "python3"
  },
  "language_info": {
   "codemirror_mode": {
    "name": "ipython",
    "version": 3
   },
   "file_extension": ".py",
   "mimetype": "text/x-python",
   "name": "python",
   "nbconvert_exporter": "python",
   "pygments_lexer": "ipython3",
   "version": "3.9.16"
  },
  "orig_nbformat": 4
 },
 "nbformat": 4,
 "nbformat_minor": 2
}
