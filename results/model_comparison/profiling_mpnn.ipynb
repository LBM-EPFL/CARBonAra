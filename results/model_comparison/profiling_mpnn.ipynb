{
 "cells": [
  {
   "cell_type": "code",
   "execution_count": null,
   "metadata": {},
   "outputs": [],
   "source": [
    "import os\n",
    "import pandas as pd\n",
    "from glob import glob\n",
    "from tqdm import tqdm\n",
    "from time import time\n",
    "\n",
    "import src as sp"
   ]
  },
  {
   "cell_type": "code",
   "execution_count": null,
   "metadata": {},
   "outputs": [],
   "source": [
    "# parameters\n",
    "pdb_filepaths = glob(\"tmp/*.pdb\")\n",
    "output_dir = \"tmp_mpnn_out\""
   ]
  },
  {
   "cell_type": "code",
   "execution_count": null,
   "metadata": {},
   "outputs": [],
   "source": [
    "# load structure\n",
    "profiling = []\n",
    "for pdb_filepath in tqdm(pdb_filepaths):\n",
    "    pdbid = os.path.basename(pdb_filepath)[:-4]\n",
    "    \n",
    "    # find subunits\n",
    "    subunits = sp.split_by_chain(sp.read_pdb(pdb_filepath))\n",
    "    cids = [cid.split(':')[0] for cid in subunits]\n",
    "    \n",
    "    # run ProteinMPNN\n",
    "    command = ' '.join([\n",
    "        \"python\", \"ProteinMPNN/protein_mpnn_run.py\",\n",
    "        \"--pdb_path\", pdb_filepath,\n",
    "        \"--out_folder\", output_dir,\n",
    "        \"--num_seq_per_target\", \"1\",\n",
    "        \"--sampling_temp\", \"0.000001\",\n",
    "        \"--seed\", \"37\",\n",
    "        \"--batch_size\", \"1\",\n",
    "    ])\n",
    "    output = os.popen(command).read()\n",
    "    \n",
    "    # save profiling\n",
    "    sid = os.path.basename(pdb_filepath).split('.')[0]\n",
    "    profiling.append({'sid': sid, 'dt': float(output.split()[-2])})\n",
    "\n",
    "# save profiling\n",
    "dfp = pd.DataFrame(profiling)\n",
    "dfp.to_csv(\"results/profiling_mpnn_ext.csv\", index=False)"
   ]
  },
  {
   "cell_type": "code",
   "execution_count": null,
   "metadata": {},
   "outputs": [],
   "source": []
  },
  {
   "cell_type": "code",
   "execution_count": null,
   "metadata": {},
   "outputs": [],
   "source": []
  }
 ],
 "metadata": {
  "kernelspec": {
   "display_name": "carbonara",
   "language": "python",
   "name": "python3"
  },
  "language_info": {
   "codemirror_mode": {
    "name": "ipython",
    "version": 3
   },
   "file_extension": ".py",
   "mimetype": "text/x-python",
   "name": "python",
   "nbconvert_exporter": "python",
   "pygments_lexer": "ipython3",
   "version": "3.9.16"
  },
  "orig_nbformat": 4
 },
 "nbformat": 4,
 "nbformat_minor": 2
}
