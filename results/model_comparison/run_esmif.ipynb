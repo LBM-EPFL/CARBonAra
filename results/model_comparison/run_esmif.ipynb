{
 "cells": [
  {
   "cell_type": "code",
   "execution_count": 1,
   "metadata": {},
   "outputs": [],
   "source": [
    "import os\n",
    "import numpy as np\n",
    "import torch as pt\n",
    "import pandas as pd\n",
    "from glob import glob\n",
    "from tqdm import tqdm\n",
    "from time import time\n",
    "\n",
    "import esm.inverse_folding"
   ]
  },
  {
   "cell_type": "code",
   "execution_count": 2,
   "metadata": {},
   "outputs": [
    {
     "name": "stderr",
     "output_type": "stream",
     "text": [
      "/home/khaos/miniforge/envs/inverse/lib/python3.9/site-packages/esm/pretrained.py:215: UserWarning: Regression weights not found, predicting contacts will not produce correct results.\n",
      "  warnings.warn(\n"
     ]
    }
   ],
   "source": [
    "# parameters\n",
    "device = pt.device(\"cuda\")\n",
    "\n",
    "# load model\n",
    "model, alphabet = esm.pretrained.esm_if1_gvp4_t16_142M_UR50()\n",
    "model = model.eval().to(device)"
   ]
  },
  {
   "attachments": {},
   "cell_type": "markdown",
   "metadata": {},
   "source": [
    "### Monomers"
   ]
  },
  {
   "cell_type": "code",
   "execution_count": 3,
   "metadata": {},
   "outputs": [
    {
     "name": "stderr",
     "output_type": "stream",
     "text": [
      "100%|██████████| 142/142 [03:14<00:00,  1.37s/it]\n"
     ]
    }
   ],
   "source": [
    "# locate benchark structures\n",
    "pdb_filepaths = glob(\"benchmark_data/wt/monomers/*.pdb\")\n",
    "\n",
    "profiling = []\n",
    "for pdb_filepath in tqdm(pdb_filepaths):\n",
    "    t0 = time()\n",
    "    # load structure\n",
    "    structure = esm.inverse_folding.util.load_structure(pdb_filepath)\n",
    "    coords, seq = esm.inverse_folding.util.extract_coords_from_structure(structure)\n",
    "    \n",
    "    # sample sequence\n",
    "    sampled_seq = model.sample(coords, temperature=1e-6, device=device)\n",
    "    \n",
    "    # save sequence\n",
    "    sid = os.path.basename(pdb_filepath).split('.')[0]\n",
    "    with open(\"benchmark_data/esm/monomers/{}.fasta\".format(sid), 'w') as fs:\n",
    "        fs.write(\">{}\\n{}\".format(sid, sampled_seq))\n",
    "        \n",
    "    # profiling\n",
    "    t1 = time()\n",
    "    profiling.append({'sid': sid, 'dt': t1-t0})\n",
    "\n",
    "# save profiling\n",
    "dfp = pd.DataFrame(profiling)\n",
    "dfp.to_csv(\"results/profiling_esm.csv\", index=False)"
   ]
  },
  {
   "attachments": {},
   "cell_type": "markdown",
   "metadata": {},
   "source": [
    "### Dimers"
   ]
  },
  {
   "cell_type": "code",
   "execution_count": null,
   "metadata": {},
   "outputs": [],
   "source": [
    "# locate benchark structures\n",
    "pdb_filepaths = glob(\"benchmark_data/wt/dimers/*.pdb\")\n",
    "\n",
    "for pdb_filepath in tqdm(pdb_filepaths):\n",
    "    # load structure\n",
    "    structure = esm.inverse_folding.util.load_structure(pdb_filepath)\n",
    "    coords, native_seqs = esm.inverse_folding.multichain_util.extract_coords_from_complex(structure)\n",
    "\n",
    "    # get chain ids\n",
    "    cid0, cid1 = list(coords)\n",
    "    \n",
    "    # sample sequences\n",
    "    seq0 = ':'.join([\n",
    "        esm.inverse_folding.multichain_util.sample_sequence_in_complex(model, coords, cid0, temperature=1e-6),\n",
    "        native_seqs[cid1],\n",
    "    ])\n",
    "    seq1 = ':'.join([\n",
    "        native_seqs[cid0],\n",
    "        esm.inverse_folding.multichain_util.sample_sequence_in_complex(model, coords, cid1, temperature=1e-6),\n",
    "    ])\n",
    "        \n",
    "    # save sequences\n",
    "    sid = os.path.basename(pdb_filepath).split('.')[0]\n",
    "    with open(\"benchmark_data/esm/dimers/{}_{}.fasta\".format(sid, cid0), 'w') as fs:\n",
    "        fs.write(\">{}\\n{}\".format(sid, seq0))\n",
    "    with open(\"benchmark_data/esm/dimers/{}_{}.fasta\".format(sid, cid1), 'w') as fs:\n",
    "        fs.write(\">{}\\n{}\".format(sid, seq1))"
   ]
  },
  {
   "cell_type": "code",
   "execution_count": null,
   "metadata": {},
   "outputs": [],
   "source": []
  },
  {
   "cell_type": "code",
   "execution_count": null,
   "metadata": {},
   "outputs": [],
   "source": []
  }
 ],
 "metadata": {
  "kernelspec": {
   "display_name": "inverse",
   "language": "python",
   "name": "python3"
  },
  "language_info": {
   "codemirror_mode": {
    "name": "ipython",
    "version": 3
   },
   "file_extension": ".py",
   "mimetype": "text/x-python",
   "name": "python",
   "nbconvert_exporter": "python",
   "pygments_lexer": "ipython3",
   "version": "3.9.18"
  },
  "orig_nbformat": 4,
  "vscode": {
   "interpreter": {
    "hash": "32547dd0a401af0df669910cc18f2b4ebc580c087062db0dc7fdfcb29032b269"
   }
  }
 },
 "nbformat": 4,
 "nbformat_minor": 2
}
