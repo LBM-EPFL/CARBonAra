{
 "cells": [
  {
   "cell_type": "code",
   "execution_count": 1,
   "metadata": {},
   "outputs": [],
   "source": [
    "import numpy as np\n",
    "import torch as pt\n",
    "import pandas as pd\n",
    "import matplotlib.pyplot as plt\n",
    "\n",
    "import runtime as rt"
   ]
  },
  {
   "cell_type": "code",
   "execution_count": 2,
   "metadata": {},
   "outputs": [],
   "source": [
    "# load predictions\n",
    "pwc = pt.load(\"results/tem1/prediction_ref_with_context.pt\")\n",
    "pwoc = pt.load(\"results/tem1/prediction_ref_without_context.pt\")\n",
    "seqs = {\n",
    "    \"ref\": rt.max_pred_to_seq(pwc['y']),\n",
    "    \"woc\": rt.max_pred_to_seq(pwoc['p']),\n",
    "    \"wc\": rt.max_pred_to_seq(pwc['p']),\n",
    "    \"esm\": rt.read_fasta(\"results/tem1/esm-if1.fasta\")[1][0],\n",
    "    \"mpnn\": rt.read_fasta(\"results/tem1/mpnn/mpnn.fasta\")[1][0],\n",
    "}"
   ]
  },
  {
   "cell_type": "code",
   "execution_count": 4,
   "metadata": {},
   "outputs": [
    {
     "name": "stdout",
     "output_type": "stream",
     "text": [
      "ref\t SKNER\n",
      "woc\t DNNYF\n",
      "wc\t SKNEH\n",
      "esm\t SKNEH\n",
      "mpnn\t SKNEY\n"
     ]
    },
    {
     "data": {
      "text/html": [
       "<div>\n",
       "<style scoped>\n",
       "    .dataframe tbody tr th:only-of-type {\n",
       "        vertical-align: middle;\n",
       "    }\n",
       "\n",
       "    .dataframe tbody tr th {\n",
       "        vertical-align: top;\n",
       "    }\n",
       "\n",
       "    .dataframe thead th {\n",
       "        text-align: right;\n",
       "    }\n",
       "</style>\n",
       "<table border=\"1\" class=\"dataframe\">\n",
       "  <thead>\n",
       "    <tr style=\"text-align: right;\">\n",
       "      <th></th>\n",
       "      <th>method</th>\n",
       "      <th>sequence_identity</th>\n",
       "      <th>sequence_similarity</th>\n",
       "      <th>interface_sequence_identity</th>\n",
       "      <th>interface_sequence_similarity</th>\n",
       "      <th>interface_sequence</th>\n",
       "    </tr>\n",
       "  </thead>\n",
       "  <tbody>\n",
       "    <tr>\n",
       "      <th>0</th>\n",
       "      <td>woc</td>\n",
       "      <td>0.536</td>\n",
       "      <td>0.688</td>\n",
       "      <td>0.2</td>\n",
       "      <td>0.2</td>\n",
       "      <td>DNNYF</td>\n",
       "    </tr>\n",
       "    <tr>\n",
       "      <th>1</th>\n",
       "      <td>wc</td>\n",
       "      <td>0.548</td>\n",
       "      <td>0.707</td>\n",
       "      <td>0.8</td>\n",
       "      <td>0.8</td>\n",
       "      <td>SKNEH</td>\n",
       "    </tr>\n",
       "    <tr>\n",
       "      <th>2</th>\n",
       "      <td>esm</td>\n",
       "      <td>0.616</td>\n",
       "      <td>0.783</td>\n",
       "      <td>0.8</td>\n",
       "      <td>0.8</td>\n",
       "      <td>SKNEH</td>\n",
       "    </tr>\n",
       "    <tr>\n",
       "      <th>3</th>\n",
       "      <td>mpnn</td>\n",
       "      <td>0.490</td>\n",
       "      <td>0.665</td>\n",
       "      <td>0.8</td>\n",
       "      <td>0.8</td>\n",
       "      <td>SKNEY</td>\n",
       "    </tr>\n",
       "  </tbody>\n",
       "</table>\n",
       "</div>"
      ],
      "text/plain": [
       "  method  sequence_identity  sequence_similarity  interface_sequence_identity  \\\n",
       "0    woc              0.536                0.688                          0.2   \n",
       "1     wc              0.548                0.707                          0.8   \n",
       "2    esm              0.616                0.783                          0.8   \n",
       "3   mpnn              0.490                0.665                          0.8   \n",
       "\n",
       "   interface_sequence_similarity interface_sequence  \n",
       "0                            0.2              DNNYF  \n",
       "1                            0.8              SKNEH  \n",
       "2                            0.8              SKNEH  \n",
       "3                            0.8              SKNEY  "
      ]
     },
     "execution_count": 4,
     "metadata": {},
     "output_type": "execute_result"
    }
   ],
   "source": [
    "keys = [\"woc\", \"wc\", \"esm\", \"mpnn\"]\n",
    "ids_int = [44, 47, 106, 140, 217]\n",
    "\n",
    "seq_ref_int = ''.join(np.array(list(seqs[\"ref\"]))[ids_int])\n",
    "print(\"ref\\t\", seq_ref_int)\n",
    "\n",
    "results = []\n",
    "for key in keys:\n",
    "    seq_int = ''.join(np.array(list(seqs[key]))[ids_int])\n",
    "    print(key+'\\t', seq_int)\n",
    "    results.append({\n",
    "        'method': key,\n",
    "        'sequence_identity': rt.sequence_identity(seqs[\"ref\"], seqs[key]),\n",
    "        'sequence_similarity': rt.sequence_similarity(seqs[\"ref\"], seqs[key]),\n",
    "        'interface_sequence_identity': rt.sequence_identity(seq_ref_int, seq_int),\n",
    "        'interface_sequence_similarity': rt.sequence_similarity(seq_ref_int, seq_int),\n",
    "        'interface_sequence': seq_int,\n",
    "    })\n",
    "\n",
    "df = pd.DataFrame(results)\n",
    "df.round(3)"
   ]
  },
  {
   "cell_type": "code",
   "execution_count": null,
   "metadata": {},
   "outputs": [],
   "source": []
  },
  {
   "cell_type": "code",
   "execution_count": null,
   "metadata": {},
   "outputs": [],
   "source": []
  },
  {
   "cell_type": "code",
   "execution_count": null,
   "metadata": {},
   "outputs": [],
   "source": []
  },
  {
   "cell_type": "code",
   "execution_count": null,
   "metadata": {},
   "outputs": [],
   "source": []
  }
 ],
 "metadata": {
  "kernelspec": {
   "display_name": "carbonara",
   "language": "python",
   "name": "python3"
  },
  "language_info": {
   "codemirror_mode": {
    "name": "ipython",
    "version": 3
   },
   "file_extension": ".py",
   "mimetype": "text/x-python",
   "name": "python",
   "nbconvert_exporter": "python",
   "pygments_lexer": "ipython3",
   "version": "3.9.16"
  },
  "orig_nbformat": 4
 },
 "nbformat": 4,
 "nbformat_minor": 2
}
