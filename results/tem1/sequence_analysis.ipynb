{
 "cells": [
  {
   "cell_type": "code",
   "execution_count": 1,
   "metadata": {},
   "outputs": [],
   "source": [
    "import torch as pt\n",
    "import numpy as np\n",
    "import pandas as pd\n",
    "import matplotlib.pyplot as plt\n",
    "from matplotlib import rcParams\n",
    "\n",
    "import src as sp\n",
    "import runtime as rt\n",
    "from theme import colors\n",
    "\n",
    "# font parameters\n",
    "rcParams['font.family'] = 'sans-serif'\n",
    "rcParams['font.sans-serif'] = ['Arial']\n",
    "rcParams['font.size'] = 12"
   ]
  },
  {
   "cell_type": "code",
   "execution_count": 2,
   "metadata": {},
   "outputs": [],
   "source": [
    "csv_filepaths = [\n",
    "    #\"results/tem1/TEM-1_alone_Deng_correlations.csv\",\n",
    "    #\"results/tem1/TEM-1_Nitrocefin+water_Deng_correlations.csv\",\n",
    "    #\"results/tem1/TEM-1_alone_MSA_correlations.csv\",\n",
    "    #\"results/tem1/TEM-1_Nitrocefin+water_MSA_correlations.csv\",\n",
    "    \"results/tem1/TEM-1_alone_Deng_correlations_v2.csv\",\n",
    "    \"results/tem1/TEM-1_Nitrocefin+water_Deng_correlations_v2.csv\",\n",
    "    \"results/tem1/TEM-1_alone_MSA_correlations_v2.csv\",\n",
    "    \"results/tem1/TEM-1_Nitrocefin+water_MSA_correlations_v2.csv\",\n",
    "    \"results/tem1/Deng_MSA_correlations.csv\",\n",
    "]\n",
    "\n",
    "df_l = [pd.read_csv(fp) for fp in csv_filepaths]"
   ]
  },
  {
   "cell_type": "code",
   "execution_count": 3,
   "metadata": {},
   "outputs": [
    {
     "data": {
      "text/html": [
       "<div>\n",
       "<style scoped>\n",
       "    .dataframe tbody tr th:only-of-type {\n",
       "        vertical-align: middle;\n",
       "    }\n",
       "\n",
       "    .dataframe tbody tr th {\n",
       "        vertical-align: top;\n",
       "    }\n",
       "\n",
       "    .dataframe thead th {\n",
       "        text-align: right;\n",
       "    }\n",
       "</style>\n",
       "<table border=\"1\" class=\"dataframe\">\n",
       "  <thead>\n",
       "    <tr style=\"text-align: right;\">\n",
       "      <th></th>\n",
       "      <th>residue</th>\n",
       "      <th>position</th>\n",
       "      <th>cor.spearman</th>\n",
       "      <th>cor.kendall</th>\n",
       "      <th>cor.pearson</th>\n",
       "    </tr>\n",
       "  </thead>\n",
       "  <tbody>\n",
       "    <tr>\n",
       "      <th>0</th>\n",
       "      <td>HIS</td>\n",
       "      <td>26</td>\n",
       "      <td>0.414313</td>\n",
       "      <td>0.287250</td>\n",
       "      <td>0.459002</td>\n",
       "    </tr>\n",
       "    <tr>\n",
       "      <th>1</th>\n",
       "      <td>PRO</td>\n",
       "      <td>27</td>\n",
       "      <td>0.678156</td>\n",
       "      <td>0.558588</td>\n",
       "      <td>0.663940</td>\n",
       "    </tr>\n",
       "    <tr>\n",
       "      <th>2</th>\n",
       "      <td>GLU</td>\n",
       "      <td>28</td>\n",
       "      <td>0.648120</td>\n",
       "      <td>0.463158</td>\n",
       "      <td>0.663235</td>\n",
       "    </tr>\n",
       "    <tr>\n",
       "      <th>3</th>\n",
       "      <td>THR</td>\n",
       "      <td>29</td>\n",
       "      <td>0.551205</td>\n",
       "      <td>0.393639</td>\n",
       "      <td>0.658323</td>\n",
       "    </tr>\n",
       "    <tr>\n",
       "      <th>4</th>\n",
       "      <td>LEU</td>\n",
       "      <td>30</td>\n",
       "      <td>0.823845</td>\n",
       "      <td>0.648908</td>\n",
       "      <td>0.763518</td>\n",
       "    </tr>\n",
       "    <tr>\n",
       "      <th>...</th>\n",
       "      <td>...</td>\n",
       "      <td>...</td>\n",
       "      <td>...</td>\n",
       "      <td>...</td>\n",
       "      <td>...</td>\n",
       "    </tr>\n",
       "    <tr>\n",
       "      <th>258</th>\n",
       "      <td>LEU</td>\n",
       "      <td>284</td>\n",
       "      <td>0.640602</td>\n",
       "      <td>0.463158</td>\n",
       "      <td>0.725928</td>\n",
       "    </tr>\n",
       "    <tr>\n",
       "      <th>259</th>\n",
       "      <td>ILE</td>\n",
       "      <td>285</td>\n",
       "      <td>0.775019</td>\n",
       "      <td>0.613765</td>\n",
       "      <td>0.817172</td>\n",
       "    </tr>\n",
       "    <tr>\n",
       "      <th>260</th>\n",
       "      <td>LYS</td>\n",
       "      <td>286</td>\n",
       "      <td>0.730848</td>\n",
       "      <td>0.541650</td>\n",
       "      <td>0.745300</td>\n",
       "    </tr>\n",
       "    <tr>\n",
       "      <th>261</th>\n",
       "      <td>HIS</td>\n",
       "      <td>287</td>\n",
       "      <td>0.454070</td>\n",
       "      <td>0.356840</td>\n",
       "      <td>0.500949</td>\n",
       "    </tr>\n",
       "    <tr>\n",
       "      <th>262</th>\n",
       "      <td>TRP</td>\n",
       "      <td>288</td>\n",
       "      <td>0.021634</td>\n",
       "      <td>0.013136</td>\n",
       "      <td>-0.001697</td>\n",
       "    </tr>\n",
       "  </tbody>\n",
       "</table>\n",
       "<p>263 rows × 5 columns</p>\n",
       "</div>"
      ],
      "text/plain": [
       "    residue  position  cor.spearman  cor.kendall  cor.pearson\n",
       "0       HIS        26      0.414313     0.287250     0.459002\n",
       "1       PRO        27      0.678156     0.558588     0.663940\n",
       "2       GLU        28      0.648120     0.463158     0.663235\n",
       "3       THR        29      0.551205     0.393639     0.658323\n",
       "4       LEU        30      0.823845     0.648908     0.763518\n",
       "..      ...       ...           ...          ...          ...\n",
       "258     LEU       284      0.640602     0.463158     0.725928\n",
       "259     ILE       285      0.775019     0.613765     0.817172\n",
       "260     LYS       286      0.730848     0.541650     0.745300\n",
       "261     HIS       287      0.454070     0.356840     0.500949\n",
       "262     TRP       288      0.021634     0.013136    -0.001697\n",
       "\n",
       "[263 rows x 5 columns]"
      ]
     },
     "execution_count": 3,
     "metadata": {},
     "output_type": "execute_result"
    }
   ],
   "source": [
    "df_l[0]"
   ]
  },
  {
   "cell_type": "code",
   "execution_count": 4,
   "metadata": {},
   "outputs": [
    {
     "data": {
      "image/png": "[encoded data removed]",
      "text/plain": [
       "<Figure size 210x340 with 1 Axes>"
      ]
     },
     "metadata": {},
     "output_type": "display_data"
    },
    {
     "data": {
      "image/png": "[encoded data removed]",
      "text/plain": [
       "<Figure size 210x340 with 1 Axes>"
      ]
     },
     "metadata": {},
     "output_type": "display_data"
    }
   ],
   "source": [
    "# parameters\n",
    "resids_sel = [70,73,132,166,243]\n",
    "ids_ord = [0,4,3,1,2]\n",
    "\n",
    "# get data\n",
    "v = np.stack([(df_l[i][df_l[i]['position'].isin(resids_sel)])['cor.pearson'].values for i in range(len(df_l))])\n",
    "t = np.stack([(df_l[i][df_l[i]['position'].isin(resids_sel)])[['residue', 'position']].values for i in range(len(df_l))])\n",
    "l = np.array([\"{}{}\".format(sp.res3to1[rn],ri) for rn,ri in t[0]])\n",
    "x = np.arange(v.shape[1])\n",
    "\n",
    "# reorder\n",
    "v = v[:,ids_ord]\n",
    "l = l[ids_ord]\n",
    "\n",
    "# plot\n",
    "plt.figure(figsize=(1+0.22*v.shape[1],3.4))\n",
    "plt.bar(x-0.15, v[0], width=0.3, color=colors[1])\n",
    "plt.bar(x+0.15, v[1], width=0.3, color=colors[0])\n",
    "plt.plot([-0.5, len(x)-0.5], [0.0, 0.0], 'k-', alpha=0.3)\n",
    "plt.xticks(x, l, rotation=90)\n",
    "plt.yticks(np.linspace(-1.0, 1.0, 11), np.round(np.linspace(-1.0, 1.0, 11),1))\n",
    "plt.ylim(-0.1, 1.0)\n",
    "plt.xlim(-0.5, len(x)-0.5)\n",
    "plt.title(\"deep sequencing\", fontsize=10)\n",
    "plt.ylabel(\"Pearson correlation\")\n",
    "plt.tight_layout()\n",
    "plt.savefig(\"graphs/tem1_seq_deep_seq.svg\")\n",
    "plt.show()\n",
    "\n",
    "# plot\n",
    "plt.figure(figsize=(1+0.22*v.shape[1],3.4))\n",
    "plt.bar(x-0.15, v[2], width=0.3, color=colors[1])\n",
    "plt.bar(x+0.15, v[3], width=0.3, color=colors[0])\n",
    "plt.plot([-0.5, len(x)-0.5], [0.0, 0.0], 'k-', alpha=0.3)\n",
    "plt.xticks(x, l, rotation=90)\n",
    "plt.yticks(np.linspace(-1.0, 1.0, 11), np.round(np.linspace(-1.0, 1.0, 11),1))\n",
    "plt.ylim(-0.1, 1.0)\n",
    "plt.xlim(-0.5, len(x)-0.5)\n",
    "plt.title(\"multiple sequence alignment\", fontsize=10)\n",
    "plt.ylabel(\"Pearson correlation\")\n",
    "plt.tight_layout()\n",
    "plt.savefig(\"graphs/tem1_seq_msa.svg\")\n",
    "plt.show()"
   ]
  },
  {
   "cell_type": "code",
   "execution_count": 5,
   "metadata": {},
   "outputs": [
    {
     "data": {
      "image/png": "[encoded data removed]",
      "text/plain": [
       "<Figure size 210x250 with 1 Axes>"
      ]
     },
     "metadata": {},
     "output_type": "display_data"
    }
   ],
   "source": [
    "# plot\n",
    "plt.figure(figsize=(1+0.22*v.shape[1],2.5))\n",
    "plt.bar(x-0.15, v[4], width=0.3, color=colors[1])\n",
    "plt.bar(x+0.15, v[3], width=0.3, color=colors[0])\n",
    "plt.xticks(x, l, rotation=90)\n",
    "plt.yticks(np.linspace(-1.0, 1.0, 5), np.linspace(-1.0, 1.0, 5))\n",
    "plt.ylim(-1.0, 1.0)\n",
    "plt.xlim(-0.5, len(x)-0.5)\n",
    "plt.title(\"multiple sequence alignment\", fontsize=10)\n",
    "plt.ylabel(\"Spearman correlation\")\n",
    "plt.tight_layout()\n",
    "plt.show()"
   ]
  },
  {
   "cell_type": "code",
   "execution_count": 6,
   "metadata": {},
   "outputs": [
    {
     "name": "stdout",
     "output_type": "stream",
     "text": [
      "[0.50601497 0.50911383 0.51305873 0.52059215 0.52106942]\n"
     ]
    },
    {
     "data": {
      "image/png": "[encoded data removed]",
      "text/plain": [
       "<Figure size 600x400 with 1 Axes>"
      ]
     },
     "metadata": {},
     "output_type": "display_data"
    }
   ],
   "source": [
    "# parameters\n",
    "resids_sel = [70,73,132,166,243]\n",
    "\n",
    "# get data\n",
    "v = np.stack([df_l[i]['cor.pearson'].values for i in range(len(df_l))])\n",
    "print(np.mean(v, axis=1))\n",
    "t = np.stack([df_l[i][['residue', 'position']].values for i in range(len(df_l))])\n",
    "l = np.array([\"{}{}\".format(sp.res3to1[rn],ri) for rn,ri in t[0]])\n",
    "x = np.arange(v.shape[1])\n",
    "\n",
    "ids_resids_sel = np.where(t[0,:,1].astype(int).reshape(-1,1) == np.array(resids_sel).reshape(1,-1))[0]\n",
    "\n",
    "#dv = v[0] - v[1]\n",
    "#m = (np.abs(dv) > 1e-2)\n",
    "#v = v[:,m]\n",
    "#l = l[m]\n",
    "#x = np.arange(v.shape[1])\n",
    "\n",
    "#ids_resids_sel = np.concatenate([ids_resids_sel, np.where(np.abs(dv) > 0.2)[0]])\n",
    "\n",
    "# plot\n",
    "plt.figure(figsize=(6,4))\n",
    "plt.plot([-0.5, len(x)-0.5], [0.0, 0.0], 'k-', alpha=0.3)\n",
    "#for i in ids_resids_sel:\n",
    "    #plt.plot([x[i],x[i]], [-1.0,1.0], 'k-', alpha=0.3)\n",
    "#plt.plot(x, v[0], '-', ms=4.0, color=colors[1])\n",
    "#plt.plot(x, v[1], '-', ms=4.0, color=colors[0])\n",
    "plt.bar(x, v[0], width=1.0, color=colors[1])\n",
    "plt.bar(x, v[1], width=1.0, color=colors[0])\n",
    "#plt.step(x, v[0], where='mid', color=colors[1], label=\"without context\")\n",
    "#plt.step(x, v[1], where='mid', color=colors[0], label=\"with context\")\n",
    "\n",
    "#dv = v[0] - v[1]\n",
    "#for i in np.where(dv > 0.0)[0]:\n",
    "#   plt.plot([x[i], x[i]], [v[0][i], v[1][i]], color=colors[1])\n",
    "#for i in np.where(-dv > 0.0)[0]:\n",
    "#   plt.plot([x[i], x[i]], [v[0][i], v[1][i]], color=colors[0])\n",
    "\n",
    "#plt.xticks(x[ids_resids_sel], l[ids_resids_sel], rotation=90)\n",
    "#plt.xticks(x, l, rotation=90, fontsize=10)\n",
    "plt.yticks(np.linspace(-1.0, 1.0, 11), np.round(np.linspace(-1.0, 1.0, 11),1))\n",
    "plt.ylim(-0.2, 1.0)\n",
    "plt.xlim(-0.5, len(x)-0.5)\n",
    "#plt.legend(loc='best')\n",
    "plt.title(\"deep sequencing\", fontsize=10)\n",
    "plt.ylabel(\"Pearson correlation\")\n",
    "plt.tight_layout()\n",
    "#plt.savefig(\"graphs/tem1_seq_deep_seq.svg\")\n",
    "plt.show()"
   ]
  },
  {
   "cell_type": "code",
   "execution_count": 7,
   "metadata": {},
   "outputs": [
    {
     "data": {
      "image/png": "[encoded data removed]",
      "text/plain": [
       "<Figure size 280x300 with 1 Axes>"
      ]
     },
     "metadata": {},
     "output_type": "display_data"
    },
    {
     "data": {
      "text/plain": [
       "(0.5060149749182881,\n",
       " 0.509113830311608,\n",
       " 0.21281812706157024,\n",
       " 0.2078208026198781)"
      ]
     },
     "execution_count": 7,
     "metadata": {},
     "output_type": "execute_result"
    }
   ],
   "source": [
    "plt.figure(figsize=(2.8,3))\n",
    "plt.hist([v[0],v[1]], range=(-1.0,1.0), bins=40, histtype='step', color=[colors[1],colors[0]], label=[\"without context\", \"with context\"])\n",
    "plt.plot([0.0, 0.0], [0.0, 35.0], 'k--', alpha=0.3)\n",
    "plt.xlim(-1.0, 1.0)\n",
    "plt.ylim(0.0, 35.0)\n",
    "plt.xticks([-1.0, -0.5, 0.0, 0.5, 1.0])\n",
    "plt.legend(loc='upper left', fontsize=10, labelspacing=0.1)\n",
    "plt.ylabel('number of residue')\n",
    "plt.xlabel('Pearson correlation')\n",
    "#plt.title(\"deep sequencing\", fontsize=12)\n",
    "plt.tight_layout()\n",
    "plt.savefig(\"graphs/deep_seq_correlation_distribution.svg\")\n",
    "plt.show()\n",
    "\n",
    "np.mean(v[0]), np.mean(v[1]), np.std(v[0]), np.std(v[1])"
   ]
  },
  {
   "cell_type": "code",
   "execution_count": 8,
   "metadata": {},
   "outputs": [
    {
     "data": {
      "image/png": "[encoded data removed]",
      "text/plain": [
       "<Figure size 270x300 with 1 Axes>"
      ]
     },
     "metadata": {},
     "output_type": "display_data"
    }
   ],
   "source": [
    "pwc = pt.load(\"results/tem1/prediction_with_context.pt\")\n",
    "d = pwc['d']\n",
    "ids_d = np.argsort(d)\n",
    "\n",
    "ds = d[ids_d]\n",
    "dvs = v[1][ids_d]-v[0][ids_d]\n",
    "m0 = (dvs >= 0.0)\n",
    "m1 = (dvs < 0.0)\n",
    "\n",
    "# plot\n",
    "plt.figure(figsize=(2.7,3))\n",
    "for i in range(dvs.shape[0]):\n",
    "    if m0[i]:\n",
    "        plt.plot([ds[i],ds[i]], [0.0,dvs[i]], color=colors[0])\n",
    "    else:\n",
    "        plt.plot([ds[i],ds[i]], [0.0,dvs[i]], color=colors[1])\n",
    "plt.plot(ds[m0], dvs[m0], '.', color=colors[0], label=\"increase\")\n",
    "plt.plot(ds[m1], dvs[m1], '.', color=colors[1], label=\"decrease\")\n",
    "plt.plot([0.0, np.max(d)], [0.0,0.0], 'k-', alpha=0.3)\n",
    "#plt.legend(loc='best', fontsize=10, labelspacing=0.1)\n",
    "plt.xticks(np.arange(8)[::2]+3, np.arange(8)[::2]+3)\n",
    "plt.xlim(3.0, 10.0)\n",
    "plt.ylim(-0.6, 0.6)\n",
    "plt.xlabel('distance to substrate [Å]')\n",
    "plt.ylabel('correlation variation')\n",
    "plt.tight_layout()\n",
    "plt.savefig(\"graphs/deep_seq_correlation_variation_distance.svg\")\n",
    "plt.show()"
   ]
  },
  {
   "cell_type": "code",
   "execution_count": null,
   "metadata": {},
   "outputs": [],
   "source": []
  },
  {
   "cell_type": "code",
   "execution_count": null,
   "metadata": {},
   "outputs": [],
   "source": [
    "pd.read_csv(\"results/tem1/deng_exp.csv\", sep='\\t', index_col=0)[sp.std_resnames[:20]]"
   ]
  },
  {
   "cell_type": "code",
   "execution_count": null,
   "metadata": {},
   "outputs": [],
   "source": [
    "dg = pd.read_csv(\"results/tem1/deng_exp.csv\", sep='\\t', index_col=0)[sp.std_resnames[:20]].values\n",
    "pwoc = pt.load(\"results/tem1/prediction_without_context.pt\")\n",
    "pwc = pt.load(\"results/tem1/prediction_with_context.pt\")\n",
    "\n",
    "p0 = pt.softmax(pt.logit(pwoc['p']), dim=1)\n",
    "dg0 = -pt.log(p0 / pt.max(p0 * pwoc['y'], dim=1)[0].unsqueeze(1))\n",
    "\n",
    "p1 = pt.softmax(pt.logit(pwc['p']), dim=1)\n",
    "dg1 = -pt.log(p1 / pt.max(p1 * pwc['y'], dim=1)[0].unsqueeze(1))\n",
    "\n",
    "pcc0 = np.array([np.corrcoef(dg0[i].numpy(), dg[i])[0][1] for i in range(dg0.shape[0])])\n",
    "pcc1 = np.array([np.corrcoef(dg1[i].numpy(), dg[i])[0][1] for i in range(dg1.shape[0])])\n",
    "\n",
    "rdg = np.argsort(np.argsort(dg, axis=1), axis=1)\n",
    "\n",
    "rdg0 = pt.argsort(pt.argsort(dg0, dim=1), dim=1)\n",
    "rdg1 = pt.argsort(pt.argsort(dg1, dim=1), dim=1)\n",
    "\n",
    "#pdg = pt.softmax(pt.exp(-pt.from_numpy(dg)), dim=1)\n",
    "pdg = pt.softmax(pt.pow(10, -pt.from_numpy(dg)), dim=1)"
   ]
  },
  {
   "cell_type": "code",
   "execution_count": null,
   "metadata": {},
   "outputs": [],
   "source": [
    "rt.recovery_rate(pwoc['y'], pwoc['p']), rt.recovery_rate(pwc['y'], pwc['p'])"
   ]
  },
  {
   "cell_type": "code",
   "execution_count": null,
   "metadata": {},
   "outputs": [],
   "source": [
    "np.mean(pcc0), np.mean(pcc1)"
   ]
  },
  {
   "cell_type": "code",
   "execution_count": null,
   "metadata": {},
   "outputs": [],
   "source": [
    "plt.figure()\n",
    "plt.plot(pcc0)\n",
    "plt.plot(pcc1)\n",
    "plt.ylim(0.0, 1.0)\n",
    "plt.show()"
   ]
  },
  {
   "cell_type": "code",
   "execution_count": null,
   "metadata": {},
   "outputs": [],
   "source": [
    "np.std(pcc0), np.std(pcc1)"
   ]
  },
  {
   "cell_type": "code",
   "execution_count": null,
   "metadata": {},
   "outputs": [],
   "source": [
    "plt.figure(figsize=(12,4))\n",
    "plt.imshow(np.abs(dg - dg0.numpy()).T)\n",
    "plt.colorbar()\n",
    "plt.show()"
   ]
  },
  {
   "cell_type": "code",
   "execution_count": null,
   "metadata": {},
   "outputs": [],
   "source": []
  },
  {
   "cell_type": "code",
   "execution_count": null,
   "metadata": {},
   "outputs": [],
   "source": []
  },
  {
   "cell_type": "code",
   "execution_count": null,
   "metadata": {},
   "outputs": [],
   "source": [
    "drdg0 = np.abs(rdg - rdg0.numpy())\n",
    "\n",
    "plt.figure(figsize=(16,4))\n",
    "plt.imshow(drdg0.T, cmap='BuGn')\n",
    "plt.colorbar()\n",
    "plt.show()"
   ]
  },
  {
   "cell_type": "code",
   "execution_count": null,
   "metadata": {},
   "outputs": [],
   "source": [
    "s = np.zeros(dg.shape)\n",
    "for i in range(s.shape[0]):\n",
    "    ids = np.argsort(dg, axis=1)[i]\n",
    "    ids0 = np.argsort(dg0.numpy(), axis=1)[i]\n",
    "    v = dg[i][ids] - np.min(dg[i])\n",
    "    v0 = dg[i][ids0] - np.min(dg[i])\n",
    "    s[i] = np.abs(v - v0)"
   ]
  },
  {
   "cell_type": "code",
   "execution_count": null,
   "metadata": {},
   "outputs": [],
   "source": [
    "#i = 177\n",
    "i = 190\n",
    "#ids = np.argsort(dg[i])\n",
    "ids = np.arange(dg[i].shape[0])\n",
    "\n",
    "#ddg = dg[i].reshape(-1,1) - dg[i].reshape(1,-1)\n",
    "#ddg0 = (dg0[i].reshape(-1,1) - dg0[i].reshape(1,-1)).numpy()\n",
    "#s = np.mean(np.abs(ddg0 - ddg), axis=1)\n",
    "\n",
    "plt.figure(figsize=(4,3))\n",
    "plt.plot(dg[i])\n",
    "plt.plot(dg0[i].numpy())\n",
    "#plt.plot(s)\n",
    "plt.show()\n",
    "\n",
    "plt.figure(figsize=(4,3))\n",
    "plt.plot(s[i], '.-')\n",
    "plt.ylim(0.0, np.max(s[i]))\n",
    "plt.show()\n",
    "\n",
    "np.corrcoef(rdg0[i].numpy(), rdg[i])[0][1], pcc0[i], np.mean(s[i])"
   ]
  },
  {
   "cell_type": "code",
   "execution_count": null,
   "metadata": {},
   "outputs": [],
   "source": [
    "np.argsort(dg[i]), np.argsort(dg0[i].numpy())"
   ]
  },
  {
   "cell_type": "code",
   "execution_count": null,
   "metadata": {},
   "outputs": [],
   "source": [
    "ids = np.argsort(dg, axis=1)[i]\n",
    "ids0 = np.argsort(dg0.numpy(), axis=1)[i]\n",
    "v = dg[i][ids] - np.min(dg[i])\n",
    "v0 = dg[i][ids0] - np.min(dg[i])\n",
    "\n",
    "plt.figure(figsize=(4,3))\n",
    "plt.plot(v)\n",
    "plt.plot(v0)\n",
    "plt.show()"
   ]
  },
  {
   "cell_type": "code",
   "execution_count": null,
   "metadata": {},
   "outputs": [],
   "source": [
    "dg[i][ids]"
   ]
  },
  {
   "cell_type": "code",
   "execution_count": null,
   "metadata": {},
   "outputs": [],
   "source": []
  },
  {
   "cell_type": "code",
   "execution_count": null,
   "metadata": {},
   "outputs": [],
   "source": [
    "plt.figure()\n",
    "plt.imshow(dg0.T.numpy())\n",
    "plt.colorbar()\n",
    "plt.show()"
   ]
  },
  {
   "cell_type": "code",
   "execution_count": null,
   "metadata": {},
   "outputs": [],
   "source": [
    "plt.figure()\n",
    "plt.imshow(dg.T)\n",
    "plt.colorbar()\n",
    "plt.show()"
   ]
  },
  {
   "cell_type": "code",
   "execution_count": null,
   "metadata": {},
   "outputs": [],
   "source": []
  },
  {
   "cell_type": "code",
   "execution_count": null,
   "metadata": {},
   "outputs": [],
   "source": []
  },
  {
   "cell_type": "code",
   "execution_count": null,
   "metadata": {},
   "outputs": [],
   "source": []
  }
 ],
 "metadata": {
  "kernelspec": {
   "display_name": "carbonara",
   "language": "python",
   "name": "python3"
  },
  "language_info": {
   "codemirror_mode": {
    "name": "ipython",
    "version": 3
   },
   "file_extension": ".py",
   "mimetype": "text/x-python",
   "name": "python",
   "nbconvert_exporter": "python",
   "pygments_lexer": "ipython3",
   "version": "3.9.16"
  },
  "orig_nbformat": 4
 },
 "nbformat": 4,
 "nbformat_minor": 2
}
