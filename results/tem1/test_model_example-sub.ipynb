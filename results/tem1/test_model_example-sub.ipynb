{
 "cells": [
  {
   "cell_type": "code",
   "execution_count": 1,
   "id": "87ee322a-3011-4a1b-bd30-34da1dcae861",
   "metadata": {},
   "outputs": [],
   "source": [
    "import os\n",
    "import json\n",
    "import numpy as np\n",
    "import torch as pt\n",
    "import pandas as pd\n",
    "import matplotlib.pyplot as plt\n",
    "from tqdm import tqdm\n",
    "from glob import glob\n",
    "from matplotlib import rcParams\n",
    "\n",
    "import src as sp\n",
    "import runtime as rt\n",
    "from theme import colors\n",
    "\n",
    "# font parameters\n",
    "rcParams['font.family'] = 'sans-serif'\n",
    "rcParams['font.sans-serif'] = ['Arial']\n",
    "rcParams['font.size'] = 12"
   ]
  },
  {
   "cell_type": "code",
   "execution_count": 2,
   "id": "494b3a37",
   "metadata": {},
   "outputs": [],
   "source": [
    "# reproducibility\n",
    "#np.random.seed(0)\n",
    "#pt.manual_seed(0)"
   ]
  },
  {
   "cell_type": "code",
   "execution_count": 3,
   "id": "c01d8e41",
   "metadata": {},
   "outputs": [],
   "source": [
    "# parameters\n",
    "device = pt.device(\"cuda\")\n",
    "\n",
    "# model parameters\n",
    "# r6\n",
    "save_path = \"model/save/s_v6_4_2022-09-16_11-51\"  # virtual Cb & partial\n",
    "#save_path = \"model/save/s_v6_5_2022-09-16_11-52\"  # virtual Cb, partial & noise\n",
    "\n",
    "# r7\n",
    "#save_path = \"model/save/s_v7_0_2023-04-25\"  # partial chain\n",
    "#save_path = \"model/save/s_v7_1_2023-04-25\"  # partial secondary structure\n",
    "#save_path = \"model/save/s_v7_2_2023-04-25\"  # partial chain high coverage\n",
    "\n",
    "# create models\n",
    "model = rt.SequenceModel(save_path, \"model.pt\", device=device)\n",
    "\n",
    "# create confidence mapping\n",
    "conf = rt.ConfidenceMap(\"results/{}_cdf.csv\".format(os.path.basename(save_path)))"
   ]
  },
  {
   "cell_type": "code",
   "execution_count": 4,
   "id": "b65b7ff5",
   "metadata": {},
   "outputs": [
    {
     "data": {
      "text/plain": [
       "1"
      ]
     },
     "execution_count": 4,
     "metadata": {},
     "output_type": "execute_result"
    }
   ],
   "source": [
    "# parameters\n",
    "#pdb_filepaths = glob(\"pdbs/1bt5_nitro_6hr6_wat.pdb\")  # 0.8 / 1.0 / 89.6 / 51.6\n",
    "#pdb_filepaths = glob(\"pdbs/TEM-1_nitro_pose-1_wat.pdb\")  # 0.4 / 1.0 / 80.7 / 26.8\n",
    "pdb_filepaths = glob(\"pdbs/TEM-1_nitro_pose-2_wat.pdb\")  # 0.4 / 1.0 / 86.7 / 40.4\n",
    "#pdb_filepaths = glob(\"pdbs/TEM-1_nitro_pose-3_wat.pdb\")  # 0.4 / 1.0 / 84.3 / 38.2\n",
    "#pdb_filepaths = glob(\"pdbs/TEM-1_nitro_pose-4_wat.pdb\")  # 0.4 / 1.0 / 81.9 / 36.3\n",
    "#pdb_filepaths = glob(\"pdbs/TEM-1_nitro_pose-5_wat.pdb\")  # 0.4 / 1.0 / 80.0 / 28.3\n",
    "#pdb_filepaths = glob(\"pdbs/TEM-1_nitro_pose-5_wat.pdb\")  # 0.4 / 1.0 / 80.0 / 28.3\n",
    "\n",
    "# debug \n",
    "len(pdb_filepaths)"
   ]
  },
  {
   "cell_type": "code",
   "execution_count": 5,
   "id": "50ea3a29",
   "metadata": {},
   "outputs": [],
   "source": [
    "def scoring(p, y):\n",
    "    # compute confidence probability\n",
    "    c = pt.from_numpy(conf(p.numpy()))\n",
    "\n",
    "    # get sequence\n",
    "    seq_ref = rt.max_pred_to_seq(y)\n",
    "    seq = rt.max_pred_to_seq(c)\n",
    "\n",
    "    # assess predictions\n",
    "    return {\n",
    "        \"size\": p.shape[0],\n",
    "        \"recovery_rate\": rt.recovery_rate(y, c).numpy().item(),\n",
    "        \"sequence_similarity\": rt.sequence_similarity(seq_ref, seq),\n",
    "        \"maximum_recovery_rate\": rt.maximum_recovery_rate(y, p).numpy().item(),\n",
    "        \"average_multiplicity\": rt.average_multiplicity(p).numpy().item(),\n",
    "        \"average_maximum_confidence\": rt.average_maximum_confidence(p).numpy().item(),\n",
    "        \"average_maximum_score\": rt.average_maximum_confidence(c).numpy().item(),\n",
    "    }"
   ]
  },
  {
   "cell_type": "code",
   "execution_count": 6,
   "id": "d1c7de01",
   "metadata": {},
   "outputs": [],
   "source": [
    "# parameters\n",
    "d_thr = 5\n",
    "\n",
    "# load structure\n",
    "#key, structure = dataset[0]\n",
    "structure = rt.load_structure(pdb_filepaths[0], rm_wat=False)\n",
    "key = pdb_filepaths[0]\n",
    "pdbid = os.path.basename(key).split('.')[0]\n",
    "structure['chain_name'] = np.array([str(cid) for cid in structure['cid']])\n",
    "\n",
    "# molecule type and discard unclassified\n",
    "subunits = sp.split_by_chain(structure)\n",
    "sub_types = rt.subunits_type(subunits)\n",
    "#subunits = {cid:subunits[cid] for cid in [st[1] for st in sub_types if st[0] != 'na']}\n",
    "#subunits = {cid:subunits[cid] for cid in [st[1] for st in sub_types if st[0] != 'ligand']}\n",
    "structure = sp.concatenate_chains(subunits)\n",
    "\n",
    "# find proteins subunits and residue to chain mapping\n",
    "cids_prot = [st[1] for st in sub_types if st[0] == 'protein']\n",
    "\n",
    "# apply model on full structure\n",
    "struct_bb, p, y = model(structure)\n",
    "\n",
    "# prediction split by chain\n",
    "rcids = np.array([res['chain_name'][0] for res in sp.split_by_residue(structure)])\n",
    "pr = {cid:p[rcids==cid] for cid in cids_prot}\n",
    "yr = {cid:y[rcids==cid] for cid in cids_prot}\n",
    "\n",
    "# apply model with binder subunits known\n",
    "pc, yc = {}, {}\n",
    "for cid in cids_prot:\n",
    "    m_known = (structure['chain_name'] != cid)\n",
    "    _, pi, yi = model(structure, m_known=m_known)\n",
    "    pi = pi[rcids==cid]\n",
    "    yi = yi[rcids==cid]\n",
    "    pi, yi = rt.aa_only(pi, yi)\n",
    "    pc[cid] = pi\n",
    "    yc[cid] = yi\n",
    "\n",
    "# apply model to subunits alone\n",
    "cids_prot = [st[1] for st in sub_types if st[0] == 'protein']\n",
    "ps, ys = {}, {}\n",
    "for cid in cids_prot:\n",
    "    subunit = subunits[cid]\n",
    "    subunit['chain_name'] = np.array([cid]*subunit['xyz'].shape[0])\n",
    "    if len(np.unique(subunit['resid'])) >= model.module.config_data['min_num_res']:\n",
    "        _, pi, yi = model(subunit)\n",
    "        pi, yi = rt.aa_only(pi, yi)\n",
    "        ps[cid] = pi\n",
    "        ys[cid] = yi\n",
    "        \n",
    "# check that labels match perfectly\n",
    "for cid in ys:\n",
    "    assert pt.sum(pt.abs(yc[cid] - ys[cid])).long().item() == 0\n",
    "\n",
    "# contacts\n",
    "contacts = sp.extract_all_contacts(subunits, d_thr, device=device)\n",
    "\n",
    "# analyse interface recovery\n",
    "results = []\n",
    "interfaces = {}\n",
    "for cid in cids_prot:\n",
    "    # checks\n",
    "    if (cid in contacts) and (cid in ys):\n",
    "        for cidb in list(contacts[cid]):\n",
    "            # atom-atom contacts indices\n",
    "            ctc_ids = contacts[cid][cidb]['ids'][:,0]\n",
    "\n",
    "            # convert to residue-residue contacts indices\n",
    "            _, ids = pt.unique(pt.from_numpy(subunits[cid]['resid']), return_inverse=True)\n",
    "            ctc_rids = pt.unique(ids[ctc_ids])\n",
    "\n",
    "            ids_rctc = np.argmax((subunits[cid]['resid'].reshape(-1,1) == np.unique(subunits[cid]['resid'][np.unique(ctc_ids)])).astype(float), axis=0)\n",
    "            rctc_seq = np.array([sp.res3to1[rn] for rn in subunits[cid]['resname'][ids_rctc]])\n",
    "            \n",
    "            # binder type\n",
    "            btype = [st[0] for st in sub_types if st[1] == cidb][0]\n",
    "\n",
    "            # scoring with context\n",
    "            results.append({'key': key, 'context_level': 2, 'chain_id_scafold': cid,  'chain_id_binder': cidb, 'num_subunits': len(cids_prot), 'binder_type': btype})\n",
    "            results[-1].update(scoring(pc[cid][ctc_rids], yc[cid][ctc_rids]))\n",
    "            \n",
    "            # scoring with context\n",
    "            results.append({'key': key, 'context_level': 1, 'chain_id_scafold': cid,  'chain_id_binder': cidb, 'num_subunits': len(cids_prot), 'binder_type': btype})\n",
    "            results[-1].update(scoring(pr[cid][ctc_rids], yr[cid][ctc_rids]))\n",
    "            \n",
    "            # scoring without context\n",
    "            results.append({'key': key, 'context_level': 0, 'chain_id_scafold': cid,  'chain_id_binder': cidb, 'num_subunits': len(cids_prot), 'binder_type': btype})\n",
    "            results[-1].update(scoring(ps[cid][ctc_rids], ys[cid][ctc_rids]))\n",
    "\n",
    "            y0 = pt.max(ps[cid][ctc_rids] * ys[cid][ctc_rids], dim=1)[0].numpy()\n",
    "            y1 = pt.max(pr[cid][ctc_rids] * yr[cid][ctc_rids], dim=1)[0].numpy()\n",
    "            p0 = pt.max(ps[cid][ctc_rids], dim=1)[0].numpy()\n",
    "            p1 = pt.max(pr[cid][ctc_rids], dim=1)[0].numpy()\n",
    "            c0 = pt.max(pt.from_numpy(conf(ps[cid][ctc_rids].numpy())) * ys[cid][ctc_rids], dim=1)[0].numpy()\n",
    "            c1 = pt.max(pt.from_numpy(conf(pr[cid][ctc_rids].numpy())) * yr[cid][ctc_rids], dim=1)[0].numpy()\n",
    "            n0 = pt.where(pt.argsort(-ps[cid][ctc_rids], dim=1) == pt.argmax(ys[cid][ctc_rids], dim=1).unsqueeze(1))[1].numpy()\n",
    "            n1 = pt.where(pt.argsort(-pr[cid][ctc_rids], dim=1) == pt.argmax(yr[cid][ctc_rids], dim=1).unsqueeze(1))[1].numpy()\n",
    "\n",
    "            x = np.arange(y0.shape[0])\n",
    "            if btype in interfaces:\n",
    "                interfaces[btype][0] = np.concatenate([interfaces[btype][0], ctc_rids])\n",
    "                interfaces[btype][1] = np.concatenate([interfaces[btype][1], y0])\n",
    "                interfaces[btype][2] = np.concatenate([interfaces[btype][2], y1])\n",
    "                interfaces[btype][3] = np.concatenate([interfaces[btype][3], p0])\n",
    "                interfaces[btype][4] = np.concatenate([interfaces[btype][4], p1])\n",
    "                interfaces[btype][5] = np.concatenate([interfaces[btype][5], c0])\n",
    "                interfaces[btype][6] = np.concatenate([interfaces[btype][6], c1])\n",
    "                interfaces[btype][7] = np.concatenate([interfaces[btype][7], n0])\n",
    "                interfaces[btype][8] = np.concatenate([interfaces[btype][8], n1])\n",
    "                interfaces[btype][9] = np.concatenate([interfaces[btype][9], rctc_seq])\n",
    "            else:\n",
    "                interfaces[btype] = [ctc_rids.numpy(), y0, y1, p0, p1, c0, c1, n0, n1, rctc_seq]"
   ]
  },
  {
   "cell_type": "code",
   "execution_count": 7,
   "id": "ca641ac2",
   "metadata": {},
   "outputs": [],
   "source": [
    "subunits = sp.split_by_chain(struct_bb)\n",
    "xyz_sub = subunits['0']['xyz']\n",
    "xyz_cb = subunits['1']['xyz'][subunits['1']['name'] == 'CB']\n",
    "d_sub = np.min(np.linalg.norm(np.expand_dims(xyz_sub, 1) - np.expand_dims(xyz_cb, 0), axis=2), axis=0)"
   ]
  },
  {
   "cell_type": "code",
   "execution_count": 8,
   "id": "ff87eff5",
   "metadata": {},
   "outputs": [],
   "source": [
    "# store predictions\n",
    "k = list(ps)[0]\n",
    "pt.save({'p': ps[k], 'c': pt.from_numpy(conf(ps[k].numpy())), 'y': ys[k]}, \"results/tem1/prediction_without_context.pt\")\n",
    "pt.save({'p': pc[k], 'c': pt.from_numpy(conf(pc[k].numpy())), 'y': yc[k], 'd': d_sub}, \"results/tem1/prediction_with_context.pt\")"
   ]
  },
  {
   "cell_type": "code",
   "execution_count": 9,
   "id": "fa13f398",
   "metadata": {},
   "outputs": [],
   "source": [
    "# sorted with/without context confidence for fernando\n",
    "ids_sorted = np.argsort([sp.res3to1[c] for c in sp.std_resnames[:20]])\n",
    "\n",
    "cs = conf(ps[k].numpy())\n",
    "cs = cs / np.sum(cs, axis=1).reshape(-1,1)\n",
    "\n",
    "cr = conf(pr[k].numpy())\n",
    "cr = cr / np.sum(cr, axis=1).reshape(-1,1)\n",
    "\n",
    "dfs = pd.DataFrame(cs.round(6)[:,ids_sorted], columns=sp.std_resnames[:20][ids_sorted], index=np.arange(ps[k].shape[0])+1)\n",
    "dfr = pd.DataFrame(cr.round(6)[:,ids_sorted], columns=sp.std_resnames[:20][ids_sorted], index=np.arange(pr[k].shape[0])+1)\n",
    "\n",
    "dfs.to_csv(\"results/tem1/tem1_without_context.csv\")\n",
    "dfr.to_csv(\"results/tem1/tem1_with_context.csv\")"
   ]
  },
  {
   "cell_type": "code",
   "execution_count": 36,
   "id": "47af740a",
   "metadata": {},
   "outputs": [
    {
     "data": {
      "image/png": "[encoded data removed]",
      "text/plain": [
       "<Figure size 210x340 with 1 Axes>"
      ]
     },
     "metadata": {},
     "output_type": "display_data"
    },
    {
     "data": {
      "text/plain": [
       "{'recovery_rate_without_context': 0.2,\n",
       " 'recovery_rate_with_context': 0.4,\n",
       " 'maximum_recovery_rate_without_context': 0.6,\n",
       " 'maximum_recovery_rate_with_context': 1.0}"
      ]
     },
     "execution_count": 36,
     "metadata": {},
     "output_type": "execute_result"
    }
   ],
   "source": [
    "# parameters\n",
    "ws = 0.3\n",
    "itype = \"na\"\n",
    "resids_sel = [45, 48, 107, 141, 218]\n",
    "\n",
    "# extract data\n",
    "v, y0, y1, p0, p1, c0, c1, n0, n1, rn = interfaces[itype]\n",
    "\n",
    "# select residues\n",
    "idsu = np.unique(v, return_index=True)[1]\n",
    "m = np.isin(v[idsu]+1, resids_sel)\n",
    "v = v[idsu][m]\n",
    "y0 = y0[idsu][m]\n",
    "y1 = y1[idsu][m]\n",
    "p0 = p0[idsu][m]\n",
    "p1 = p1[idsu][m]\n",
    "c0 = c0[idsu][m]\n",
    "c1 = c1[idsu][m]\n",
    "n0 = n0[idsu][m]\n",
    "n1 = n1[idsu][m]\n",
    "rn = rn[idsu][m]\n",
    "x = np.arange(v.shape[0])\n",
    "\n",
    "#m0 = ((y0 < 0.5) & (y1 > 0.5)).astype(float)\n",
    "#m1 = (y0 < y1).astype(float)\n",
    "#ids = np.argsort(2*y1-p1 + (y1-y0) + (p1 == y1).astype(float))\n",
    "#ids = np.argsort(np.maximum(y0, y1))\n",
    "ids = [0, 4, 3, 1, 2]\n",
    "v = v[ids]\n",
    "rn = rn[ids]\n",
    "y0 = y0[ids]\n",
    "y1 = y1[ids]\n",
    "p0 = p0[ids]\n",
    "p1 = p1[ids]\n",
    "n0 = n0[ids]\n",
    "n1 = n1[ids]\n",
    "\n",
    "# plot\n",
    "#plt.figure(figsize=(10,2.4))\n",
    "#plt.figure(figsize=(3,2.4))\n",
    "#plt.figure(figsize=(1+0.3*v.shape[0],2.4))\n",
    "#plt.figure(figsize=(1+0.3*v.shape[0],3.4))\n",
    "plt.figure(figsize=(1+0.22*v.shape[0],3.4))\n",
    "#plt.bar(x-0.5*ws, p0, width=ws, color=colors[3], alpha=0.5)\n",
    "plt.bar(x-0.5*ws, y0, width=ws, color=colors[1], label=\"without context\")\n",
    "#plt.bar(x+0.5*ws, p1, width=ws, color=colors[3], alpha=0.5)\n",
    "plt.bar(x+0.5*ws, y1, width=ws, color=colors[0], label=\"with context\")\n",
    "#for i in range(p0.shape[0]):\n",
    "#    plt.plot([x[i]-ws*0.9, x[i]-0.1*ws], [p0[i], p0[i]], 'k-', alpha=0.5)\n",
    "#    plt.plot([x[i]+ws*0.1, x[i]+0.9*ws], [p1[i], p1[i]], 'k-', alpha=0.5)\n",
    "#plt.plot([-0.5, len(x)-0.5], [0.5, 0.5], 'k-', alpha=0.5)\n",
    "#plt.xticks(x, v+1)\n",
    "plt.xticks(x, [n+str(i) for n,i in zip(rn,v+1)], fontsize=12, weight='normal', rotation=90)\n",
    "plt.yticks(np.linspace(0.5, 1.0, 6), np.linspace(0.5, 1.0, 6))\n",
    "plt.xlim(-0.5, len(x)-0.5)\n",
    "plt.ylim(0.5, 1.0)\n",
    "plt.legend(loc='best', prop={'size': 10}, labelspacing=0.1)\n",
    "plt.xlabel('interface residue index')\n",
    "plt.ylabel('prediction confidence')\n",
    "plt.tight_layout()\n",
    "plt.savefig(\"graphs/{}_{}_interface_prediction.svg\".format(pdbid, itype))\n",
    "plt.show()\n",
    "\n",
    "# save statistics\n",
    "summary = {\n",
    "    'recovery_rate_without_context': np.mean(p0 == y0),\n",
    "    'recovery_rate_with_context': np.mean(p1 == y1),\n",
    "    'maximum_recovery_rate_without_context': np.mean(y0 >= 0.5),\n",
    "    'maximum_recovery_rate_with_context': np.mean(y1 >= 0.5),\n",
    "}\n",
    "json.dump(summary, open(\"results/{}_{}_interface_prediction.json\".format(pdbid, itype), 'w'))\n",
    "summary"
   ]
  },
  {
   "cell_type": "code",
   "execution_count": 45,
   "id": "5ef4c640",
   "metadata": {},
   "outputs": [
    {
     "data": {
      "text/plain": [
       "('TEM-1_nitro_pose-2_wat', 'na')"
      ]
     },
     "execution_count": 45,
     "metadata": {},
     "output_type": "execute_result"
    }
   ],
   "source": [
    "pdbid, itype"
   ]
  },
  {
   "cell_type": "code",
   "execution_count": 47,
   "id": "5f96e1ee",
   "metadata": {},
   "outputs": [
    {
     "data": {
      "image/png": "[encoded data removed]",
      "text/plain": [
       "<Figure size 210x340 with 1 Axes>"
      ]
     },
     "metadata": {},
     "output_type": "display_data"
    }
   ],
   "source": [
    "#plt.figure(figsize=(1+0.3*v.shape[0],3.4))\n",
    "plt.figure(figsize=(1+0.22*v.shape[0],3.4))\n",
    "plt.bar(x-0.5*ws, n0+1, width=ws, color=colors[1], label=\"without context\")\n",
    "plt.bar(x+0.5*ws, n1+1, width=ws, color=colors[0], label=\"with context\")\n",
    "plt.xticks(x, [n+str(i) for n,i in zip(rn,v+1)], fontsize=12, weight='normal', rotation=90)\n",
    "plt.yticks(np.arange(15), np.arange(15))\n",
    "plt.xlim(-0.5, len(x)-0.5)\n",
    "plt.ylim(0.9, 14)\n",
    "plt.legend(loc='best', prop={'size': 10}, labelspacing=0.1)\n",
    "plt.xlabel('interface residue index')\n",
    "plt.ylabel('prediction rank')\n",
    "plt.tight_layout()\n",
    "plt.savefig(\"graphs/{}_{}_interface_prediction_rank.svg\".format(pdbid, itype))\n",
    "plt.show()"
   ]
  },
  {
   "cell_type": "code",
   "execution_count": 22,
   "id": "22ded561",
   "metadata": {},
   "outputs": [
    {
     "data": {
      "image/png": "[encoded data removed]",
      "text/plain": [
       "<Figure size 210x340 with 1 Axes>"
      ]
     },
     "metadata": {},
     "output_type": "display_data"
    },
    {
     "data": {
      "text/plain": [
       "{'recovery_rate_without_context': 0.2,\n",
       " 'recovery_rate_with_context': 0.4,\n",
       " 'maximum_recovery_rate_without_context': 0.6,\n",
       " 'maximum_recovery_rate_with_context': 1.0}"
      ]
     },
     "execution_count": 22,
     "metadata": {},
     "output_type": "execute_result"
    }
   ],
   "source": [
    "# parameters\n",
    "ws = 0.3\n",
    "itype = \"na\"\n",
    "\n",
    "# extract data\n",
    "v, y0, y1, p0, p1, c0, c1, n0, n1, rn = interfaces[itype]\n",
    "\n",
    "# select residues\n",
    "idsu = np.unique(v, return_index=True)[1]\n",
    "m = np.isin(v[idsu]+1, resids_sel)\n",
    "v = v[idsu][m]\n",
    "y0 = y0[idsu][m]\n",
    "y1 = y1[idsu][m]\n",
    "p0 = p0[idsu][m]\n",
    "p1 = p1[idsu][m]\n",
    "c0 = c0[idsu][m]\n",
    "c1 = c1[idsu][m]\n",
    "rn = rn[idsu][m]\n",
    "x = np.arange(v.shape[0])\n",
    "\n",
    "#m0 = ((y0 < 0.5) & (y1 > 0.5)).astype(float)\n",
    "#m1 = (y0 < y1).astype(float)\n",
    "#ids = np.argsort(2*y1-p1 + (y1-y0) + (p1 == y1).astype(float))\n",
    "#ids = np.argsort(1e1*c1 + c0)\n",
    "ids = np.argsort(np.maximum(c1, c0))\n",
    "v = v[ids]\n",
    "rn = rn[ids]\n",
    "#y0 = y0[ids]\n",
    "#y1 = y1[ids]\n",
    "c0 = c0[ids]\n",
    "c1 = c1[ids]\n",
    "\n",
    "# plot\n",
    "#plt.figure(figsize=(10,2.4))\n",
    "#plt.figure(figsize=(3,2.4))\n",
    "#plt.figure(figsize=(1+0.3*v.shape[0],2.4))\n",
    "#plt.figure(figsize=(1+0.3*v.shape[0],3.4))\n",
    "plt.figure(figsize=(1+0.22*v.shape[0],3.4))\n",
    "#plt.bar(x-0.5*ws, p0, width=ws, color=colors[3], alpha=0.5)\n",
    "plt.bar(x-0.5*ws, c0, width=ws, color=colors[1], label=\"without context\")\n",
    "#plt.bar(x+0.5*ws, p1, width=ws, color=colors[3], alpha=0.5)\n",
    "plt.bar(x+0.5*ws, c1, width=ws, color=colors[0], label=\"with context\")\n",
    "#for i in range(p0.shape[0]):\n",
    "#    plt.plot([x[i]-ws*0.9, x[i]-0.1*ws], [p0[i], p0[i]], 'k-', alpha=0.5)\n",
    "#    plt.plot([x[i]+ws*0.1, x[i]+0.9*ws], [p1[i], p1[i]], 'k-', alpha=0.5)\n",
    "#plt.plot([-0.5, len(x)-0.5], [0.5, 0.5], 'k-', alpha=0.5)\n",
    "#plt.xticks(x, v+1)\n",
    "plt.xticks(x, [n+str(i) for n,i in zip(rn,v+1)], fontsize=12, weight='normal', rotation=90)\n",
    "#plt.yticks(np.linspace(0.5, 1.0, 6), np.linspace(0.5, 1.0, 6))\n",
    "plt.xlim(-0.5, len(x)-0.5)\n",
    "plt.ylim(0.0, 1.0)\n",
    "plt.legend(loc='best', prop={'size': 10}, labelspacing=0.1)\n",
    "plt.xlabel('interface amino acid index')\n",
    "plt.ylabel('estimated probability')\n",
    "plt.tight_layout()\n",
    "plt.savefig(\"graphs/{}_{}_interface_prediction_probability.svg\".format(pdbid, itype))\n",
    "plt.show()\n",
    "\n",
    "# save statistics\n",
    "summary = {\n",
    "    'recovery_rate_without_context': np.mean(p0 == y0),\n",
    "    'recovery_rate_with_context': np.mean(p1 == y1),\n",
    "    'maximum_recovery_rate_without_context': np.mean(y0 >= 0.5),\n",
    "    'maximum_recovery_rate_with_context': np.mean(y1 >= 0.5),\n",
    "}\n",
    "json.dump(summary, open(\"results/{}_{}_interface_prediction.json\".format(pdbid, itype), 'w'))\n",
    "summary"
   ]
  },
  {
   "cell_type": "code",
   "execution_count": 13,
   "id": "4de677e2",
   "metadata": {},
   "outputs": [
    {
     "data": {
      "text/plain": [
       "0.4102395444415074"
      ]
     },
     "execution_count": 13,
     "metadata": {},
     "output_type": "execute_result"
    }
   ],
   "source": [
    "np.mean(c1)"
   ]
  },
  {
   "cell_type": "code",
   "execution_count": null,
   "id": "20483e7c",
   "metadata": {},
   "outputs": [],
   "source": []
  },
  {
   "cell_type": "code",
   "execution_count": null,
   "id": "95b29ff7",
   "metadata": {},
   "outputs": [],
   "source": []
  },
  {
   "cell_type": "code",
   "execution_count": null,
   "id": "6c7789db",
   "metadata": {},
   "outputs": [],
   "source": []
  }
 ],
 "metadata": {
  "kernelspec": {
   "display_name": "carbonara",
   "language": "python",
   "name": "python3"
  },
  "language_info": {
   "codemirror_mode": {
    "name": "ipython",
    "version": 3
   },
   "file_extension": ".py",
   "mimetype": "text/x-python",
   "name": "python",
   "nbconvert_exporter": "python",
   "pygments_lexer": "ipython3",
   "version": "3.9.16"
  }
 },
 "nbformat": 4,
 "nbformat_minor": 5
}
