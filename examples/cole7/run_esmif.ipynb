{
 "cells": [
  {
   "cell_type": "code",
   "execution_count": 1,
   "metadata": {},
   "outputs": [],
   "source": [
    "import os\n",
    "\n",
    "import esm.inverse_folding"
   ]
  },
  {
   "cell_type": "code",
   "execution_count": 2,
   "metadata": {},
   "outputs": [
    {
     "name": "stderr",
     "output_type": "stream",
     "text": [
      "/home/khaos/miniforge/envs/inverse/lib/python3.9/site-packages/esm/pretrained.py:215: UserWarning: Regression weights not found, predicting contacts will not produce correct results.\n",
      "  warnings.warn(\n"
     ]
    }
   ],
   "source": [
    "# load model\n",
    "model, alphabet = esm.pretrained.esm_if1_gvp4_t16_142M_UR50()\n",
    "model = model.eval()"
   ]
  },
  {
   "cell_type": "code",
   "execution_count": 3,
   "metadata": {},
   "outputs": [],
   "source": [
    "# locate benchark structures\n",
    "pdb_filepath = \"pdbs/1zns_2ivh_dna_prot.pdb\"\n",
    "\n",
    "# load structure\n",
    "structure = esm.inverse_folding.util.load_structure(pdb_filepath)\n",
    "coords, seq = esm.inverse_folding.util.extract_coords_from_structure(structure)\n",
    "\n",
    "# sample sequence\n",
    "sampled_seq = model.sample(coords, temperature=1e-6)\n",
    "\n",
    "# save sequence\n",
    "sid = os.path.basename(pdb_filepath).split('.')[0]\n",
    "with open(\"results/cole7/esm-if1.fasta\", 'w') as fs:\n",
    "    fs.write(\">{}\\n{}\".format(\"ColE7\", sampled_seq))"
   ]
  },
  {
   "cell_type": "code",
   "execution_count": 4,
   "metadata": {},
   "outputs": [
    {
     "data": {
      "text/plain": [
       "118"
      ]
     },
     "execution_count": 4,
     "metadata": {},
     "output_type": "execute_result"
    }
   ],
   "source": [
    "len(sampled_seq)"
   ]
  },
  {
   "cell_type": "code",
   "execution_count": null,
   "metadata": {},
   "outputs": [],
   "source": []
  },
  {
   "cell_type": "code",
   "execution_count": null,
   "metadata": {},
   "outputs": [],
   "source": []
  }
 ],
 "metadata": {
  "kernelspec": {
   "display_name": "inverse",
   "language": "python",
   "name": "python3"
  },
  "language_info": {
   "codemirror_mode": {
    "name": "ipython",
    "version": 3
   },
   "file_extension": ".py",
   "mimetype": "text/x-python",
   "name": "python",
   "nbconvert_exporter": "python",
   "pygments_lexer": "ipython3",
   "version": "3.9.18"
  },
  "orig_nbformat": 4,
  "vscode": {
   "interpreter": {
    "hash": "32547dd0a401af0df669910cc18f2b4ebc580c087062db0dc7fdfcb29032b269"
   }
  }
 },
 "nbformat": 4,
 "nbformat_minor": 2
}
