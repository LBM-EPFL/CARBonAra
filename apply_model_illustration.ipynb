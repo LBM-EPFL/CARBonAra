{
 "cells": [
  {
   "cell_type": "code",
   "execution_count": 1,
   "id": "87ee322a-3011-4a1b-bd30-34da1dcae861",
   "metadata": {},
   "outputs": [],
   "source": [
    "import os\n",
    "import numpy as np\n",
    "import torch as pt\n",
    "import matplotlib.pyplot as plt\n",
    "from tqdm import tqdm\n",
    "from glob import glob\n",
    "from matplotlib import rcParams\n",
    "\n",
    "import src as sp\n",
    "import runtime as rt\n",
    "from theme import colors\n",
    "\n",
    "# font parameters\n",
    "rcParams['font.family'] = 'sans-serif'\n",
    "rcParams['font.sans-serif'] = ['Arial']\n",
    "rcParams['font.size'] = 12"
   ]
  },
  {
   "cell_type": "code",
   "execution_count": 2,
   "id": "97cccbc6-6305-447a-8906-08f5293309f1",
   "metadata": {},
   "outputs": [],
   "source": [
    "# parameters\n",
    "device = pt.device(\"cpu\")\n",
    "min_id = True \n",
    "min_sim = False \n",
    "r_noise = 0.0\n",
    "n_sample = 1\n",
    "\n",
    "# locate filepaths\n",
    "pdb_filepath = \"examples/2oob.pdb\"\n",
    "\n",
    "# output path\n",
    "output_path = \"examples\"\n",
    "\n",
    "# model parameters\n",
    "# r6\n",
    "save_path = \"model/save/s_v6_4_2022-09-16_11-51\"  # virtual Cb & partial\n",
    "#save_path = \"model/save/s_v6_5_2022-09-16_11-52\"  # virtual Cb, partial & noise\n",
    "\n",
    "# r7\n",
    "#save_path = \"model/save/s_v7_0_2023-04-25\"  # partial chain\n",
    "#save_path = \"model/save/s_v7_1_2023-04-25\"  # partial secondary structure\n",
    "#save_path = \"model/save/s_v7_2_2023-04-25\"  # partial chain high coverage\n",
    "\n",
    "# create runtime model \n",
    "model = rt.SequenceModel(save_path, \"model.pt\", device=device)\n",
    "\n",
    "# create confidence mapping\n",
    "conf = rt.ConfidenceMap(\"results/{}_cdf.csv\".format(os.path.basename(save_path)))"
   ]
  },
  {
   "cell_type": "code",
   "execution_count": 3,
   "id": "37b0912f",
   "metadata": {},
   "outputs": [
    {
     "name": "stdout",
     "output_type": "stream",
     "text": [
      "2oob, 0.569\n"
     ]
    }
   ],
   "source": [
    "# load structure\n",
    "structure = rt.load_structure(pdb_filepath)\n",
    "\n",
    "# find all chains\n",
    "cids = [cid.split(':')[0] for cid in np.unique(structure['chain_name'])]\n",
    "\n",
    "# design one chain at a time\n",
    "for cid in cids:\n",
    "    # known chains\n",
    "    m_known = ~np.isin([cn.split(':')[0] for cn in structure['chain_name']], [cid])\n",
    "\n",
    "    # apply noise\n",
    "    r = pt.randn((structure['xyz'].shape[0], n_sample, structure['xyz'].shape[1])).numpy()\n",
    "    structure['xyz'] = np.expand_dims(structure['xyz'],1) + r_noise * r\n",
    "    \n",
    "    # apply model\n",
    "    structure, P, y = model(structure, m_known=m_known)\n",
    "\n",
    "    # get highest average confidence prediction\n",
    "    if len(P.shape) > 2:\n",
    "        C = np.stack([conf(P[i].numpy()) for i in range(P.shape[0])])\n",
    "        iopt = np.argmax(np.mean(np.max(C, axis=2), axis=1))\n",
    "        p = P[iopt]\n",
    "    else:\n",
    "        p = P\n",
    "\n",
    "    # amino acid only\n",
    "    p, y = rt.aa_only(p, y)\n",
    "    \n",
    "    # find residues per chain and known residues\n",
    "    mr_chains, chain_names = rt.chain_masks(structure)\n",
    "    mr_known = pt.any(mr_chains[:,pt.from_numpy(~np.isin(chain_names, [cid]))], dim=1)\n",
    "    \n",
    "    # overwrite prediction\n",
    "    p[mr_known] = y[mr_known]\n",
    "    \n",
    "    if min_id:\n",
    "        # minimize sequence identity\n",
    "        m_choice = (pt.sum(pt.round(p), dim=1) > 1.0)\n",
    "        p[m_choice, pt.argmax(y, dim=1)[m_choice]] = 0.0\n",
    "\n",
    "    # get sequence\n",
    "    if min_sim:\n",
    "        seqs = [rt.minimize_sequence_similarity(p[mr_chains[:,i]], y[mr_chains[:,i]])[0] for i in range(mr_chains.shape[1])]\n",
    "    else:\n",
    "        seqs = [rt.max_pred_to_seq(p[mr_chains[:,i]]) for i in range(mr_chains.shape[1])]\n",
    "\n",
    "    # subunits ids\n",
    "    sid = os.path.basename(pdb_filepath).split('.')[0]\n",
    "    \n",
    "    # write fasta\n",
    "    rt.write_fasta(os.path.join(output_path, \"{}.fasta\".format(sid)), ':'.join(seqs), info=os.path.basename(save_path))\n",
    "\n",
    "    # store processed input structure\n",
    "    structure['xyz'] = structure['xyz'][:,0]\n",
    "    sp.save_pdb(sp.split_by_chain(structure), pdb_filepath[:-4]+\"_bb.pdb\")\n",
    "    \n",
    "    # debug\n",
    "    print(\"{}, {:.3f}\".format(sid, rt.recovery_rate(y, p)))"
   ]
  },
  {
   "cell_type": "code",
   "execution_count": 4,
   "id": "301ddac2",
   "metadata": {},
   "outputs": [
    {
     "data": {
      "text/plain": [
       "array([[1.6557662e-05, 6.6070847e-06, 8.8731313e-06, ..., 1.0002410e-06,\n",
       "        9.9989450e-01, 1.1719677e-03],\n",
       "       [3.9891093e-03, 2.1650828e-01, 1.6383120e-01, ..., 1.0383289e-03,\n",
       "        8.2190681e-01, 2.8817778e-02],\n",
       "       [1.6450525e-05, 1.9812245e-09, 5.9724414e-10, ..., 1.9969909e-10,\n",
       "        6.6288776e-05, 8.8716231e-05],\n",
       "       ...,\n",
       "       [3.8592119e-02, 8.6229318e-01, 5.4685014e-01, ..., 2.3258489e-02,\n",
       "        3.5696205e-01, 7.1456730e-02],\n",
       "       [0.0000000e+00, 3.2960609e-02, 2.3056610e-02, ..., 4.0230895e-03,\n",
       "        1.5380198e-01, 1.2384006e-02],\n",
       "       [2.3346663e-01, 3.2726370e-02, 0.0000000e+00, ..., 1.5756104e-03,\n",
       "        1.3237478e-01, 2.1464434e-01]], dtype=float32)"
      ]
     },
     "execution_count": 4,
     "metadata": {},
     "output_type": "execute_result"
    },
    {
     "data": {
      "text/plain": [
       "<Figure size 640x480 with 0 Axes>"
      ]
     },
     "metadata": {},
     "output_type": "display_data"
    }
   ],
   "source": [
    "plt.figure()\n",
    "plt.imshow\n",
    "p.numpy()"
   ]
  },
  {
   "cell_type": "code",
   "execution_count": 23,
   "id": "f0bc7927",
   "metadata": {},
   "outputs": [
    {
     "data": {
      "image/png": "[encoded data removed]",
      "text/plain": [
       "<Figure size 1200x360 with 2 Axes>"
      ]
     },
     "metadata": {},
     "output_type": "display_data"
    }
   ],
   "source": [
    "# get residue numbering\n",
    "resids = structure['resid'][structure['name'] == 'CA']\n",
    "\n",
    "# plot\n",
    "plt.figure(figsize=(12,3.6))\n",
    "plt.imshow(p.numpy().T, cmap='coolwarm', vmin=0.0, vmax=1.0)\n",
    "#plt.xticks(np.arange(p.shape[0])[::1], resids[::1])\n",
    "plt.xticks(np.arange(p.shape[0])[::1], '')\n",
    "plt.yticks(np.arange(20), [sp.res3to1[r] for r in sp.std_resnames[:20]], ha='right')\n",
    "cbar = plt.colorbar(ticks=[0.0, 0.5, 1.0])\n",
    "#plt.xlabel('amino acid position')\n",
    "#plt.ylabel('predicted amino-acid')\n",
    "#plt.title('prediction confidence')\n",
    "plt.tight_layout()\n",
    "plt.savefig(\"graphs/illustration_confidence.svg\")\n",
    "plt.show()"
   ]
  },
  {
   "cell_type": "code",
   "execution_count": null,
   "id": "bf3b8992",
   "metadata": {},
   "outputs": [],
   "source": []
  },
  {
   "cell_type": "code",
   "execution_count": null,
   "id": "030c1fcd",
   "metadata": {},
   "outputs": [],
   "source": []
  },
  {
   "cell_type": "code",
   "execution_count": null,
   "id": "83e5d0ee",
   "metadata": {},
   "outputs": [],
   "source": []
  }
 ],
 "metadata": {
  "kernelspec": {
   "display_name": "pesto",
   "language": "python",
   "name": "python3"
  },
  "language_info": {
   "codemirror_mode": {
    "name": "ipython",
    "version": 3
   },
   "file_extension": ".py",
   "mimetype": "text/x-python",
   "name": "python",
   "nbconvert_exporter": "python",
   "pygments_lexer": "ipython3",
   "version": "3.9.16"
  },
  "vscode": {
   "interpreter": {
    "hash": "bf85cdb381f6f4fc647273628ca49ec40f7118f44e043724f0e421e3e1c8d444"
   }
  }
 },
 "nbformat": 4,
 "nbformat_minor": 5
}
